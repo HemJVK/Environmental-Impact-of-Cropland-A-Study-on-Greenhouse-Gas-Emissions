{
 "cells": [
  {
   "cell_type": "code",
   "execution_count": 1,
   "metadata": {},
   "outputs": [],
   "source": [
    "from shapely.wkt import loads\n",
    "import geojson\n",
    "import geopandas as gpd\n",
    "import pandas as pd\n",
    "import json\n",
    "from shapely.geometry import Polygon\n",
    "from collections import defaultdict\n",
    "import plotly.express as px\n",
    "import plotly.graph_objects as go\n"
   ]
  },
  {
   "cell_type": "code",
   "execution_count": 2,
   "metadata": {},
   "outputs": [],
   "source": [
    "cropland_fires = pd.read_csv('cropland_fires.csv')"
   ]
  },
  {
   "cell_type": "code",
   "execution_count": 3,
   "metadata": {},
   "outputs": [],
   "source": [
    "def wkt_to_geojson(wkt):\n",
    "    # Load the WKT string into a Shapely geometry object\n",
    "    geometry = loads(wkt)\n",
    "    \n",
    "    # Convert the Shapely geometry to GeoJSON format\n",
    "    geojson_feature = geojson.Feature(geometry=geometry)\n",
    "    \n",
    "    # Return the GeoJSON representation\n",
    "    return geojson.dumps(geojson_feature)"
   ]
  },
  {
   "cell_type": "code",
   "execution_count": 4,
   "metadata": {},
   "outputs": [],
   "source": [
    "cropland_fires['geojson'] = cropland_fires['st_astext'].apply(wkt_to_geojson)"
   ]
  },
  {
   "cell_type": "code",
   "execution_count": 5,
   "metadata": {},
   "outputs": [],
   "source": [
    "india_df =  cropland_fires[cropland_fires['country'] == 'India']"
   ]
  },
  {
   "cell_type": "code",
   "execution_count": 6,
   "metadata": {},
   "outputs": [
    {
     "name": "stderr",
     "output_type": "stream",
     "text": [
      "/tmp/ipykernel_16874/1585570770.py:1: SettingWithCopyWarning: \n",
      "A value is trying to be set on a copy of a slice from a DataFrame\n",
      "\n",
      "See the caveats in the documentation: https://pandas.pydata.org/pandas-docs/stable/user_guide/indexing.html#returning-a-view-versus-a-copy\n",
      "  india_df.drop(columns=['iso3_country', 'country', 'asset_name','Unnamed: 0', 'gas_ch4','gas_co2','gas_n2o','gas_co2e_20yr','gas_co2e_100yr','gas_n2o'],inplace=True)\n"
     ]
    },
    {
     "data": {
      "text/html": [
       "<div>\n",
       "<style scoped>\n",
       "    .dataframe tbody tr th:only-of-type {\n",
       "        vertical-align: middle;\n",
       "    }\n",
       "\n",
       "    .dataframe tbody tr th {\n",
       "        vertical-align: top;\n",
       "    }\n",
       "\n",
       "    .dataframe thead th {\n",
       "        text-align: right;\n",
       "    }\n",
       "</style>\n",
       "<table border=\"1\" class=\"dataframe\">\n",
       "  <thead>\n",
       "    <tr style=\"text-align: right;\">\n",
       "      <th></th>\n",
       "      <th>asset_id</th>\n",
       "      <th>start_time</th>\n",
       "      <th>end_time</th>\n",
       "      <th>gas</th>\n",
       "      <th>emissions_quantity</th>\n",
       "      <th>emissions_factor</th>\n",
       "      <th>capacity</th>\n",
       "      <th>activity</th>\n",
       "      <th>st_astext</th>\n",
       "      <th>state</th>\n",
       "      <th>month</th>\n",
       "      <th>year</th>\n",
       "      <th>geojson</th>\n",
       "    </tr>\n",
       "  </thead>\n",
       "  <tbody>\n",
       "    <tr>\n",
       "      <th>1746</th>\n",
       "      <td>1834587053</td>\n",
       "      <td>2015-04-01</td>\n",
       "      <td>2015-04-30 00:00:00</td>\n",
       "      <td>co2</td>\n",
       "      <td>124.098134</td>\n",
       "      <td>1440.0</td>\n",
       "      <td>7.29</td>\n",
       "      <td>1.0</td>\n",
       "      <td>POLYGON((85.875 21.625,85.875 21.875,86.125 21...</td>\n",
       "      <td>Odisha</td>\n",
       "      <td>4</td>\n",
       "      <td>2015</td>\n",
       "      <td>{\"type\": \"Feature\", \"geometry\": {\"type\": \"Poly...</td>\n",
       "    </tr>\n",
       "    <tr>\n",
       "      <th>1747</th>\n",
       "      <td>1834587053</td>\n",
       "      <td>2015-04-01</td>\n",
       "      <td>2015-04-30 00:00:00</td>\n",
       "      <td>ch4</td>\n",
       "      <td>0.633308</td>\n",
       "      <td>5.7</td>\n",
       "      <td>7.29</td>\n",
       "      <td>1.0</td>\n",
       "      <td>POLYGON((85.875 21.625,85.875 21.875,86.125 21...</td>\n",
       "      <td>Odisha</td>\n",
       "      <td>4</td>\n",
       "      <td>2015</td>\n",
       "      <td>{\"type\": \"Feature\", \"geometry\": {\"type\": \"Poly...</td>\n",
       "    </tr>\n",
       "    <tr>\n",
       "      <th>1748</th>\n",
       "      <td>1834587053</td>\n",
       "      <td>2015-04-01</td>\n",
       "      <td>2015-04-30 00:00:00</td>\n",
       "      <td>n2o</td>\n",
       "      <td>0.007539</td>\n",
       "      <td>0.1</td>\n",
       "      <td>7.29</td>\n",
       "      <td>1.0</td>\n",
       "      <td>POLYGON((85.875 21.625,85.875 21.875,86.125 21...</td>\n",
       "      <td>Odisha</td>\n",
       "      <td>4</td>\n",
       "      <td>2015</td>\n",
       "      <td>{\"type\": \"Feature\", \"geometry\": {\"type\": \"Poly...</td>\n",
       "    </tr>\n",
       "    <tr>\n",
       "      <th>1749</th>\n",
       "      <td>1834587053</td>\n",
       "      <td>2015-04-01</td>\n",
       "      <td>2015-04-30 00:00:00</td>\n",
       "      <td>co2e_100yr</td>\n",
       "      <td>143.825666</td>\n",
       "      <td>0.1</td>\n",
       "      <td>7.29</td>\n",
       "      <td>1.0</td>\n",
       "      <td>POLYGON((85.875 21.625,85.875 21.875,86.125 21...</td>\n",
       "      <td>Odisha</td>\n",
       "      <td>4</td>\n",
       "      <td>2015</td>\n",
       "      <td>{\"type\": \"Feature\", \"geometry\": {\"type\": \"Poly...</td>\n",
       "    </tr>\n",
       "    <tr>\n",
       "      <th>1750</th>\n",
       "      <td>1834587053</td>\n",
       "      <td>2015-04-01</td>\n",
       "      <td>2015-04-30 00:00:00</td>\n",
       "      <td>co2e_20yr</td>\n",
       "      <td>177.580962</td>\n",
       "      <td>0.1</td>\n",
       "      <td>7.29</td>\n",
       "      <td>1.0</td>\n",
       "      <td>POLYGON((85.875 21.625,85.875 21.875,86.125 21...</td>\n",
       "      <td>Odisha</td>\n",
       "      <td>4</td>\n",
       "      <td>2015</td>\n",
       "      <td>{\"type\": \"Feature\", \"geometry\": {\"type\": \"Poly...</td>\n",
       "    </tr>\n",
       "    <tr>\n",
       "      <th>...</th>\n",
       "      <td>...</td>\n",
       "      <td>...</td>\n",
       "      <td>...</td>\n",
       "      <td>...</td>\n",
       "      <td>...</td>\n",
       "      <td>...</td>\n",
       "      <td>...</td>\n",
       "      <td>...</td>\n",
       "      <td>...</td>\n",
       "      <td>...</td>\n",
       "      <td>...</td>\n",
       "      <td>...</td>\n",
       "      <td>...</td>\n",
       "    </tr>\n",
       "    <tr>\n",
       "      <th>9998739</th>\n",
       "      <td>1834585365</td>\n",
       "      <td>2021-07-01</td>\n",
       "      <td>2021-07-31 00:00:00</td>\n",
       "      <td>co2</td>\n",
       "      <td>8.341301</td>\n",
       "      <td>1440.0</td>\n",
       "      <td>0.49</td>\n",
       "      <td>0.5</td>\n",
       "      <td>POLYGON((76.125 28.125,76.125 28.375,76.375 28...</td>\n",
       "      <td>Haryana</td>\n",
       "      <td>7</td>\n",
       "      <td>2021</td>\n",
       "      <td>{\"type\": \"Feature\", \"geometry\": {\"type\": \"Poly...</td>\n",
       "    </tr>\n",
       "    <tr>\n",
       "      <th>9998743</th>\n",
       "      <td>1834585365</td>\n",
       "      <td>2021-07-01</td>\n",
       "      <td>2021-07-31 00:00:00</td>\n",
       "      <td>ch4</td>\n",
       "      <td>0.042568</td>\n",
       "      <td>5.7</td>\n",
       "      <td>0.49</td>\n",
       "      <td>0.5</td>\n",
       "      <td>POLYGON((76.125 28.125,76.125 28.375,76.375 28...</td>\n",
       "      <td>Haryana</td>\n",
       "      <td>7</td>\n",
       "      <td>2021</td>\n",
       "      <td>{\"type\": \"Feature\", \"geometry\": {\"type\": \"Poly...</td>\n",
       "    </tr>\n",
       "    <tr>\n",
       "      <th>9998754</th>\n",
       "      <td>1834585365</td>\n",
       "      <td>2021-07-01</td>\n",
       "      <td>2021-07-31 00:00:00</td>\n",
       "      <td>n2o</td>\n",
       "      <td>0.000507</td>\n",
       "      <td>0.1</td>\n",
       "      <td>0.49</td>\n",
       "      <td>0.5</td>\n",
       "      <td>POLYGON((76.125 28.125,76.125 28.375,76.375 28...</td>\n",
       "      <td>Haryana</td>\n",
       "      <td>7</td>\n",
       "      <td>2021</td>\n",
       "      <td>{\"type\": \"Feature\", \"geometry\": {\"type\": \"Poly...</td>\n",
       "    </tr>\n",
       "    <tr>\n",
       "      <th>9998758</th>\n",
       "      <td>1834585365</td>\n",
       "      <td>2021-07-01</td>\n",
       "      <td>2021-07-31 00:00:00</td>\n",
       "      <td>co2e_100yr</td>\n",
       "      <td>9.667294</td>\n",
       "      <td>0.1</td>\n",
       "      <td>0.49</td>\n",
       "      <td>0.5</td>\n",
       "      <td>POLYGON((76.125 28.125,76.125 28.375,76.375 28...</td>\n",
       "      <td>Haryana</td>\n",
       "      <td>7</td>\n",
       "      <td>2021</td>\n",
       "      <td>{\"type\": \"Feature\", \"geometry\": {\"type\": \"Poly...</td>\n",
       "    </tr>\n",
       "    <tr>\n",
       "      <th>9998762</th>\n",
       "      <td>1834585365</td>\n",
       "      <td>2021-07-01</td>\n",
       "      <td>2021-07-31 00:00:00</td>\n",
       "      <td>co2e_20yr</td>\n",
       "      <td>11.936169</td>\n",
       "      <td>0.1</td>\n",
       "      <td>0.49</td>\n",
       "      <td>0.5</td>\n",
       "      <td>POLYGON((76.125 28.125,76.125 28.375,76.375 28...</td>\n",
       "      <td>Haryana</td>\n",
       "      <td>7</td>\n",
       "      <td>2021</td>\n",
       "      <td>{\"type\": \"Feature\", \"geometry\": {\"type\": \"Poly...</td>\n",
       "    </tr>\n",
       "  </tbody>\n",
       "</table>\n",
       "<p>762635 rows × 13 columns</p>\n",
       "</div>"
      ],
      "text/plain": [
       "           asset_id  start_time             end_time         gas  \\\n",
       "1746     1834587053  2015-04-01  2015-04-30 00:00:00         co2   \n",
       "1747     1834587053  2015-04-01  2015-04-30 00:00:00         ch4   \n",
       "1748     1834587053  2015-04-01  2015-04-30 00:00:00         n2o   \n",
       "1749     1834587053  2015-04-01  2015-04-30 00:00:00  co2e_100yr   \n",
       "1750     1834587053  2015-04-01  2015-04-30 00:00:00   co2e_20yr   \n",
       "...             ...         ...                  ...         ...   \n",
       "9998739  1834585365  2021-07-01  2021-07-31 00:00:00         co2   \n",
       "9998743  1834585365  2021-07-01  2021-07-31 00:00:00         ch4   \n",
       "9998754  1834585365  2021-07-01  2021-07-31 00:00:00         n2o   \n",
       "9998758  1834585365  2021-07-01  2021-07-31 00:00:00  co2e_100yr   \n",
       "9998762  1834585365  2021-07-01  2021-07-31 00:00:00   co2e_20yr   \n",
       "\n",
       "         emissions_quantity  emissions_factor  capacity  activity  \\\n",
       "1746             124.098134            1440.0      7.29       1.0   \n",
       "1747               0.633308               5.7      7.29       1.0   \n",
       "1748               0.007539               0.1      7.29       1.0   \n",
       "1749             143.825666               0.1      7.29       1.0   \n",
       "1750             177.580962               0.1      7.29       1.0   \n",
       "...                     ...               ...       ...       ...   \n",
       "9998739            8.341301            1440.0      0.49       0.5   \n",
       "9998743            0.042568               5.7      0.49       0.5   \n",
       "9998754            0.000507               0.1      0.49       0.5   \n",
       "9998758            9.667294               0.1      0.49       0.5   \n",
       "9998762           11.936169               0.1      0.49       0.5   \n",
       "\n",
       "                                                 st_astext    state  month  \\\n",
       "1746     POLYGON((85.875 21.625,85.875 21.875,86.125 21...   Odisha      4   \n",
       "1747     POLYGON((85.875 21.625,85.875 21.875,86.125 21...   Odisha      4   \n",
       "1748     POLYGON((85.875 21.625,85.875 21.875,86.125 21...   Odisha      4   \n",
       "1749     POLYGON((85.875 21.625,85.875 21.875,86.125 21...   Odisha      4   \n",
       "1750     POLYGON((85.875 21.625,85.875 21.875,86.125 21...   Odisha      4   \n",
       "...                                                    ...      ...    ...   \n",
       "9998739  POLYGON((76.125 28.125,76.125 28.375,76.375 28...  Haryana      7   \n",
       "9998743  POLYGON((76.125 28.125,76.125 28.375,76.375 28...  Haryana      7   \n",
       "9998754  POLYGON((76.125 28.125,76.125 28.375,76.375 28...  Haryana      7   \n",
       "9998758  POLYGON((76.125 28.125,76.125 28.375,76.375 28...  Haryana      7   \n",
       "9998762  POLYGON((76.125 28.125,76.125 28.375,76.375 28...  Haryana      7   \n",
       "\n",
       "         year                                            geojson  \n",
       "1746     2015  {\"type\": \"Feature\", \"geometry\": {\"type\": \"Poly...  \n",
       "1747     2015  {\"type\": \"Feature\", \"geometry\": {\"type\": \"Poly...  \n",
       "1748     2015  {\"type\": \"Feature\", \"geometry\": {\"type\": \"Poly...  \n",
       "1749     2015  {\"type\": \"Feature\", \"geometry\": {\"type\": \"Poly...  \n",
       "1750     2015  {\"type\": \"Feature\", \"geometry\": {\"type\": \"Poly...  \n",
       "...       ...                                                ...  \n",
       "9998739  2021  {\"type\": \"Feature\", \"geometry\": {\"type\": \"Poly...  \n",
       "9998743  2021  {\"type\": \"Feature\", \"geometry\": {\"type\": \"Poly...  \n",
       "9998754  2021  {\"type\": \"Feature\", \"geometry\": {\"type\": \"Poly...  \n",
       "9998758  2021  {\"type\": \"Feature\", \"geometry\": {\"type\": \"Poly...  \n",
       "9998762  2021  {\"type\": \"Feature\", \"geometry\": {\"type\": \"Poly...  \n",
       "\n",
       "[762635 rows x 13 columns]"
      ]
     },
     "execution_count": 6,
     "metadata": {},
     "output_type": "execute_result"
    }
   ],
   "source": [
    "india_df.drop(columns=['iso3_country', 'country', 'asset_name','Unnamed: 0', 'gas_ch4','gas_co2','gas_n2o','gas_co2e_20yr','gas_co2e_100yr','gas_n2o'],inplace=True)\n",
    "india_df"
   ]
  },
  {
   "cell_type": "code",
   "execution_count": 7,
   "metadata": {},
   "outputs": [],
   "source": [
    "def add_state_to_geojson(df):\n",
    "    updated_geojson_list = []\n",
    "\n",
    "    for _, row in df.iterrows():\n",
    "        # Parse the GeoJSON string to a dictionary\n",
    "        geojson_data = json.loads(row['geojson'])\n",
    "        state_name = row['state']\n",
    "\n",
    "        # Update properties\n",
    "        geojson_data['properties']['state'] = state_name\n",
    "        updated_geojson_list.append(geojson_data)\n",
    "\n",
    "    return updated_geojson_list"
   ]
  },
  {
   "cell_type": "code",
   "execution_count": 8,
   "metadata": {},
   "outputs": [
    {
     "name": "stderr",
     "output_type": "stream",
     "text": [
      "/tmp/ipykernel_16874/2334827511.py:1: SettingWithCopyWarning: \n",
      "A value is trying to be set on a copy of a slice from a DataFrame.\n",
      "Try using .loc[row_indexer,col_indexer] = value instead\n",
      "\n",
      "See the caveats in the documentation: https://pandas.pydata.org/pandas-docs/stable/user_guide/indexing.html#returning-a-view-versus-a-copy\n",
      "  india_df['geojson'] = add_state_to_geojson(india_df)\n"
     ]
    }
   ],
   "source": [
    "india_df['geojson'] = add_state_to_geojson(india_df)\n",
    "\n",
    "# Display or save updated GeoJSON data as needed\n"
   ]
  },
  {
   "cell_type": "code",
   "execution_count": 43,
   "metadata": {},
   "outputs": [],
   "source": [
    "def create_emissions_map_plotly(data_df):\n",
    "    \"\"\"\n",
    "    Creates an interactive choropleth map of emissions data for Indian states with side labels\n",
    "    and prominent state borders\n",
    "    \n",
    "    Parameters:\n",
    "    data_df (pd.DataFrame): DataFrame containing emissions data with columns:\n",
    "        - state: State name\n",
    "        - gas: Type of gas\n",
    "        - emissions_quantity: Emission amount\n",
    "        - geojson: GeoJSON string or dictionary of state boundaries\n",
    "    \n",
    "    Returns:\n",
    "    dict: Dictionary of Plotly figures keyed by gas type\n",
    "    \"\"\"\n",
    "    import numpy as np\n",
    "    from shapely.geometry import shape, Point\n",
    "    import json\n",
    "    from collections import defaultdict\n",
    "    import plotly.graph_objects as go\n",
    "    from plotly.subplots import make_subplots\n",
    "    \n",
    "    # Process the data into state-wise emissions\n",
    "    emissions_by_state = defaultdict(dict)\n",
    "    # geojson_data = {\"type\": \"FeatureCollection\", \"features\": []}\n",
    "    processed_states = set()\n",
    "    \n",
    "    def get_feature_boundary_point(feature, offset_direction='right'):\n",
    "        \"\"\"\n",
    "        Calculate a point beside the state boundary for label placement\n",
    "        \"\"\"\n",
    "        try:\n",
    "            geometry = shape(feature['geometry'])\n",
    "            bounds = geometry.bounds\n",
    "            \n",
    "            # Get the rightmost or leftmost point of the boundary\n",
    "            if offset_direction == 'right':\n",
    "                x = bounds[2]  # maxx\n",
    "                y = (bounds[1] + bounds[3]) / 2  # middle y\n",
    "            else:\n",
    "                x = bounds[0]  # minx\n",
    "                y = (bounds[1] + bounds[3]) / 2  # middle y\n",
    "                \n",
    "            # Add a small offset\n",
    "            offset = 0.3  # Adjust this value to control label distance from boundary\n",
    "            if offset_direction == 'right':\n",
    "                x += offset\n",
    "            else:\n",
    "                x -= offset\n",
    "                \n",
    "            return [x, y]\n",
    "        except:\n",
    "            return None\n",
    "    \n",
    "    # Process data and calculate label positions\n",
    "    state_label_positions = {}\n",
    "    \n",
    "    for _, row in data_df.iterrows():\n",
    "        state = row['state']\n",
    "        gas = row['gas']\n",
    "        emissions = float(row['emissions_quantity'])\n",
    "        \n",
    "        if gas not in emissions_by_state[state] or emissions > emissions_by_state[state][gas]:\n",
    "            emissions_by_state[state][gas] = emissions\n",
    "        \n",
    "        if state not in processed_states:\n",
    "            try:\n",
    "                if isinstance(row['geojson'], str):\n",
    "                    state_geojson = json.loads(row['geojson'])\n",
    "                else:\n",
    "                    state_geojson = row['geojson']\n",
    "                \n",
    "                # Calculate label position for right side of state\n",
    "                label_pos = get_feature_boundary_point(state_geojson, 'right')\n",
    "                if label_pos:\n",
    "                    state_label_positions[state] = label_pos\n",
    "                \n",
    "                state_geojson['properties'] = {\n",
    "                    'state': state,\n",
    "                    'name': state\n",
    "                }\n",
    "                geojson_data['features'].append(state_geojson)\n",
    "                processed_states.add(state)\n",
    "                \n",
    "            except (json.JSONDecodeError, KeyError) as e:\n",
    "                print(f\"Error processing GeoJSON for state {state}: {e}\")\n",
    "                continue\n",
    "\n",
    "    gas_types = ['co2', 'ch4', 'n2o', 'co2e_100yr', 'co2e_20yr']\n",
    "    \n",
    "    def create_gas_map(gas_type):\n",
    "        # Create DataFrame for this gas type\n",
    "        data = []\n",
    "        for state, emissions in emissions_by_state.items():\n",
    "            if gas_type in emissions:\n",
    "                data.append({\n",
    "                    'state': state,\n",
    "                    'emissions': emissions[gas_type]\n",
    "                })\n",
    "        \n",
    "        if not data:\n",
    "            print(f\"No data found for {gas_type}\")\n",
    "            return None\n",
    "            \n",
    "        df = pd.DataFrame(data)\n",
    "        \n",
    "        # Create figure with secondary axis for labels\n",
    "        fig = make_subplots(specs=[[{\"secondary_y\": True}]])\n",
    "        \n",
    "        # Add choropleth map with enhanced borders\n",
    "        choropleth = go.Choropleth(\n",
    "            geojson=geojson_data,\n",
    "            locations=df['state'],\n",
    "            z=df['emissions'],\n",
    "            colorscale='Reds',\n",
    "            featureidkey='properties.state',\n",
    "            name=f'{gas_type.upper()} Emissions',\n",
    "            colorbar=dict(\n",
    "                title=f'{gas_type.upper()} Emissions',\n",
    "                thickness=20,\n",
    "                len=0.75,\n",
    "                y=0.5\n",
    "            ),\n",
    "            marker=dict(\n",
    "                line=dict(\n",
    "                    width=2,  # Increased border width\n",
    "                    color='rgb(50, 50, 50)'  # Darker border color\n",
    "                )\n",
    "            ),\n",
    "            hovertemplate=\"<b>%{location}</b><br>\" +\n",
    "                         f\"{gas_type.upper()} Emissions: %{{z:,.2f}}<br>\" +\n",
    "                         \"<extra></extra>\"\n",
    "        )\n",
    "        \n",
    "        # Add state labels using scattergeo\n",
    "        lat_list = []\n",
    "        lon_list = []\n",
    "        text_list = []\n",
    "        \n",
    "        for state in df['state']:\n",
    "            if state in state_label_positions:\n",
    "                lon, lat = state_label_positions[state]\n",
    "                lon_list.append(lon)\n",
    "                lat_list.append(lat)\n",
    "                text_list.append(state)\n",
    "        \n",
    "        # Add connecting lines between states and labels\n",
    "        lines = go.Scattergeo(\n",
    "            lon=[],\n",
    "            lat=[],\n",
    "            mode='lines',\n",
    "            line=dict(\n",
    "                width=0.5,\n",
    "                color='gray'\n",
    "            ),\n",
    "            showlegend=False\n",
    "        )\n",
    "        \n",
    "        # Add labels\n",
    "        labels = go.Scattergeo(\n",
    "            lon=lon_list,\n",
    "            lat=lat_list,\n",
    "            text=text_list,\n",
    "            mode='text',\n",
    "            textfont=dict(\n",
    "                size=10,\n",
    "                color='black',\n",
    "                family='Arial'\n",
    "            ),\n",
    "            textposition='middle right',\n",
    "            hoverinfo='skip',\n",
    "            showlegend=False\n",
    "        )\n",
    "        \n",
    "        # Add all traces to figure\n",
    "        fig.add_trace(choropleth)\n",
    "        fig.add_trace(lines)\n",
    "        fig.add_trace(labels)\n",
    "        \n",
    "        # Update layout with enhanced geo settings\n",
    "        fig.update_layout(\n",
    "            title=dict(\n",
    "                text=f'Maximum {gas_type.upper()} Emissions by State in India',\n",
    "                x=0.5,\n",
    "                xanchor='center',\n",
    "                font=dict(size=20)\n",
    "            ),\n",
    "            paper_bgcolor='white',\n",
    "            plot_bgcolor='white',\n",
    "            margin=dict(t=50, l=0, r=0, b=0),\n",
    "            height=800,\n",
    "            geo=dict(\n",
    "                visible=True,\n",
    "                showcoastlines=True,\n",
    "                coastlinecolor=\"rgb(50, 50, 50)\",  # Darker coastline color\n",
    "                coastlinewidth=2,  # Increased coastline width\n",
    "                showland=True,\n",
    "                landcolor=\"lightgray\",\n",
    "                showocean=True,\n",
    "                oceancolor=\"lightblue\",\n",
    "                showlakes=True,\n",
    "                lakecolor=\"lightblue\",\n",
    "                showcountries=True,\n",
    "                countrycolor=\"rgb(50, 50, 50)\",  # Darker country border color\n",
    "                countrywidth=2,  # Increased country border width\n",
    "                showsubunits=True,\n",
    "                subunitcolor=\"rgb(50, 50, 50)\",  # Darker state border color\n",
    "                subunitwidth=2,  # Increased state border width\n",
    "                center=dict(lat=20.5937, lon=78.9629),\n",
    "                projection_scale=4,\n",
    "                fitbounds=\"locations\",\n",
    "                resolution=50\n",
    "            )\n",
    "        )\n",
    "        \n",
    "        return fig\n",
    "\n",
    "    # Create maps for all gas types\n",
    "    maps = {}\n",
    "    for gas in gas_types:\n",
    "        map_fig = create_gas_map(gas)\n",
    "        if map_fig:\n",
    "            maps[gas] = map_fig\n",
    "    \n",
    "    return maps"
   ]
  },
  {
   "cell_type": "code",
   "execution_count": 44,
   "metadata": {},
   "outputs": [],
   "source": [
    "def process_emissions_data(raw_data):\n",
    "    \"\"\"\n",
    "    Process raw emissions data into the required format\n",
    "    \n",
    "    Parameters:\n",
    "    raw_data (pd.DataFrame): Raw emissions data\n",
    "    \n",
    "    Returns:\n",
    "    pd.DataFrame: Processed data with required columns\n",
    "    \"\"\"\n",
    "    # Create a copy of the data with required columns\n",
    "    required_columns = ['state', 'gas', 'emissions_quantity', 'geojson']\n",
    "    processed_data = raw_data[required_columns].copy()\n",
    "    \n",
    "    # Ensure emissions_quantity is numeric\n",
    "    processed_data['emissions_quantity'] = pd.to_numeric(processed_data['emissions_quantity'], errors='coerce')\n",
    "    \n",
    "    return processed_data"
   ]
  },
  {
   "cell_type": "code",
   "execution_count": 45,
   "metadata": {},
   "outputs": [
    {
     "data": {
      "application/vnd.plotly.v1+json": {
       "config": {
        "plotlyServerURL": "https://plot.ly"
       },
       "data": [
        {
         "colorbar": {
          "len": 0.75,
          "thickness": 20,
          "title": {
           "text": "N2O Emissions"
          },
          "y": 0.5
         },
         "colorscale": [
          [
           0,
           "rgb(255,245,240)"
          ],
          [
           0.125,
           "rgb(254,224,210)"
          ],
          [
           0.25,
           "rgb(252,187,161)"
          ],
          [
           0.375,
           "rgb(252,146,114)"
          ],
          [
           0.5,
           "rgb(251,106,74)"
          ],
          [
           0.625,
           "rgb(239,59,44)"
          ],
          [
           0.75,
           "rgb(203,24,29)"
          ],
          [
           0.875,
           "rgb(165,15,21)"
          ],
          [
           1,
           "rgb(103,0,13)"
          ]
         ],
         "featureidkey": "properties.state",
         "geojson": {
          "features": [
           {
            "geometry": {
             "coordinates": [
              [
               [
                85.875,
                21.625
               ],
               [
                85.875,
                21.875
               ],
               [
                86.125,
                21.875
               ],
               [
                86.125,
                21.625
               ],
               [
                85.875,
                21.625
               ]
              ]
             ],
             "type": "Polygon"
            },
            "properties": {
             "name": "Odisha",
             "state": "Odisha"
            },
            "type": "Feature"
           },
           {
            "geometry": {
             "coordinates": [
              [
               [
                78.125,
                13.125
               ],
               [
                78.125,
                13.375
               ],
               [
                78.375,
                13.375
               ],
               [
                78.375,
                13.125
               ],
               [
                78.125,
                13.125
               ]
              ]
             ],
             "type": "Polygon"
            },
            "properties": {
             "name": "Andhra Pradesh",
             "state": "Andhra Pradesh"
            },
            "type": "Feature"
           },
           {
            "geometry": {
             "coordinates": [
              [
               [
                72.875,
                22.375
               ],
               [
                72.875,
                22.625
               ],
               [
                73.125,
                22.625
               ],
               [
                73.125,
                22.375
               ],
               [
                72.875,
                22.375
               ]
              ]
             ],
             "type": "Polygon"
            },
            "properties": {
             "name": "Gujarat",
             "state": "Gujarat"
            },
            "type": "Feature"
           },
           {
            "geometry": {
             "coordinates": [
              [
               [
                76.625,
                31.125
               ],
               [
                76.625,
                31.375
               ],
               [
                76.875,
                31.375
               ],
               [
                76.875,
                31.125
               ],
               [
                76.625,
                31.125
               ]
              ]
             ],
             "type": "Polygon"
            },
            "properties": {
             "name": "Himachal Pradesh",
             "state": "Himachal Pradesh"
            },
            "type": "Feature"
           },
           {
            "geometry": {
             "coordinates": [
              [
               [
                87.875,
                21.625
               ],
               [
                87.875,
                21.875
               ],
               [
                88.125,
                21.875
               ],
               [
                88.125,
                21.625
               ],
               [
                87.875,
                21.625
               ]
              ]
             ],
             "type": "Polygon"
            },
            "properties": {
             "name": "West Bengal",
             "state": "West Bengal"
            },
            "type": "Feature"
           },
           {
            "geometry": {
             "coordinates": [
              [
               [
                71.625,
                24.375
               ],
               [
                71.625,
                24.625
               ],
               [
                71.875,
                24.625
               ],
               [
                71.875,
                24.375
               ],
               [
                71.625,
                24.375
               ]
              ]
             ],
             "type": "Polygon"
            },
            "properties": {
             "name": "Rajasthan",
             "state": "Rajasthan"
            },
            "type": "Feature"
           },
           {
            "geometry": {
             "coordinates": [
              [
               [
                75.125,
                20.625
               ],
               [
                75.125,
                20.875
               ],
               [
                75.375,
                20.875
               ],
               [
                75.375,
                20.625
               ],
               [
                75.125,
                20.625
               ]
              ]
             ],
             "type": "Polygon"
            },
            "properties": {
             "name": "Maharashtra",
             "state": "Maharashtra"
            },
            "type": "Feature"
           },
           {
            "geometry": {
             "coordinates": [
              [
               [
                78.375,
                25.375
               ],
               [
                78.375,
                25.625
               ],
               [
                78.625,
                25.625
               ],
               [
                78.625,
                25.375
               ],
               [
                78.375,
                25.375
               ]
              ]
             ],
             "type": "Polygon"
            },
            "properties": {
             "name": "Uttar Pradesh",
             "state": "Uttar Pradesh"
            },
            "type": "Feature"
           },
           {
            "geometry": {
             "coordinates": [
              [
               [
                83.125,
                20.875
               ],
               [
                83.125,
                21.125
               ],
               [
                83.375,
                21.125
               ],
               [
                83.375,
                20.875
               ],
               [
                83.125,
                20.875
               ]
              ]
             ],
             "type": "Polygon"
            },
            "properties": {
             "name": "Chhattisgarh",
             "state": "Chhattisgarh"
            },
            "type": "Feature"
           },
           {
            "geometry": {
             "coordinates": [
              [
               [
                74.875,
                12.875
               ],
               [
                74.875,
                13.125
               ],
               [
                75.125,
                13.125
               ],
               [
                75.125,
                12.875
               ],
               [
                74.875,
                12.875
               ]
              ]
             ],
             "type": "Polygon"
            },
            "properties": {
             "name": "Karnataka",
             "state": "Karnataka"
            },
            "type": "Feature"
           },
           {
            "geometry": {
             "coordinates": [
              [
               [
                85.375,
                22.125
               ],
               [
                85.375,
                22.375
               ],
               [
                85.625,
                22.375
               ],
               [
                85.625,
                22.125
               ],
               [
                85.375,
                22.125
               ]
              ]
             ],
             "type": "Polygon"
            },
            "properties": {
             "name": "Jharkhand",
             "state": "Jharkhand"
            },
            "type": "Feature"
           },
           {
            "geometry": {
             "coordinates": [
              [
               [
                77.625,
                16.875
               ],
               [
                77.625,
                17.125
               ],
               [
                77.875,
                17.125
               ],
               [
                77.875,
                16.875
               ],
               [
                77.625,
                16.875
               ]
              ]
             ],
             "type": "Polygon"
            },
            "properties": {
             "name": "Telangana",
             "state": "Telangana"
            },
            "type": "Feature"
           },
           {
            "geometry": {
             "coordinates": [
              [
               [
                92.375,
                25.125
               ],
               [
                92.375,
                25.375
               ],
               [
                92.625,
                25.375
               ],
               [
                92.625,
                25.125
               ],
               [
                92.375,
                25.125
               ]
              ]
             ],
             "type": "Polygon"
            },
            "properties": {
             "name": "Assam",
             "state": "Assam"
            },
            "type": "Feature"
           },
           {
            "geometry": {
             "coordinates": [
              [
               [
                77.125,
                9.125
               ],
               [
                77.125,
                9.375
               ],
               [
                77.375,
                9.375
               ],
               [
                77.375,
                9.125
               ],
               [
                77.125,
                9.125
               ]
              ]
             ],
             "type": "Polygon"
            },
            "properties": {
             "name": "Tamil Nadu",
             "state": "Tamil Nadu"
            },
            "type": "Feature"
           },
           {
            "geometry": {
             "coordinates": [
              [
               [
                83.875,
                25.125
               ],
               [
                83.875,
                25.375
               ],
               [
                84.125,
                25.375
               ],
               [
                84.125,
                25.125
               ],
               [
                83.875,
                25.125
               ]
              ]
             ],
             "type": "Polygon"
            },
            "properties": {
             "name": "Bihar",
             "state": "Bihar"
            },
            "type": "Feature"
           },
           {
            "geometry": {
             "coordinates": [
              [
               [
                75.875,
                28.375
               ],
               [
                75.875,
                28.625
               ],
               [
                76.125,
                28.625
               ],
               [
                76.125,
                28.375
               ],
               [
                75.875,
                28.375
               ]
              ]
             ],
             "type": "Polygon"
            },
            "properties": {
             "name": "Haryana",
             "state": "Haryana"
            },
            "type": "Feature"
           },
           {
            "geometry": {
             "coordinates": [
              [
               [
                78.125,
                22.125
               ],
               [
                78.125,
                22.375
               ],
               [
                78.375,
                22.375
               ],
               [
                78.375,
                22.125
               ],
               [
                78.125,
                22.125
               ]
              ]
             ],
             "type": "Polygon"
            },
            "properties": {
             "name": "Madhya Pradesh",
             "state": "Madhya Pradesh"
            },
            "type": "Feature"
           },
           {
            "geometry": {
             "coordinates": [
              [
               [
                93.125,
                23.125
               ],
               [
                93.125,
                23.375
               ],
               [
                93.375,
                23.375
               ],
               [
                93.375,
                23.125
               ],
               [
                93.125,
                23.125
               ]
              ]
             ],
             "type": "Polygon"
            },
            "properties": {
             "name": "Mizoram",
             "state": "Mizoram"
            },
            "type": "Feature"
           },
           {
            "geometry": {
             "coordinates": [
              [
               [
                94.375,
                25.125
               ],
               [
                94.375,
                25.375
               ],
               [
                94.625,
                25.375
               ],
               [
                94.625,
                25.125
               ],
               [
                94.375,
                25.125
               ]
              ]
             ],
             "type": "Polygon"
            },
            "properties": {
             "name": "Manipur",
             "state": "Manipur"
            },
            "type": "Feature"
           },
           {
            "geometry": {
             "coordinates": [
              [
               [
                75.875,
                30.125
               ],
               [
                75.875,
                30.375
               ],
               [
                76.125,
                30.375
               ],
               [
                76.125,
                30.125
               ],
               [
                75.875,
                30.125
               ]
              ]
             ],
             "type": "Polygon"
            },
            "properties": {
             "name": "Punjab",
             "state": "Punjab"
            },
            "type": "Feature"
           },
           {
            "geometry": {
             "coordinates": [
              [
               [
                74.125,
                33.125
               ],
               [
                74.125,
                33.375
               ],
               [
                74.375,
                33.375
               ],
               [
                74.375,
                33.125
               ],
               [
                74.125,
                33.125
               ]
              ]
             ],
             "type": "Polygon"
            },
            "properties": {
             "name": "Jammu and Kashmir",
             "state": "Jammu and Kashmir"
            },
            "type": "Feature"
           },
           {
            "geometry": {
             "coordinates": [
              [
               [
                90.125,
                25.625
               ],
               [
                90.125,
                25.875
               ],
               [
                90.375,
                25.875
               ],
               [
                90.375,
                25.625
               ],
               [
                90.125,
                25.625
               ]
              ]
             ],
             "type": "Polygon"
            },
            "properties": {
             "name": "Meghalaya",
             "state": "Meghalaya"
            },
            "type": "Feature"
           },
           {
            "geometry": {
             "coordinates": [
              [
               [
                78.125,
                30.875
               ],
               [
                78.125,
                31.125
               ],
               [
                78.375,
                31.125
               ],
               [
                78.375,
                30.875
               ],
               [
                78.125,
                30.875
               ]
              ]
             ],
             "type": "Polygon"
            },
            "properties": {
             "name": "Uttarakhand",
             "state": "Uttarakhand"
            },
            "type": "Feature"
           },
           {
            "geometry": {
             "coordinates": [
              [
               [
                96.125,
                27.875
               ],
               [
                96.125,
                28.125
               ],
               [
                96.375,
                28.125
               ],
               [
                96.375,
                27.875
               ],
               [
                96.125,
                27.875
               ]
              ]
             ],
             "type": "Polygon"
            },
            "properties": {
             "name": "Arunachal Pradesh",
             "state": "Arunachal Pradesh"
            },
            "type": "Feature"
           },
           {
            "geometry": {
             "coordinates": [
              [
               [
                93.625,
                25.625
               ],
               [
                93.625,
                25.875
               ],
               [
                93.875,
                25.875
               ],
               [
                93.875,
                25.625
               ],
               [
                93.625,
                25.625
               ]
              ]
             ],
             "type": "Polygon"
            },
            "properties": {
             "name": "Nagaland",
             "state": "Nagaland"
            },
            "type": "Feature"
           },
           {
            "geometry": {
             "coordinates": [
              [
               [
                92.125,
                24.375
               ],
               [
                92.125,
                24.625
               ],
               [
                92.375,
                24.625
               ],
               [
                92.375,
                24.375
               ],
               [
                92.125,
                24.375
               ]
              ]
             ],
             "type": "Polygon"
            },
            "properties": {
             "name": "Tripura",
             "state": "Tripura"
            },
            "type": "Feature"
           },
           {
            "geometry": {
             "coordinates": [
              [
               [
                76.125,
                11.625
               ],
               [
                76.125,
                11.875
               ],
               [
                76.375,
                11.875
               ],
               [
                76.375,
                11.625
               ],
               [
                76.125,
                11.625
               ]
              ]
             ],
             "type": "Polygon"
            },
            "properties": {
             "name": "Kerala",
             "state": "Kerala"
            },
            "type": "Feature"
           },
           {
            "geometry": {
             "coordinates": [
              [
               [
                79.625,
                10.625
               ],
               [
                79.625,
                10.875
               ],
               [
                79.875,
                10.875
               ],
               [
                79.875,
                10.625
               ],
               [
                79.625,
                10.625
               ]
              ]
             ],
             "type": "Polygon"
            },
            "properties": {
             "name": "Puducherry",
             "state": "Puducherry"
            },
            "type": "Feature"
           },
           {
            "geometry": {
             "coordinates": [
              [
               [
                74.125,
                15.625
               ],
               [
                74.125,
                15.875
               ],
               [
                74.375,
                15.875
               ],
               [
                74.375,
                15.625
               ],
               [
                74.125,
                15.625
               ]
              ]
             ],
             "type": "Polygon"
            },
            "properties": {
             "name": "Goa",
             "state": "Goa"
            },
            "type": "Feature"
           },
           {
            "geometry": {
             "coordinates": [
              [
               [
                77.125,
                28.625
               ],
               [
                77.125,
                28.875
               ],
               [
                77.375,
                28.875
               ],
               [
                77.375,
                28.625
               ],
               [
                77.125,
                28.625
               ]
              ]
             ],
             "type": "Polygon"
            },
            "properties": {
             "name": "NCT of Delhi",
             "state": "NCT of Delhi"
            },
            "type": "Feature"
           },
           {
            "geometry": {
             "coordinates": [
              [
               [
                76.625,
                30.625
               ],
               [
                76.625,
                30.875
               ],
               [
                76.875,
                30.875
               ],
               [
                76.875,
                30.625
               ],
               [
                76.625,
                30.625
               ]
              ]
             ],
             "type": "Polygon"
            },
            "properties": {
             "name": "Chandigarh",
             "state": "Chandigarh"
            },
            "type": "Feature"
           },
           {
            "geometry": {
             "coordinates": [
              [
               [
                72.875,
                19.875
               ],
               [
                72.875,
                20.125
               ],
               [
                73.125,
                20.125
               ],
               [
                73.125,
                19.875
               ],
               [
                72.875,
                19.875
               ]
              ]
             ],
             "type": "Polygon"
            },
            "properties": {
             "name": "Dadra and Nagar Haveli",
             "state": "Dadra and Nagar Haveli"
            },
            "type": "Feature"
           },
           {
            "geometry": {
             "coordinates": [
              [
               [
                88.625,
                27.125
               ],
               [
                88.625,
                27.375
               ],
               [
                88.875,
                27.375
               ],
               [
                88.875,
                27.125
               ],
               [
                88.625,
                27.125
               ]
              ]
             ],
             "type": "Polygon"
            },
            "properties": {
             "name": "Sikkim",
             "state": "Sikkim"
            },
            "type": "Feature"
           },
           {
            "geometry": {
             "coordinates": [
              [
               [
                72.875,
                20.125
               ],
               [
                72.875,
                20.375
               ],
               [
                73.125,
                20.375
               ],
               [
                73.125,
                20.125
               ],
               [
                72.875,
                20.125
               ]
              ]
             ],
             "type": "Polygon"
            },
            "properties": {
             "name": "Daman and Diu",
             "state": "Daman and Diu"
            },
            "type": "Feature"
           }
          ],
          "type": "FeatureCollection"
         },
         "hovertemplate": "<b>%{location}</b><br>N2O Emissions: %{z:,.2f}<br><extra></extra>",
         "locations": [
          "Odisha",
          "Andhra Pradesh",
          "Gujarat",
          "Himachal Pradesh",
          "West Bengal",
          "Rajasthan",
          "Maharashtra",
          "Uttar Pradesh",
          "Chhattisgarh",
          "Karnataka",
          "Jharkhand",
          "Telangana",
          "Assam",
          "Tamil Nadu",
          "Bihar",
          "Haryana",
          "Madhya Pradesh",
          "Mizoram",
          "Manipur",
          "Punjab",
          "Jammu and Kashmir",
          "Meghalaya",
          "Uttarakhand",
          "Arunachal Pradesh",
          "Nagaland",
          "Tripura",
          "Kerala",
          "Puducherry",
          "Goa",
          "NCT of Delhi",
          "Chandigarh",
          "Dadra and Nagar Haveli",
          "Sikkim",
          "Daman and Diu"
         ],
         "marker": {
          "line": {
           "color": "rgb(50, 50, 50)",
           "width": 2
          }
         },
         "name": "N2O Emissions",
         "type": "choropleth",
         "z": [
          1.70890461504,
          3.0623312563200003,
          1.96150991904,
          0.87894235296,
          1.30562554752,
          3.88172391264,
          5.11805752416,
          5.34910993344,
          4.05310252032,
          1.47792460032,
          0.6286019644799999,
          2.61754942176,
          1.99852422336,
          1.16659696608,
          3.8742465888,
          4.62862893024,
          11.30758556256,
          0.25187618736,
          0.6086107238399999,
          17.8127331984,
          1.41160084128,
          0.2365440537599999,
          0.7771452595199999,
          0.1678726425599999,
          0.33016056192,
          0.0308659377599999,
          0.9570560832,
          0.1170826876799999,
          0.0296576380799999,
          0.4312699070399999,
          0.07844726232,
          0.03637654272,
          0.01154693232,
          0.0244435060799999
         ]
        },
        {
         "lat": [],
         "line": {
          "color": "gray",
          "width": 0.5
         },
         "lon": [],
         "mode": "lines",
         "showlegend": false,
         "type": "scattergeo"
        },
        {
         "hoverinfo": "skip",
         "lat": [
          21.75,
          13.25,
          22.5,
          31.25,
          21.75,
          24.5,
          20.75,
          25.5,
          21,
          13,
          22.25,
          17,
          25.25,
          9.25,
          25.25,
          28.5,
          22.25,
          23.25,
          25.25,
          30.25,
          33.25,
          25.75,
          31,
          28,
          25.75,
          24.5,
          11.75,
          10.75,
          15.75,
          28.75,
          30.75,
          20,
          27.25,
          20.25
         ],
         "lon": [
          86.425,
          78.675,
          73.425,
          77.175,
          88.425,
          72.175,
          75.675,
          78.925,
          83.675,
          75.425,
          85.925,
          78.175,
          92.925,
          77.675,
          84.425,
          76.425,
          78.675,
          93.675,
          94.925,
          76.425,
          74.675,
          90.675,
          78.675,
          96.675,
          94.175,
          92.675,
          76.675,
          80.175,
          74.675,
          77.675,
          77.175,
          73.425,
          89.175,
          73.425
         ],
         "mode": "text",
         "showlegend": false,
         "text": [
          "Odisha",
          "Andhra Pradesh",
          "Gujarat",
          "Himachal Pradesh",
          "West Bengal",
          "Rajasthan",
          "Maharashtra",
          "Uttar Pradesh",
          "Chhattisgarh",
          "Karnataka",
          "Jharkhand",
          "Telangana",
          "Assam",
          "Tamil Nadu",
          "Bihar",
          "Haryana",
          "Madhya Pradesh",
          "Mizoram",
          "Manipur",
          "Punjab",
          "Jammu and Kashmir",
          "Meghalaya",
          "Uttarakhand",
          "Arunachal Pradesh",
          "Nagaland",
          "Tripura",
          "Kerala",
          "Puducherry",
          "Goa",
          "NCT of Delhi",
          "Chandigarh",
          "Dadra and Nagar Haveli",
          "Sikkim",
          "Daman and Diu"
         ],
         "textfont": {
          "color": "black",
          "family": "Arial",
          "size": 10
         },
         "textposition": "middle right",
         "type": "scattergeo"
        }
       ],
       "layout": {
        "geo": {
         "center": {
          "lat": 20.5937,
          "lon": 78.9629
         },
         "coastlinecolor": "rgb(50, 50, 50)",
         "coastlinewidth": 2,
         "countrycolor": "rgb(50, 50, 50)",
         "countrywidth": 2,
         "fitbounds": "locations",
         "lakecolor": "lightblue",
         "landcolor": "lightgray",
         "oceancolor": "lightblue",
         "projection": {
          "scale": 4
         },
         "resolution": 50,
         "showcoastlines": true,
         "showcountries": true,
         "showlakes": true,
         "showland": true,
         "showocean": true,
         "showsubunits": true,
         "subunitcolor": "rgb(50, 50, 50)",
         "subunitwidth": 2,
         "visible": true
        },
        "height": 800,
        "margin": {
         "b": 0,
         "l": 0,
         "r": 0,
         "t": 50
        },
        "paper_bgcolor": "white",
        "plot_bgcolor": "white",
        "template": {
         "data": {
          "bar": [
           {
            "error_x": {
             "color": "#2a3f5f"
            },
            "error_y": {
             "color": "#2a3f5f"
            },
            "marker": {
             "line": {
              "color": "#E5ECF6",
              "width": 0.5
             },
             "pattern": {
              "fillmode": "overlay",
              "size": 10,
              "solidity": 0.2
             }
            },
            "type": "bar"
           }
          ],
          "barpolar": [
           {
            "marker": {
             "line": {
              "color": "#E5ECF6",
              "width": 0.5
             },
             "pattern": {
              "fillmode": "overlay",
              "size": 10,
              "solidity": 0.2
             }
            },
            "type": "barpolar"
           }
          ],
          "carpet": [
           {
            "aaxis": {
             "endlinecolor": "#2a3f5f",
             "gridcolor": "white",
             "linecolor": "white",
             "minorgridcolor": "white",
             "startlinecolor": "#2a3f5f"
            },
            "baxis": {
             "endlinecolor": "#2a3f5f",
             "gridcolor": "white",
             "linecolor": "white",
             "minorgridcolor": "white",
             "startlinecolor": "#2a3f5f"
            },
            "type": "carpet"
           }
          ],
          "choropleth": [
           {
            "colorbar": {
             "outlinewidth": 0,
             "ticks": ""
            },
            "type": "choropleth"
           }
          ],
          "contour": [
           {
            "colorbar": {
             "outlinewidth": 0,
             "ticks": ""
            },
            "colorscale": [
             [
              0,
              "#0d0887"
             ],
             [
              0.1111111111111111,
              "#46039f"
             ],
             [
              0.2222222222222222,
              "#7201a8"
             ],
             [
              0.3333333333333333,
              "#9c179e"
             ],
             [
              0.4444444444444444,
              "#bd3786"
             ],
             [
              0.5555555555555556,
              "#d8576b"
             ],
             [
              0.6666666666666666,
              "#ed7953"
             ],
             [
              0.7777777777777778,
              "#fb9f3a"
             ],
             [
              0.8888888888888888,
              "#fdca26"
             ],
             [
              1,
              "#f0f921"
             ]
            ],
            "type": "contour"
           }
          ],
          "contourcarpet": [
           {
            "colorbar": {
             "outlinewidth": 0,
             "ticks": ""
            },
            "type": "contourcarpet"
           }
          ],
          "heatmap": [
           {
            "colorbar": {
             "outlinewidth": 0,
             "ticks": ""
            },
            "colorscale": [
             [
              0,
              "#0d0887"
             ],
             [
              0.1111111111111111,
              "#46039f"
             ],
             [
              0.2222222222222222,
              "#7201a8"
             ],
             [
              0.3333333333333333,
              "#9c179e"
             ],
             [
              0.4444444444444444,
              "#bd3786"
             ],
             [
              0.5555555555555556,
              "#d8576b"
             ],
             [
              0.6666666666666666,
              "#ed7953"
             ],
             [
              0.7777777777777778,
              "#fb9f3a"
             ],
             [
              0.8888888888888888,
              "#fdca26"
             ],
             [
              1,
              "#f0f921"
             ]
            ],
            "type": "heatmap"
           }
          ],
          "heatmapgl": [
           {
            "colorbar": {
             "outlinewidth": 0,
             "ticks": ""
            },
            "colorscale": [
             [
              0,
              "#0d0887"
             ],
             [
              0.1111111111111111,
              "#46039f"
             ],
             [
              0.2222222222222222,
              "#7201a8"
             ],
             [
              0.3333333333333333,
              "#9c179e"
             ],
             [
              0.4444444444444444,
              "#bd3786"
             ],
             [
              0.5555555555555556,
              "#d8576b"
             ],
             [
              0.6666666666666666,
              "#ed7953"
             ],
             [
              0.7777777777777778,
              "#fb9f3a"
             ],
             [
              0.8888888888888888,
              "#fdca26"
             ],
             [
              1,
              "#f0f921"
             ]
            ],
            "type": "heatmapgl"
           }
          ],
          "histogram": [
           {
            "marker": {
             "pattern": {
              "fillmode": "overlay",
              "size": 10,
              "solidity": 0.2
             }
            },
            "type": "histogram"
           }
          ],
          "histogram2d": [
           {
            "colorbar": {
             "outlinewidth": 0,
             "ticks": ""
            },
            "colorscale": [
             [
              0,
              "#0d0887"
             ],
             [
              0.1111111111111111,
              "#46039f"
             ],
             [
              0.2222222222222222,
              "#7201a8"
             ],
             [
              0.3333333333333333,
              "#9c179e"
             ],
             [
              0.4444444444444444,
              "#bd3786"
             ],
             [
              0.5555555555555556,
              "#d8576b"
             ],
             [
              0.6666666666666666,
              "#ed7953"
             ],
             [
              0.7777777777777778,
              "#fb9f3a"
             ],
             [
              0.8888888888888888,
              "#fdca26"
             ],
             [
              1,
              "#f0f921"
             ]
            ],
            "type": "histogram2d"
           }
          ],
          "histogram2dcontour": [
           {
            "colorbar": {
             "outlinewidth": 0,
             "ticks": ""
            },
            "colorscale": [
             [
              0,
              "#0d0887"
             ],
             [
              0.1111111111111111,
              "#46039f"
             ],
             [
              0.2222222222222222,
              "#7201a8"
             ],
             [
              0.3333333333333333,
              "#9c179e"
             ],
             [
              0.4444444444444444,
              "#bd3786"
             ],
             [
              0.5555555555555556,
              "#d8576b"
             ],
             [
              0.6666666666666666,
              "#ed7953"
             ],
             [
              0.7777777777777778,
              "#fb9f3a"
             ],
             [
              0.8888888888888888,
              "#fdca26"
             ],
             [
              1,
              "#f0f921"
             ]
            ],
            "type": "histogram2dcontour"
           }
          ],
          "mesh3d": [
           {
            "colorbar": {
             "outlinewidth": 0,
             "ticks": ""
            },
            "type": "mesh3d"
           }
          ],
          "parcoords": [
           {
            "line": {
             "colorbar": {
              "outlinewidth": 0,
              "ticks": ""
             }
            },
            "type": "parcoords"
           }
          ],
          "pie": [
           {
            "automargin": true,
            "type": "pie"
           }
          ],
          "scatter": [
           {
            "fillpattern": {
             "fillmode": "overlay",
             "size": 10,
             "solidity": 0.2
            },
            "type": "scatter"
           }
          ],
          "scatter3d": [
           {
            "line": {
             "colorbar": {
              "outlinewidth": 0,
              "ticks": ""
             }
            },
            "marker": {
             "colorbar": {
              "outlinewidth": 0,
              "ticks": ""
             }
            },
            "type": "scatter3d"
           }
          ],
          "scattercarpet": [
           {
            "marker": {
             "colorbar": {
              "outlinewidth": 0,
              "ticks": ""
             }
            },
            "type": "scattercarpet"
           }
          ],
          "scattergeo": [
           {
            "marker": {
             "colorbar": {
              "outlinewidth": 0,
              "ticks": ""
             }
            },
            "type": "scattergeo"
           }
          ],
          "scattergl": [
           {
            "marker": {
             "colorbar": {
              "outlinewidth": 0,
              "ticks": ""
             }
            },
            "type": "scattergl"
           }
          ],
          "scattermapbox": [
           {
            "marker": {
             "colorbar": {
              "outlinewidth": 0,
              "ticks": ""
             }
            },
            "type": "scattermapbox"
           }
          ],
          "scatterpolar": [
           {
            "marker": {
             "colorbar": {
              "outlinewidth": 0,
              "ticks": ""
             }
            },
            "type": "scatterpolar"
           }
          ],
          "scatterpolargl": [
           {
            "marker": {
             "colorbar": {
              "outlinewidth": 0,
              "ticks": ""
             }
            },
            "type": "scatterpolargl"
           }
          ],
          "scatterternary": [
           {
            "marker": {
             "colorbar": {
              "outlinewidth": 0,
              "ticks": ""
             }
            },
            "type": "scatterternary"
           }
          ],
          "surface": [
           {
            "colorbar": {
             "outlinewidth": 0,
             "ticks": ""
            },
            "colorscale": [
             [
              0,
              "#0d0887"
             ],
             [
              0.1111111111111111,
              "#46039f"
             ],
             [
              0.2222222222222222,
              "#7201a8"
             ],
             [
              0.3333333333333333,
              "#9c179e"
             ],
             [
              0.4444444444444444,
              "#bd3786"
             ],
             [
              0.5555555555555556,
              "#d8576b"
             ],
             [
              0.6666666666666666,
              "#ed7953"
             ],
             [
              0.7777777777777778,
              "#fb9f3a"
             ],
             [
              0.8888888888888888,
              "#fdca26"
             ],
             [
              1,
              "#f0f921"
             ]
            ],
            "type": "surface"
           }
          ],
          "table": [
           {
            "cells": {
             "fill": {
              "color": "#EBF0F8"
             },
             "line": {
              "color": "white"
             }
            },
            "header": {
             "fill": {
              "color": "#C8D4E3"
             },
             "line": {
              "color": "white"
             }
            },
            "type": "table"
           }
          ]
         },
         "layout": {
          "annotationdefaults": {
           "arrowcolor": "#2a3f5f",
           "arrowhead": 0,
           "arrowwidth": 1
          },
          "autotypenumbers": "strict",
          "coloraxis": {
           "colorbar": {
            "outlinewidth": 0,
            "ticks": ""
           }
          },
          "colorscale": {
           "diverging": [
            [
             0,
             "#8e0152"
            ],
            [
             0.1,
             "#c51b7d"
            ],
            [
             0.2,
             "#de77ae"
            ],
            [
             0.3,
             "#f1b6da"
            ],
            [
             0.4,
             "#fde0ef"
            ],
            [
             0.5,
             "#f7f7f7"
            ],
            [
             0.6,
             "#e6f5d0"
            ],
            [
             0.7,
             "#b8e186"
            ],
            [
             0.8,
             "#7fbc41"
            ],
            [
             0.9,
             "#4d9221"
            ],
            [
             1,
             "#276419"
            ]
           ],
           "sequential": [
            [
             0,
             "#0d0887"
            ],
            [
             0.1111111111111111,
             "#46039f"
            ],
            [
             0.2222222222222222,
             "#7201a8"
            ],
            [
             0.3333333333333333,
             "#9c179e"
            ],
            [
             0.4444444444444444,
             "#bd3786"
            ],
            [
             0.5555555555555556,
             "#d8576b"
            ],
            [
             0.6666666666666666,
             "#ed7953"
            ],
            [
             0.7777777777777778,
             "#fb9f3a"
            ],
            [
             0.8888888888888888,
             "#fdca26"
            ],
            [
             1,
             "#f0f921"
            ]
           ],
           "sequentialminus": [
            [
             0,
             "#0d0887"
            ],
            [
             0.1111111111111111,
             "#46039f"
            ],
            [
             0.2222222222222222,
             "#7201a8"
            ],
            [
             0.3333333333333333,
             "#9c179e"
            ],
            [
             0.4444444444444444,
             "#bd3786"
            ],
            [
             0.5555555555555556,
             "#d8576b"
            ],
            [
             0.6666666666666666,
             "#ed7953"
            ],
            [
             0.7777777777777778,
             "#fb9f3a"
            ],
            [
             0.8888888888888888,
             "#fdca26"
            ],
            [
             1,
             "#f0f921"
            ]
           ]
          },
          "colorway": [
           "#636efa",
           "#EF553B",
           "#00cc96",
           "#ab63fa",
           "#FFA15A",
           "#19d3f3",
           "#FF6692",
           "#B6E880",
           "#FF97FF",
           "#FECB52"
          ],
          "font": {
           "color": "#2a3f5f"
          },
          "geo": {
           "bgcolor": "white",
           "lakecolor": "white",
           "landcolor": "#E5ECF6",
           "showlakes": true,
           "showland": true,
           "subunitcolor": "white"
          },
          "hoverlabel": {
           "align": "left"
          },
          "hovermode": "closest",
          "mapbox": {
           "style": "light"
          },
          "paper_bgcolor": "white",
          "plot_bgcolor": "#E5ECF6",
          "polar": {
           "angularaxis": {
            "gridcolor": "white",
            "linecolor": "white",
            "ticks": ""
           },
           "bgcolor": "#E5ECF6",
           "radialaxis": {
            "gridcolor": "white",
            "linecolor": "white",
            "ticks": ""
           }
          },
          "scene": {
           "xaxis": {
            "backgroundcolor": "#E5ECF6",
            "gridcolor": "white",
            "gridwidth": 2,
            "linecolor": "white",
            "showbackground": true,
            "ticks": "",
            "zerolinecolor": "white"
           },
           "yaxis": {
            "backgroundcolor": "#E5ECF6",
            "gridcolor": "white",
            "gridwidth": 2,
            "linecolor": "white",
            "showbackground": true,
            "ticks": "",
            "zerolinecolor": "white"
           },
           "zaxis": {
            "backgroundcolor": "#E5ECF6",
            "gridcolor": "white",
            "gridwidth": 2,
            "linecolor": "white",
            "showbackground": true,
            "ticks": "",
            "zerolinecolor": "white"
           }
          },
          "shapedefaults": {
           "line": {
            "color": "#2a3f5f"
           }
          },
          "ternary": {
           "aaxis": {
            "gridcolor": "white",
            "linecolor": "white",
            "ticks": ""
           },
           "baxis": {
            "gridcolor": "white",
            "linecolor": "white",
            "ticks": ""
           },
           "bgcolor": "#E5ECF6",
           "caxis": {
            "gridcolor": "white",
            "linecolor": "white",
            "ticks": ""
           }
          },
          "title": {
           "x": 0.05
          },
          "xaxis": {
           "automargin": true,
           "gridcolor": "white",
           "linecolor": "white",
           "ticks": "",
           "title": {
            "standoff": 15
           },
           "zerolinecolor": "white",
           "zerolinewidth": 2
          },
          "yaxis": {
           "automargin": true,
           "gridcolor": "white",
           "linecolor": "white",
           "ticks": "",
           "title": {
            "standoff": 15
           },
           "zerolinecolor": "white",
           "zerolinewidth": 2
          }
         }
        },
        "title": {
         "font": {
          "size": 20
         },
         "text": "Maximum N2O Emissions by State in India",
         "x": 0.5,
         "xanchor": "center"
        },
        "xaxis": {
         "anchor": "y",
         "domain": [
          0,
          0.94
         ]
        },
        "yaxis": {
         "anchor": "x",
         "domain": [
          0,
          1
         ]
        },
        "yaxis2": {
         "anchor": "x",
         "overlaying": "y",
         "side": "right"
        }
       }
      }
     },
     "metadata": {},
     "output_type": "display_data"
    }
   ],
   "source": [
    "# Make sure to install shapely if you haven't already\n",
    "# pip install shapely\n",
    "\n",
    "processed_data = process_emissions_data(india_df)\n",
    "maps = create_emissions_map_plotly(processed_data)\n",
    "maps['n2o'].show()"
   ]
  },
  {
   "cell_type": "code",
   "execution_count": 39,
   "metadata": {},
   "outputs": [
    {
     "data": {
      "application/vnd.plotly.v1+json": {
       "config": {
        "plotlyServerURL": "https://plot.ly"
       },
       "data": [
        {
         "colorbar": {
          "len": 0.75,
          "thickness": 20,
          "title": {
           "text": "CH4 Emissions"
          },
          "y": 0.5
         },
         "colorscale": [
          [
           0,
           "rgb(255,245,240)"
          ],
          [
           0.125,
           "rgb(254,224,210)"
          ],
          [
           0.25,
           "rgb(252,187,161)"
          ],
          [
           0.375,
           "rgb(252,146,114)"
          ],
          [
           0.5,
           "rgb(251,106,74)"
          ],
          [
           0.625,
           "rgb(239,59,44)"
          ],
          [
           0.75,
           "rgb(203,24,29)"
          ],
          [
           0.875,
           "rgb(165,15,21)"
          ],
          [
           1,
           "rgb(103,0,13)"
          ]
         ],
         "featureidkey": "properties.state",
         "geojson": {
          "features": [
           {
            "geometry": {
             "coordinates": [
              [
               [
                85.875,
                21.625
               ],
               [
                85.875,
                21.875
               ],
               [
                86.125,
                21.875
               ],
               [
                86.125,
                21.625
               ],
               [
                85.875,
                21.625
               ]
              ]
             ],
             "type": "Polygon"
            },
            "properties": {
             "name": "Odisha",
             "state": "Odisha"
            },
            "type": "Feature"
           },
           {
            "geometry": {
             "coordinates": [
              [
               [
                78.125,
                13.125
               ],
               [
                78.125,
                13.375
               ],
               [
                78.375,
                13.375
               ],
               [
                78.375,
                13.125
               ],
               [
                78.125,
                13.125
               ]
              ]
             ],
             "type": "Polygon"
            },
            "properties": {
             "name": "Andhra Pradesh",
             "state": "Andhra Pradesh"
            },
            "type": "Feature"
           },
           {
            "geometry": {
             "coordinates": [
              [
               [
                72.875,
                22.375
               ],
               [
                72.875,
                22.625
               ],
               [
                73.125,
                22.625
               ],
               [
                73.125,
                22.375
               ],
               [
                72.875,
                22.375
               ]
              ]
             ],
             "type": "Polygon"
            },
            "properties": {
             "name": "Gujarat",
             "state": "Gujarat"
            },
            "type": "Feature"
           },
           {
            "geometry": {
             "coordinates": [
              [
               [
                76.625,
                31.125
               ],
               [
                76.625,
                31.375
               ],
               [
                76.875,
                31.375
               ],
               [
                76.875,
                31.125
               ],
               [
                76.625,
                31.125
               ]
              ]
             ],
             "type": "Polygon"
            },
            "properties": {
             "name": "Himachal Pradesh",
             "state": "Himachal Pradesh"
            },
            "type": "Feature"
           },
           {
            "geometry": {
             "coordinates": [
              [
               [
                87.875,
                21.625
               ],
               [
                87.875,
                21.875
               ],
               [
                88.125,
                21.875
               ],
               [
                88.125,
                21.625
               ],
               [
                87.875,
                21.625
               ]
              ]
             ],
             "type": "Polygon"
            },
            "properties": {
             "name": "West Bengal",
             "state": "West Bengal"
            },
            "type": "Feature"
           },
           {
            "geometry": {
             "coordinates": [
              [
               [
                71.625,
                24.375
               ],
               [
                71.625,
                24.625
               ],
               [
                71.875,
                24.625
               ],
               [
                71.875,
                24.375
               ],
               [
                71.625,
                24.375
               ]
              ]
             ],
             "type": "Polygon"
            },
            "properties": {
             "name": "Rajasthan",
             "state": "Rajasthan"
            },
            "type": "Feature"
           },
           {
            "geometry": {
             "coordinates": [
              [
               [
                75.125,
                20.625
               ],
               [
                75.125,
                20.875
               ],
               [
                75.375,
                20.875
               ],
               [
                75.375,
                20.625
               ],
               [
                75.125,
                20.625
               ]
              ]
             ],
             "type": "Polygon"
            },
            "properties": {
             "name": "Maharashtra",
             "state": "Maharashtra"
            },
            "type": "Feature"
           },
           {
            "geometry": {
             "coordinates": [
              [
               [
                78.375,
                25.375
               ],
               [
                78.375,
                25.625
               ],
               [
                78.625,
                25.625
               ],
               [
                78.625,
                25.375
               ],
               [
                78.375,
                25.375
               ]
              ]
             ],
             "type": "Polygon"
            },
            "properties": {
             "name": "Uttar Pradesh",
             "state": "Uttar Pradesh"
            },
            "type": "Feature"
           },
           {
            "geometry": {
             "coordinates": [
              [
               [
                83.125,
                20.875
               ],
               [
                83.125,
                21.125
               ],
               [
                83.375,
                21.125
               ],
               [
                83.375,
                20.875
               ],
               [
                83.125,
                20.875
               ]
              ]
             ],
             "type": "Polygon"
            },
            "properties": {
             "name": "Chhattisgarh",
             "state": "Chhattisgarh"
            },
            "type": "Feature"
           },
           {
            "geometry": {
             "coordinates": [
              [
               [
                74.875,
                12.875
               ],
               [
                74.875,
                13.125
               ],
               [
                75.125,
                13.125
               ],
               [
                75.125,
                12.875
               ],
               [
                74.875,
                12.875
               ]
              ]
             ],
             "type": "Polygon"
            },
            "properties": {
             "name": "Karnataka",
             "state": "Karnataka"
            },
            "type": "Feature"
           },
           {
            "geometry": {
             "coordinates": [
              [
               [
                85.375,
                22.125
               ],
               [
                85.375,
                22.375
               ],
               [
                85.625,
                22.375
               ],
               [
                85.625,
                22.125
               ],
               [
                85.375,
                22.125
               ]
              ]
             ],
             "type": "Polygon"
            },
            "properties": {
             "name": "Jharkhand",
             "state": "Jharkhand"
            },
            "type": "Feature"
           },
           {
            "geometry": {
             "coordinates": [
              [
               [
                77.625,
                16.875
               ],
               [
                77.625,
                17.125
               ],
               [
                77.875,
                17.125
               ],
               [
                77.875,
                16.875
               ],
               [
                77.625,
                16.875
               ]
              ]
             ],
             "type": "Polygon"
            },
            "properties": {
             "name": "Telangana",
             "state": "Telangana"
            },
            "type": "Feature"
           },
           {
            "geometry": {
             "coordinates": [
              [
               [
                92.375,
                25.125
               ],
               [
                92.375,
                25.375
               ],
               [
                92.625,
                25.375
               ],
               [
                92.625,
                25.125
               ],
               [
                92.375,
                25.125
               ]
              ]
             ],
             "type": "Polygon"
            },
            "properties": {
             "name": "Assam",
             "state": "Assam"
            },
            "type": "Feature"
           },
           {
            "geometry": {
             "coordinates": [
              [
               [
                77.125,
                9.125
               ],
               [
                77.125,
                9.375
               ],
               [
                77.375,
                9.375
               ],
               [
                77.375,
                9.125
               ],
               [
                77.125,
                9.125
               ]
              ]
             ],
             "type": "Polygon"
            },
            "properties": {
             "name": "Tamil Nadu",
             "state": "Tamil Nadu"
            },
            "type": "Feature"
           },
           {
            "geometry": {
             "coordinates": [
              [
               [
                83.875,
                25.125
               ],
               [
                83.875,
                25.375
               ],
               [
                84.125,
                25.375
               ],
               [
                84.125,
                25.125
               ],
               [
                83.875,
                25.125
               ]
              ]
             ],
             "type": "Polygon"
            },
            "properties": {
             "name": "Bihar",
             "state": "Bihar"
            },
            "type": "Feature"
           },
           {
            "geometry": {
             "coordinates": [
              [
               [
                75.875,
                28.375
               ],
               [
                75.875,
                28.625
               ],
               [
                76.125,
                28.625
               ],
               [
                76.125,
                28.375
               ],
               [
                75.875,
                28.375
               ]
              ]
             ],
             "type": "Polygon"
            },
            "properties": {
             "name": "Haryana",
             "state": "Haryana"
            },
            "type": "Feature"
           },
           {
            "geometry": {
             "coordinates": [
              [
               [
                78.125,
                22.125
               ],
               [
                78.125,
                22.375
               ],
               [
                78.375,
                22.375
               ],
               [
                78.375,
                22.125
               ],
               [
                78.125,
                22.125
               ]
              ]
             ],
             "type": "Polygon"
            },
            "properties": {
             "name": "Madhya Pradesh",
             "state": "Madhya Pradesh"
            },
            "type": "Feature"
           },
           {
            "geometry": {
             "coordinates": [
              [
               [
                93.125,
                23.125
               ],
               [
                93.125,
                23.375
               ],
               [
                93.375,
                23.375
               ],
               [
                93.375,
                23.125
               ],
               [
                93.125,
                23.125
               ]
              ]
             ],
             "type": "Polygon"
            },
            "properties": {
             "name": "Mizoram",
             "state": "Mizoram"
            },
            "type": "Feature"
           },
           {
            "geometry": {
             "coordinates": [
              [
               [
                94.375,
                25.125
               ],
               [
                94.375,
                25.375
               ],
               [
                94.625,
                25.375
               ],
               [
                94.625,
                25.125
               ],
               [
                94.375,
                25.125
               ]
              ]
             ],
             "type": "Polygon"
            },
            "properties": {
             "name": "Manipur",
             "state": "Manipur"
            },
            "type": "Feature"
           },
           {
            "geometry": {
             "coordinates": [
              [
               [
                75.875,
                30.125
               ],
               [
                75.875,
                30.375
               ],
               [
                76.125,
                30.375
               ],
               [
                76.125,
                30.125
               ],
               [
                75.875,
                30.125
               ]
              ]
             ],
             "type": "Polygon"
            },
            "properties": {
             "name": "Punjab",
             "state": "Punjab"
            },
            "type": "Feature"
           },
           {
            "geometry": {
             "coordinates": [
              [
               [
                74.125,
                33.125
               ],
               [
                74.125,
                33.375
               ],
               [
                74.375,
                33.375
               ],
               [
                74.375,
                33.125
               ],
               [
                74.125,
                33.125
               ]
              ]
             ],
             "type": "Polygon"
            },
            "properties": {
             "name": "Jammu and Kashmir",
             "state": "Jammu and Kashmir"
            },
            "type": "Feature"
           },
           {
            "geometry": {
             "coordinates": [
              [
               [
                90.125,
                25.625
               ],
               [
                90.125,
                25.875
               ],
               [
                90.375,
                25.875
               ],
               [
                90.375,
                25.625
               ],
               [
                90.125,
                25.625
               ]
              ]
             ],
             "type": "Polygon"
            },
            "properties": {
             "name": "Meghalaya",
             "state": "Meghalaya"
            },
            "type": "Feature"
           },
           {
            "geometry": {
             "coordinates": [
              [
               [
                78.125,
                30.875
               ],
               [
                78.125,
                31.125
               ],
               [
                78.375,
                31.125
               ],
               [
                78.375,
                30.875
               ],
               [
                78.125,
                30.875
               ]
              ]
             ],
             "type": "Polygon"
            },
            "properties": {
             "name": "Uttarakhand",
             "state": "Uttarakhand"
            },
            "type": "Feature"
           },
           {
            "geometry": {
             "coordinates": [
              [
               [
                96.125,
                27.875
               ],
               [
                96.125,
                28.125
               ],
               [
                96.375,
                28.125
               ],
               [
                96.375,
                27.875
               ],
               [
                96.125,
                27.875
               ]
              ]
             ],
             "type": "Polygon"
            },
            "properties": {
             "name": "Arunachal Pradesh",
             "state": "Arunachal Pradesh"
            },
            "type": "Feature"
           },
           {
            "geometry": {
             "coordinates": [
              [
               [
                93.625,
                25.625
               ],
               [
                93.625,
                25.875
               ],
               [
                93.875,
                25.875
               ],
               [
                93.875,
                25.625
               ],
               [
                93.625,
                25.625
               ]
              ]
             ],
             "type": "Polygon"
            },
            "properties": {
             "name": "Nagaland",
             "state": "Nagaland"
            },
            "type": "Feature"
           },
           {
            "geometry": {
             "coordinates": [
              [
               [
                92.125,
                24.375
               ],
               [
                92.125,
                24.625
               ],
               [
                92.375,
                24.625
               ],
               [
                92.375,
                24.375
               ],
               [
                92.125,
                24.375
               ]
              ]
             ],
             "type": "Polygon"
            },
            "properties": {
             "name": "Tripura",
             "state": "Tripura"
            },
            "type": "Feature"
           },
           {
            "geometry": {
             "coordinates": [
              [
               [
                76.125,
                11.625
               ],
               [
                76.125,
                11.875
               ],
               [
                76.375,
                11.875
               ],
               [
                76.375,
                11.625
               ],
               [
                76.125,
                11.625
               ]
              ]
             ],
             "type": "Polygon"
            },
            "properties": {
             "name": "Kerala",
             "state": "Kerala"
            },
            "type": "Feature"
           },
           {
            "geometry": {
             "coordinates": [
              [
               [
                79.625,
                10.625
               ],
               [
                79.625,
                10.875
               ],
               [
                79.875,
                10.875
               ],
               [
                79.875,
                10.625
               ],
               [
                79.625,
                10.625
               ]
              ]
             ],
             "type": "Polygon"
            },
            "properties": {
             "name": "Puducherry",
             "state": "Puducherry"
            },
            "type": "Feature"
           },
           {
            "geometry": {
             "coordinates": [
              [
               [
                74.125,
                15.625
               ],
               [
                74.125,
                15.875
               ],
               [
                74.375,
                15.875
               ],
               [
                74.375,
                15.625
               ],
               [
                74.125,
                15.625
               ]
              ]
             ],
             "type": "Polygon"
            },
            "properties": {
             "name": "Goa",
             "state": "Goa"
            },
            "type": "Feature"
           },
           {
            "geometry": {
             "coordinates": [
              [
               [
                77.125,
                28.625
               ],
               [
                77.125,
                28.875
               ],
               [
                77.375,
                28.875
               ],
               [
                77.375,
                28.625
               ],
               [
                77.125,
                28.625
               ]
              ]
             ],
             "type": "Polygon"
            },
            "properties": {
             "name": "NCT of Delhi",
             "state": "NCT of Delhi"
            },
            "type": "Feature"
           },
           {
            "geometry": {
             "coordinates": [
              [
               [
                76.625,
                30.625
               ],
               [
                76.625,
                30.875
               ],
               [
                76.875,
                30.875
               ],
               [
                76.875,
                30.625
               ],
               [
                76.625,
                30.625
               ]
              ]
             ],
             "type": "Polygon"
            },
            "properties": {
             "name": "Chandigarh",
             "state": "Chandigarh"
            },
            "type": "Feature"
           },
           {
            "geometry": {
             "coordinates": [
              [
               [
                72.875,
                19.875
               ],
               [
                72.875,
                20.125
               ],
               [
                73.125,
                20.125
               ],
               [
                73.125,
                19.875
               ],
               [
                72.875,
                19.875
               ]
              ]
             ],
             "type": "Polygon"
            },
            "properties": {
             "name": "Dadra and Nagar Haveli",
             "state": "Dadra and Nagar Haveli"
            },
            "type": "Feature"
           },
           {
            "geometry": {
             "coordinates": [
              [
               [
                88.625,
                27.125
               ],
               [
                88.625,
                27.375
               ],
               [
                88.875,
                27.375
               ],
               [
                88.875,
                27.125
               ],
               [
                88.625,
                27.125
               ]
              ]
             ],
             "type": "Polygon"
            },
            "properties": {
             "name": "Sikkim",
             "state": "Sikkim"
            },
            "type": "Feature"
           },
           {
            "geometry": {
             "coordinates": [
              [
               [
                72.875,
                20.125
               ],
               [
                72.875,
                20.375
               ],
               [
                73.125,
                20.375
               ],
               [
                73.125,
                20.125
               ],
               [
                72.875,
                20.125
               ]
              ]
             ],
             "type": "Polygon"
            },
            "properties": {
             "name": "Daman and Diu",
             "state": "Daman and Diu"
            },
            "type": "Feature"
           }
          ],
          "type": "FeatureCollection"
         },
         "hovertemplate": "<b>%{location}</b><br>CH4 Emissions: %{z:,.2f}<br><extra></extra>",
         "locations": [
          "Odisha",
          "Andhra Pradesh",
          "Gujarat",
          "Himachal Pradesh",
          "West Bengal",
          "Rajasthan",
          "Maharashtra",
          "Uttar Pradesh",
          "Chhattisgarh",
          "Karnataka",
          "Jharkhand",
          "Telangana",
          "Assam",
          "Tamil Nadu",
          "Bihar",
          "Haryana",
          "Madhya Pradesh",
          "Mizoram",
          "Manipur",
          "Punjab",
          "Jammu and Kashmir",
          "Meghalaya",
          "Uttarakhand",
          "Arunachal Pradesh",
          "Nagaland",
          "Tripura",
          "Kerala",
          "Puducherry",
          "Goa",
          "NCT of Delhi",
          "Chandigarh",
          "Dadra and Nagar Haveli",
          "Sikkim",
          "Daman and Diu"
         ],
         "marker": {
          "line": {
           "color": "black",
           "width": 1.5
          }
         },
         "name": "CH4 Emissions",
         "type": "choropleth",
         "z": [
          143.54798766336,
          257.23582553088,
          164.76683319936,
          73.83115764864,
          109.67254599168,
          326.06480866176,
          429.91683202944,
          449.32523440896006,
          340.46061170688,
          124.14566642688,
          52.80256501632,
          219.87415142784,
          167.87603476223998,
          97.99414515072,
          325.4367134592,
          388.80483014016,
          949.83718725504,
          21.15759973824,
          51.12330080256,
          1496.2695886656,
          118.57447066752,
          19.86970051584,
          65.28020179968,
          14.101301975039997,
          27.73348720128,
          2.59273877184,
          80.3927109888,
          9.83494576512,
          2.4912415987200003,
          36.22667219136,
          6.58957003488,
          3.05562958848,
          0.96994231488,
          2.0532545107199995
         ]
        },
        {
         "lat": [],
         "line": {
          "color": "gray",
          "width": 0.5
         },
         "lon": [],
         "mode": "lines",
         "showlegend": false,
         "type": "scattergeo"
        },
        {
         "hoverinfo": "skip",
         "lat": [
          21.75,
          13.25,
          22.5,
          31.25,
          21.75,
          24.5,
          20.75,
          25.5,
          21,
          13,
          22.25,
          17,
          25.25,
          9.25,
          25.25,
          28.5,
          22.25,
          23.25,
          25.25,
          30.25,
          33.25,
          25.75,
          31,
          28,
          25.75,
          24.5,
          11.75,
          10.75,
          15.75,
          28.75,
          30.75,
          20,
          27.25,
          20.25
         ],
         "lon": [
          86.425,
          78.675,
          73.425,
          77.175,
          88.425,
          72.175,
          75.675,
          78.925,
          83.675,
          75.425,
          85.925,
          78.175,
          92.925,
          77.675,
          84.425,
          76.425,
          78.675,
          93.675,
          94.925,
          76.425,
          74.675,
          90.675,
          78.675,
          96.675,
          94.175,
          92.675,
          76.675,
          80.175,
          74.675,
          77.675,
          77.175,
          73.425,
          89.175,
          73.425
         ],
         "mode": "text",
         "showlegend": false,
         "text": [
          "Odisha",
          "Andhra Pradesh",
          "Gujarat",
          "Himachal Pradesh",
          "West Bengal",
          "Rajasthan",
          "Maharashtra",
          "Uttar Pradesh",
          "Chhattisgarh",
          "Karnataka",
          "Jharkhand",
          "Telangana",
          "Assam",
          "Tamil Nadu",
          "Bihar",
          "Haryana",
          "Madhya Pradesh",
          "Mizoram",
          "Manipur",
          "Punjab",
          "Jammu and Kashmir",
          "Meghalaya",
          "Uttarakhand",
          "Arunachal Pradesh",
          "Nagaland",
          "Tripura",
          "Kerala",
          "Puducherry",
          "Goa",
          "NCT of Delhi",
          "Chandigarh",
          "Dadra and Nagar Haveli",
          "Sikkim",
          "Daman and Diu"
         ],
         "textfont": {
          "color": "black",
          "family": "Arial",
          "size": 10
         },
         "textposition": "middle right",
         "type": "scattergeo"
        }
       ],
       "layout": {
        "geo": {
         "center": {
          "lat": 20.5937,
          "lon": 78.9629
         },
         "coastlinecolor": "Black",
         "countrycolor": "Black",
         "countrywidth": 1,
         "fitbounds": "locations",
         "lakecolor": "lightblue",
         "landcolor": "lightgray",
         "oceancolor": "lightblue",
         "projection": {
          "scale": 4
         },
         "resolution": 50,
         "showcoastlines": true,
         "showcountries": true,
         "showlakes": true,
         "showland": true,
         "showocean": true,
         "showsubunits": true,
         "subunitcolor": "Black",
         "subunitwidth": 1,
         "visible": true
        },
        "height": 800,
        "margin": {
         "b": 0,
         "l": 0,
         "r": 0,
         "t": 50
        },
        "paper_bgcolor": "white",
        "plot_bgcolor": "white",
        "template": {
         "data": {
          "bar": [
           {
            "error_x": {
             "color": "#2a3f5f"
            },
            "error_y": {
             "color": "#2a3f5f"
            },
            "marker": {
             "line": {
              "color": "#E5ECF6",
              "width": 0.5
             },
             "pattern": {
              "fillmode": "overlay",
              "size": 10,
              "solidity": 0.2
             }
            },
            "type": "bar"
           }
          ],
          "barpolar": [
           {
            "marker": {
             "line": {
              "color": "#E5ECF6",
              "width": 0.5
             },
             "pattern": {
              "fillmode": "overlay",
              "size": 10,
              "solidity": 0.2
             }
            },
            "type": "barpolar"
           }
          ],
          "carpet": [
           {
            "aaxis": {
             "endlinecolor": "#2a3f5f",
             "gridcolor": "white",
             "linecolor": "white",
             "minorgridcolor": "white",
             "startlinecolor": "#2a3f5f"
            },
            "baxis": {
             "endlinecolor": "#2a3f5f",
             "gridcolor": "white",
             "linecolor": "white",
             "minorgridcolor": "white",
             "startlinecolor": "#2a3f5f"
            },
            "type": "carpet"
           }
          ],
          "choropleth": [
           {
            "colorbar": {
             "outlinewidth": 0,
             "ticks": ""
            },
            "type": "choropleth"
           }
          ],
          "contour": [
           {
            "colorbar": {
             "outlinewidth": 0,
             "ticks": ""
            },
            "colorscale": [
             [
              0,
              "#0d0887"
             ],
             [
              0.1111111111111111,
              "#46039f"
             ],
             [
              0.2222222222222222,
              "#7201a8"
             ],
             [
              0.3333333333333333,
              "#9c179e"
             ],
             [
              0.4444444444444444,
              "#bd3786"
             ],
             [
              0.5555555555555556,
              "#d8576b"
             ],
             [
              0.6666666666666666,
              "#ed7953"
             ],
             [
              0.7777777777777778,
              "#fb9f3a"
             ],
             [
              0.8888888888888888,
              "#fdca26"
             ],
             [
              1,
              "#f0f921"
             ]
            ],
            "type": "contour"
           }
          ],
          "contourcarpet": [
           {
            "colorbar": {
             "outlinewidth": 0,
             "ticks": ""
            },
            "type": "contourcarpet"
           }
          ],
          "heatmap": [
           {
            "colorbar": {
             "outlinewidth": 0,
             "ticks": ""
            },
            "colorscale": [
             [
              0,
              "#0d0887"
             ],
             [
              0.1111111111111111,
              "#46039f"
             ],
             [
              0.2222222222222222,
              "#7201a8"
             ],
             [
              0.3333333333333333,
              "#9c179e"
             ],
             [
              0.4444444444444444,
              "#bd3786"
             ],
             [
              0.5555555555555556,
              "#d8576b"
             ],
             [
              0.6666666666666666,
              "#ed7953"
             ],
             [
              0.7777777777777778,
              "#fb9f3a"
             ],
             [
              0.8888888888888888,
              "#fdca26"
             ],
             [
              1,
              "#f0f921"
             ]
            ],
            "type": "heatmap"
           }
          ],
          "heatmapgl": [
           {
            "colorbar": {
             "outlinewidth": 0,
             "ticks": ""
            },
            "colorscale": [
             [
              0,
              "#0d0887"
             ],
             [
              0.1111111111111111,
              "#46039f"
             ],
             [
              0.2222222222222222,
              "#7201a8"
             ],
             [
              0.3333333333333333,
              "#9c179e"
             ],
             [
              0.4444444444444444,
              "#bd3786"
             ],
             [
              0.5555555555555556,
              "#d8576b"
             ],
             [
              0.6666666666666666,
              "#ed7953"
             ],
             [
              0.7777777777777778,
              "#fb9f3a"
             ],
             [
              0.8888888888888888,
              "#fdca26"
             ],
             [
              1,
              "#f0f921"
             ]
            ],
            "type": "heatmapgl"
           }
          ],
          "histogram": [
           {
            "marker": {
             "pattern": {
              "fillmode": "overlay",
              "size": 10,
              "solidity": 0.2
             }
            },
            "type": "histogram"
           }
          ],
          "histogram2d": [
           {
            "colorbar": {
             "outlinewidth": 0,
             "ticks": ""
            },
            "colorscale": [
             [
              0,
              "#0d0887"
             ],
             [
              0.1111111111111111,
              "#46039f"
             ],
             [
              0.2222222222222222,
              "#7201a8"
             ],
             [
              0.3333333333333333,
              "#9c179e"
             ],
             [
              0.4444444444444444,
              "#bd3786"
             ],
             [
              0.5555555555555556,
              "#d8576b"
             ],
             [
              0.6666666666666666,
              "#ed7953"
             ],
             [
              0.7777777777777778,
              "#fb9f3a"
             ],
             [
              0.8888888888888888,
              "#fdca26"
             ],
             [
              1,
              "#f0f921"
             ]
            ],
            "type": "histogram2d"
           }
          ],
          "histogram2dcontour": [
           {
            "colorbar": {
             "outlinewidth": 0,
             "ticks": ""
            },
            "colorscale": [
             [
              0,
              "#0d0887"
             ],
             [
              0.1111111111111111,
              "#46039f"
             ],
             [
              0.2222222222222222,
              "#7201a8"
             ],
             [
              0.3333333333333333,
              "#9c179e"
             ],
             [
              0.4444444444444444,
              "#bd3786"
             ],
             [
              0.5555555555555556,
              "#d8576b"
             ],
             [
              0.6666666666666666,
              "#ed7953"
             ],
             [
              0.7777777777777778,
              "#fb9f3a"
             ],
             [
              0.8888888888888888,
              "#fdca26"
             ],
             [
              1,
              "#f0f921"
             ]
            ],
            "type": "histogram2dcontour"
           }
          ],
          "mesh3d": [
           {
            "colorbar": {
             "outlinewidth": 0,
             "ticks": ""
            },
            "type": "mesh3d"
           }
          ],
          "parcoords": [
           {
            "line": {
             "colorbar": {
              "outlinewidth": 0,
              "ticks": ""
             }
            },
            "type": "parcoords"
           }
          ],
          "pie": [
           {
            "automargin": true,
            "type": "pie"
           }
          ],
          "scatter": [
           {
            "fillpattern": {
             "fillmode": "overlay",
             "size": 10,
             "solidity": 0.2
            },
            "type": "scatter"
           }
          ],
          "scatter3d": [
           {
            "line": {
             "colorbar": {
              "outlinewidth": 0,
              "ticks": ""
             }
            },
            "marker": {
             "colorbar": {
              "outlinewidth": 0,
              "ticks": ""
             }
            },
            "type": "scatter3d"
           }
          ],
          "scattercarpet": [
           {
            "marker": {
             "colorbar": {
              "outlinewidth": 0,
              "ticks": ""
             }
            },
            "type": "scattercarpet"
           }
          ],
          "scattergeo": [
           {
            "marker": {
             "colorbar": {
              "outlinewidth": 0,
              "ticks": ""
             }
            },
            "type": "scattergeo"
           }
          ],
          "scattergl": [
           {
            "marker": {
             "colorbar": {
              "outlinewidth": 0,
              "ticks": ""
             }
            },
            "type": "scattergl"
           }
          ],
          "scattermapbox": [
           {
            "marker": {
             "colorbar": {
              "outlinewidth": 0,
              "ticks": ""
             }
            },
            "type": "scattermapbox"
           }
          ],
          "scatterpolar": [
           {
            "marker": {
             "colorbar": {
              "outlinewidth": 0,
              "ticks": ""
             }
            },
            "type": "scatterpolar"
           }
          ],
          "scatterpolargl": [
           {
            "marker": {
             "colorbar": {
              "outlinewidth": 0,
              "ticks": ""
             }
            },
            "type": "scatterpolargl"
           }
          ],
          "scatterternary": [
           {
            "marker": {
             "colorbar": {
              "outlinewidth": 0,
              "ticks": ""
             }
            },
            "type": "scatterternary"
           }
          ],
          "surface": [
           {
            "colorbar": {
             "outlinewidth": 0,
             "ticks": ""
            },
            "colorscale": [
             [
              0,
              "#0d0887"
             ],
             [
              0.1111111111111111,
              "#46039f"
             ],
             [
              0.2222222222222222,
              "#7201a8"
             ],
             [
              0.3333333333333333,
              "#9c179e"
             ],
             [
              0.4444444444444444,
              "#bd3786"
             ],
             [
              0.5555555555555556,
              "#d8576b"
             ],
             [
              0.6666666666666666,
              "#ed7953"
             ],
             [
              0.7777777777777778,
              "#fb9f3a"
             ],
             [
              0.8888888888888888,
              "#fdca26"
             ],
             [
              1,
              "#f0f921"
             ]
            ],
            "type": "surface"
           }
          ],
          "table": [
           {
            "cells": {
             "fill": {
              "color": "#EBF0F8"
             },
             "line": {
              "color": "white"
             }
            },
            "header": {
             "fill": {
              "color": "#C8D4E3"
             },
             "line": {
              "color": "white"
             }
            },
            "type": "table"
           }
          ]
         },
         "layout": {
          "annotationdefaults": {
           "arrowcolor": "#2a3f5f",
           "arrowhead": 0,
           "arrowwidth": 1
          },
          "autotypenumbers": "strict",
          "coloraxis": {
           "colorbar": {
            "outlinewidth": 0,
            "ticks": ""
           }
          },
          "colorscale": {
           "diverging": [
            [
             0,
             "#8e0152"
            ],
            [
             0.1,
             "#c51b7d"
            ],
            [
             0.2,
             "#de77ae"
            ],
            [
             0.3,
             "#f1b6da"
            ],
            [
             0.4,
             "#fde0ef"
            ],
            [
             0.5,
             "#f7f7f7"
            ],
            [
             0.6,
             "#e6f5d0"
            ],
            [
             0.7,
             "#b8e186"
            ],
            [
             0.8,
             "#7fbc41"
            ],
            [
             0.9,
             "#4d9221"
            ],
            [
             1,
             "#276419"
            ]
           ],
           "sequential": [
            [
             0,
             "#0d0887"
            ],
            [
             0.1111111111111111,
             "#46039f"
            ],
            [
             0.2222222222222222,
             "#7201a8"
            ],
            [
             0.3333333333333333,
             "#9c179e"
            ],
            [
             0.4444444444444444,
             "#bd3786"
            ],
            [
             0.5555555555555556,
             "#d8576b"
            ],
            [
             0.6666666666666666,
             "#ed7953"
            ],
            [
             0.7777777777777778,
             "#fb9f3a"
            ],
            [
             0.8888888888888888,
             "#fdca26"
            ],
            [
             1,
             "#f0f921"
            ]
           ],
           "sequentialminus": [
            [
             0,
             "#0d0887"
            ],
            [
             0.1111111111111111,
             "#46039f"
            ],
            [
             0.2222222222222222,
             "#7201a8"
            ],
            [
             0.3333333333333333,
             "#9c179e"
            ],
            [
             0.4444444444444444,
             "#bd3786"
            ],
            [
             0.5555555555555556,
             "#d8576b"
            ],
            [
             0.6666666666666666,
             "#ed7953"
            ],
            [
             0.7777777777777778,
             "#fb9f3a"
            ],
            [
             0.8888888888888888,
             "#fdca26"
            ],
            [
             1,
             "#f0f921"
            ]
           ]
          },
          "colorway": [
           "#636efa",
           "#EF553B",
           "#00cc96",
           "#ab63fa",
           "#FFA15A",
           "#19d3f3",
           "#FF6692",
           "#B6E880",
           "#FF97FF",
           "#FECB52"
          ],
          "font": {
           "color": "#2a3f5f"
          },
          "geo": {
           "bgcolor": "white",
           "lakecolor": "white",
           "landcolor": "#E5ECF6",
           "showlakes": true,
           "showland": true,
           "subunitcolor": "white"
          },
          "hoverlabel": {
           "align": "left"
          },
          "hovermode": "closest",
          "mapbox": {
           "style": "light"
          },
          "paper_bgcolor": "white",
          "plot_bgcolor": "#E5ECF6",
          "polar": {
           "angularaxis": {
            "gridcolor": "white",
            "linecolor": "white",
            "ticks": ""
           },
           "bgcolor": "#E5ECF6",
           "radialaxis": {
            "gridcolor": "white",
            "linecolor": "white",
            "ticks": ""
           }
          },
          "scene": {
           "xaxis": {
            "backgroundcolor": "#E5ECF6",
            "gridcolor": "white",
            "gridwidth": 2,
            "linecolor": "white",
            "showbackground": true,
            "ticks": "",
            "zerolinecolor": "white"
           },
           "yaxis": {
            "backgroundcolor": "#E5ECF6",
            "gridcolor": "white",
            "gridwidth": 2,
            "linecolor": "white",
            "showbackground": true,
            "ticks": "",
            "zerolinecolor": "white"
           },
           "zaxis": {
            "backgroundcolor": "#E5ECF6",
            "gridcolor": "white",
            "gridwidth": 2,
            "linecolor": "white",
            "showbackground": true,
            "ticks": "",
            "zerolinecolor": "white"
           }
          },
          "shapedefaults": {
           "line": {
            "color": "#2a3f5f"
           }
          },
          "ternary": {
           "aaxis": {
            "gridcolor": "white",
            "linecolor": "white",
            "ticks": ""
           },
           "baxis": {
            "gridcolor": "white",
            "linecolor": "white",
            "ticks": ""
           },
           "bgcolor": "#E5ECF6",
           "caxis": {
            "gridcolor": "white",
            "linecolor": "white",
            "ticks": ""
           }
          },
          "title": {
           "x": 0.05
          },
          "xaxis": {
           "automargin": true,
           "gridcolor": "white",
           "linecolor": "white",
           "ticks": "",
           "title": {
            "standoff": 15
           },
           "zerolinecolor": "white",
           "zerolinewidth": 2
          },
          "yaxis": {
           "automargin": true,
           "gridcolor": "white",
           "linecolor": "white",
           "ticks": "",
           "title": {
            "standoff": 15
           },
           "zerolinecolor": "white",
           "zerolinewidth": 2
          }
         }
        },
        "title": {
         "font": {
          "size": 20
         },
         "text": "Maximum CH4 Emissions by State in India",
         "x": 0.5,
         "xanchor": "center"
        },
        "xaxis": {
         "anchor": "y",
         "domain": [
          0,
          0.94
         ]
        },
        "yaxis": {
         "anchor": "x",
         "domain": [
          0,
          1
         ]
        },
        "yaxis2": {
         "anchor": "x",
         "overlaying": "y",
         "side": "right"
        }
       }
      }
     },
     "metadata": {},
     "output_type": "display_data"
    }
   ],
   "source": [
    "maps['ch4'].show()"
   ]
  },
  {
   "cell_type": "code",
   "execution_count": 40,
   "metadata": {},
   "outputs": [
    {
     "data": {
      "application/vnd.plotly.v1+json": {
       "config": {
        "plotlyServerURL": "https://plot.ly"
       },
       "data": [
        {
         "colorbar": {
          "len": 0.75,
          "thickness": 20,
          "title": {
           "text": "CO2 Emissions"
          },
          "y": 0.5
         },
         "colorscale": [
          [
           0,
           "rgb(255,245,240)"
          ],
          [
           0.125,
           "rgb(254,224,210)"
          ],
          [
           0.25,
           "rgb(252,187,161)"
          ],
          [
           0.375,
           "rgb(252,146,114)"
          ],
          [
           0.5,
           "rgb(251,106,74)"
          ],
          [
           0.625,
           "rgb(239,59,44)"
          ],
          [
           0.75,
           "rgb(203,24,29)"
          ],
          [
           0.875,
           "rgb(165,15,21)"
          ],
          [
           1,
           "rgb(103,0,13)"
          ]
         ],
         "featureidkey": "properties.state",
         "geojson": {
          "features": [
           {
            "geometry": {
             "coordinates": [
              [
               [
                85.875,
                21.625
               ],
               [
                85.875,
                21.875
               ],
               [
                86.125,
                21.875
               ],
               [
                86.125,
                21.625
               ],
               [
                85.875,
                21.625
               ]
              ]
             ],
             "type": "Polygon"
            },
            "properties": {
             "name": "Odisha",
             "state": "Odisha"
            },
            "type": "Feature"
           },
           {
            "geometry": {
             "coordinates": [
              [
               [
                78.125,
                13.125
               ],
               [
                78.125,
                13.375
               ],
               [
                78.375,
                13.375
               ],
               [
                78.375,
                13.125
               ],
               [
                78.125,
                13.125
               ]
              ]
             ],
             "type": "Polygon"
            },
            "properties": {
             "name": "Andhra Pradesh",
             "state": "Andhra Pradesh"
            },
            "type": "Feature"
           },
           {
            "geometry": {
             "coordinates": [
              [
               [
                72.875,
                22.375
               ],
               [
                72.875,
                22.625
               ],
               [
                73.125,
                22.625
               ],
               [
                73.125,
                22.375
               ],
               [
                72.875,
                22.375
               ]
              ]
             ],
             "type": "Polygon"
            },
            "properties": {
             "name": "Gujarat",
             "state": "Gujarat"
            },
            "type": "Feature"
           },
           {
            "geometry": {
             "coordinates": [
              [
               [
                76.625,
                31.125
               ],
               [
                76.625,
                31.375
               ],
               [
                76.875,
                31.375
               ],
               [
                76.875,
                31.125
               ],
               [
                76.625,
                31.125
               ]
              ]
             ],
             "type": "Polygon"
            },
            "properties": {
             "name": "Himachal Pradesh",
             "state": "Himachal Pradesh"
            },
            "type": "Feature"
           },
           {
            "geometry": {
             "coordinates": [
              [
               [
                87.875,
                21.625
               ],
               [
                87.875,
                21.875
               ],
               [
                88.125,
                21.875
               ],
               [
                88.125,
                21.625
               ],
               [
                87.875,
                21.625
               ]
              ]
             ],
             "type": "Polygon"
            },
            "properties": {
             "name": "West Bengal",
             "state": "West Bengal"
            },
            "type": "Feature"
           },
           {
            "geometry": {
             "coordinates": [
              [
               [
                71.625,
                24.375
               ],
               [
                71.625,
                24.625
               ],
               [
                71.875,
                24.625
               ],
               [
                71.875,
                24.375
               ],
               [
                71.625,
                24.375
               ]
              ]
             ],
             "type": "Polygon"
            },
            "properties": {
             "name": "Rajasthan",
             "state": "Rajasthan"
            },
            "type": "Feature"
           },
           {
            "geometry": {
             "coordinates": [
              [
               [
                75.125,
                20.625
               ],
               [
                75.125,
                20.875
               ],
               [
                75.375,
                20.875
               ],
               [
                75.375,
                20.625
               ],
               [
                75.125,
                20.625
               ]
              ]
             ],
             "type": "Polygon"
            },
            "properties": {
             "name": "Maharashtra",
             "state": "Maharashtra"
            },
            "type": "Feature"
           },
           {
            "geometry": {
             "coordinates": [
              [
               [
                78.375,
                25.375
               ],
               [
                78.375,
                25.625
               ],
               [
                78.625,
                25.625
               ],
               [
                78.625,
                25.375
               ],
               [
                78.375,
                25.375
               ]
              ]
             ],
             "type": "Polygon"
            },
            "properties": {
             "name": "Uttar Pradesh",
             "state": "Uttar Pradesh"
            },
            "type": "Feature"
           },
           {
            "geometry": {
             "coordinates": [
              [
               [
                83.125,
                20.875
               ],
               [
                83.125,
                21.125
               ],
               [
                83.375,
                21.125
               ],
               [
                83.375,
                20.875
               ],
               [
                83.125,
                20.875
               ]
              ]
             ],
             "type": "Polygon"
            },
            "properties": {
             "name": "Chhattisgarh",
             "state": "Chhattisgarh"
            },
            "type": "Feature"
           },
           {
            "geometry": {
             "coordinates": [
              [
               [
                74.875,
                12.875
               ],
               [
                74.875,
                13.125
               ],
               [
                75.125,
                13.125
               ],
               [
                75.125,
                12.875
               ],
               [
                74.875,
                12.875
               ]
              ]
             ],
             "type": "Polygon"
            },
            "properties": {
             "name": "Karnataka",
             "state": "Karnataka"
            },
            "type": "Feature"
           },
           {
            "geometry": {
             "coordinates": [
              [
               [
                85.375,
                22.125
               ],
               [
                85.375,
                22.375
               ],
               [
                85.625,
                22.375
               ],
               [
                85.625,
                22.125
               ],
               [
                85.375,
                22.125
               ]
              ]
             ],
             "type": "Polygon"
            },
            "properties": {
             "name": "Jharkhand",
             "state": "Jharkhand"
            },
            "type": "Feature"
           },
           {
            "geometry": {
             "coordinates": [
              [
               [
                77.625,
                16.875
               ],
               [
                77.625,
                17.125
               ],
               [
                77.875,
                17.125
               ],
               [
                77.875,
                16.875
               ],
               [
                77.625,
                16.875
               ]
              ]
             ],
             "type": "Polygon"
            },
            "properties": {
             "name": "Telangana",
             "state": "Telangana"
            },
            "type": "Feature"
           },
           {
            "geometry": {
             "coordinates": [
              [
               [
                92.375,
                25.125
               ],
               [
                92.375,
                25.375
               ],
               [
                92.625,
                25.375
               ],
               [
                92.625,
                25.125
               ],
               [
                92.375,
                25.125
               ]
              ]
             ],
             "type": "Polygon"
            },
            "properties": {
             "name": "Assam",
             "state": "Assam"
            },
            "type": "Feature"
           },
           {
            "geometry": {
             "coordinates": [
              [
               [
                77.125,
                9.125
               ],
               [
                77.125,
                9.375
               ],
               [
                77.375,
                9.375
               ],
               [
                77.375,
                9.125
               ],
               [
                77.125,
                9.125
               ]
              ]
             ],
             "type": "Polygon"
            },
            "properties": {
             "name": "Tamil Nadu",
             "state": "Tamil Nadu"
            },
            "type": "Feature"
           },
           {
            "geometry": {
             "coordinates": [
              [
               [
                83.875,
                25.125
               ],
               [
                83.875,
                25.375
               ],
               [
                84.125,
                25.375
               ],
               [
                84.125,
                25.125
               ],
               [
                83.875,
                25.125
               ]
              ]
             ],
             "type": "Polygon"
            },
            "properties": {
             "name": "Bihar",
             "state": "Bihar"
            },
            "type": "Feature"
           },
           {
            "geometry": {
             "coordinates": [
              [
               [
                75.875,
                28.375
               ],
               [
                75.875,
                28.625
               ],
               [
                76.125,
                28.625
               ],
               [
                76.125,
                28.375
               ],
               [
                75.875,
                28.375
               ]
              ]
             ],
             "type": "Polygon"
            },
            "properties": {
             "name": "Haryana",
             "state": "Haryana"
            },
            "type": "Feature"
           },
           {
            "geometry": {
             "coordinates": [
              [
               [
                78.125,
                22.125
               ],
               [
                78.125,
                22.375
               ],
               [
                78.375,
                22.375
               ],
               [
                78.375,
                22.125
               ],
               [
                78.125,
                22.125
               ]
              ]
             ],
             "type": "Polygon"
            },
            "properties": {
             "name": "Madhya Pradesh",
             "state": "Madhya Pradesh"
            },
            "type": "Feature"
           },
           {
            "geometry": {
             "coordinates": [
              [
               [
                93.125,
                23.125
               ],
               [
                93.125,
                23.375
               ],
               [
                93.375,
                23.375
               ],
               [
                93.375,
                23.125
               ],
               [
                93.125,
                23.125
               ]
              ]
             ],
             "type": "Polygon"
            },
            "properties": {
             "name": "Mizoram",
             "state": "Mizoram"
            },
            "type": "Feature"
           },
           {
            "geometry": {
             "coordinates": [
              [
               [
                94.375,
                25.125
               ],
               [
                94.375,
                25.375
               ],
               [
                94.625,
                25.375
               ],
               [
                94.625,
                25.125
               ],
               [
                94.375,
                25.125
               ]
              ]
             ],
             "type": "Polygon"
            },
            "properties": {
             "name": "Manipur",
             "state": "Manipur"
            },
            "type": "Feature"
           },
           {
            "geometry": {
             "coordinates": [
              [
               [
                75.875,
                30.125
               ],
               [
                75.875,
                30.375
               ],
               [
                76.125,
                30.375
               ],
               [
                76.125,
                30.125
               ],
               [
                75.875,
                30.125
               ]
              ]
             ],
             "type": "Polygon"
            },
            "properties": {
             "name": "Punjab",
             "state": "Punjab"
            },
            "type": "Feature"
           },
           {
            "geometry": {
             "coordinates": [
              [
               [
                74.125,
                33.125
               ],
               [
                74.125,
                33.375
               ],
               [
                74.375,
                33.375
               ],
               [
                74.375,
                33.125
               ],
               [
                74.125,
                33.125
               ]
              ]
             ],
             "type": "Polygon"
            },
            "properties": {
             "name": "Jammu and Kashmir",
             "state": "Jammu and Kashmir"
            },
            "type": "Feature"
           },
           {
            "geometry": {
             "coordinates": [
              [
               [
                90.125,
                25.625
               ],
               [
                90.125,
                25.875
               ],
               [
                90.375,
                25.875
               ],
               [
                90.375,
                25.625
               ],
               [
                90.125,
                25.625
               ]
              ]
             ],
             "type": "Polygon"
            },
            "properties": {
             "name": "Meghalaya",
             "state": "Meghalaya"
            },
            "type": "Feature"
           },
           {
            "geometry": {
             "coordinates": [
              [
               [
                78.125,
                30.875
               ],
               [
                78.125,
                31.125
               ],
               [
                78.375,
                31.125
               ],
               [
                78.375,
                30.875
               ],
               [
                78.125,
                30.875
               ]
              ]
             ],
             "type": "Polygon"
            },
            "properties": {
             "name": "Uttarakhand",
             "state": "Uttarakhand"
            },
            "type": "Feature"
           },
           {
            "geometry": {
             "coordinates": [
              [
               [
                96.125,
                27.875
               ],
               [
                96.125,
                28.125
               ],
               [
                96.375,
                28.125
               ],
               [
                96.375,
                27.875
               ],
               [
                96.125,
                27.875
               ]
              ]
             ],
             "type": "Polygon"
            },
            "properties": {
             "name": "Arunachal Pradesh",
             "state": "Arunachal Pradesh"
            },
            "type": "Feature"
           },
           {
            "geometry": {
             "coordinates": [
              [
               [
                93.625,
                25.625
               ],
               [
                93.625,
                25.875
               ],
               [
                93.875,
                25.875
               ],
               [
                93.875,
                25.625
               ],
               [
                93.625,
                25.625
               ]
              ]
             ],
             "type": "Polygon"
            },
            "properties": {
             "name": "Nagaland",
             "state": "Nagaland"
            },
            "type": "Feature"
           },
           {
            "geometry": {
             "coordinates": [
              [
               [
                92.125,
                24.375
               ],
               [
                92.125,
                24.625
               ],
               [
                92.375,
                24.625
               ],
               [
                92.375,
                24.375
               ],
               [
                92.125,
                24.375
               ]
              ]
             ],
             "type": "Polygon"
            },
            "properties": {
             "name": "Tripura",
             "state": "Tripura"
            },
            "type": "Feature"
           },
           {
            "geometry": {
             "coordinates": [
              [
               [
                76.125,
                11.625
               ],
               [
                76.125,
                11.875
               ],
               [
                76.375,
                11.875
               ],
               [
                76.375,
                11.625
               ],
               [
                76.125,
                11.625
               ]
              ]
             ],
             "type": "Polygon"
            },
            "properties": {
             "name": "Kerala",
             "state": "Kerala"
            },
            "type": "Feature"
           },
           {
            "geometry": {
             "coordinates": [
              [
               [
                79.625,
                10.625
               ],
               [
                79.625,
                10.875
               ],
               [
                79.875,
                10.875
               ],
               [
                79.875,
                10.625
               ],
               [
                79.625,
                10.625
               ]
              ]
             ],
             "type": "Polygon"
            },
            "properties": {
             "name": "Puducherry",
             "state": "Puducherry"
            },
            "type": "Feature"
           },
           {
            "geometry": {
             "coordinates": [
              [
               [
                74.125,
                15.625
               ],
               [
                74.125,
                15.875
               ],
               [
                74.375,
                15.875
               ],
               [
                74.375,
                15.625
               ],
               [
                74.125,
                15.625
               ]
              ]
             ],
             "type": "Polygon"
            },
            "properties": {
             "name": "Goa",
             "state": "Goa"
            },
            "type": "Feature"
           },
           {
            "geometry": {
             "coordinates": [
              [
               [
                77.125,
                28.625
               ],
               [
                77.125,
                28.875
               ],
               [
                77.375,
                28.875
               ],
               [
                77.375,
                28.625
               ],
               [
                77.125,
                28.625
               ]
              ]
             ],
             "type": "Polygon"
            },
            "properties": {
             "name": "NCT of Delhi",
             "state": "NCT of Delhi"
            },
            "type": "Feature"
           },
           {
            "geometry": {
             "coordinates": [
              [
               [
                76.625,
                30.625
               ],
               [
                76.625,
                30.875
               ],
               [
                76.875,
                30.875
               ],
               [
                76.875,
                30.625
               ],
               [
                76.625,
                30.625
               ]
              ]
             ],
             "type": "Polygon"
            },
            "properties": {
             "name": "Chandigarh",
             "state": "Chandigarh"
            },
            "type": "Feature"
           },
           {
            "geometry": {
             "coordinates": [
              [
               [
                72.875,
                19.875
               ],
               [
                72.875,
                20.125
               ],
               [
                73.125,
                20.125
               ],
               [
                73.125,
                19.875
               ],
               [
                72.875,
                19.875
               ]
              ]
             ],
             "type": "Polygon"
            },
            "properties": {
             "name": "Dadra and Nagar Haveli",
             "state": "Dadra and Nagar Haveli"
            },
            "type": "Feature"
           },
           {
            "geometry": {
             "coordinates": [
              [
               [
                88.625,
                27.125
               ],
               [
                88.625,
                27.375
               ],
               [
                88.875,
                27.375
               ],
               [
                88.875,
                27.125
               ],
               [
                88.625,
                27.125
               ]
              ]
             ],
             "type": "Polygon"
            },
            "properties": {
             "name": "Sikkim",
             "state": "Sikkim"
            },
            "type": "Feature"
           },
           {
            "geometry": {
             "coordinates": [
              [
               [
                72.875,
                20.125
               ],
               [
                72.875,
                20.375
               ],
               [
                73.125,
                20.375
               ],
               [
                73.125,
                20.125
               ],
               [
                72.875,
                20.125
               ]
              ]
             ],
             "type": "Polygon"
            },
            "properties": {
             "name": "Daman and Diu",
             "state": "Daman and Diu"
            },
            "type": "Feature"
           }
          ],
          "type": "FeatureCollection"
         },
         "hovertemplate": "<b>%{location}</b><br>CO2 Emissions: %{z:,.2f}<br><extra></extra>",
         "locations": [
          "Odisha",
          "Andhra Pradesh",
          "Gujarat",
          "Himachal Pradesh",
          "West Bengal",
          "Rajasthan",
          "Maharashtra",
          "Uttar Pradesh",
          "Chhattisgarh",
          "Karnataka",
          "Jharkhand",
          "Telangana",
          "Assam",
          "Tamil Nadu",
          "Bihar",
          "Haryana",
          "Madhya Pradesh",
          "Mizoram",
          "Manipur",
          "Punjab",
          "Jammu and Kashmir",
          "Meghalaya",
          "Uttarakhand",
          "Arunachal Pradesh",
          "Nagaland",
          "Tripura",
          "Kerala",
          "Puducherry",
          "Goa",
          "NCT of Delhi",
          "Chandigarh",
          "Dadra and Nagar Haveli",
          "Sikkim",
          "Daman and Diu"
         ],
         "marker": {
          "line": {
           "color": "black",
           "width": 1.5
          }
         },
         "name": "CO2 Emissions",
         "type": "choropleth",
         "z": [
          28128.5699635584,
          50405.9724790272,
          32286.4532673984,
          14467.3911297216,
          21490.5965121792,
          63893.1756020544,
          84243.22684767358,
          88046.3495044224,
          66714.0674844672,
          24326.638921267204,
          10346.7883353408,
          43084.8634821696,
          32895.7087165056,
          19202.1860616768,
          63770.098851648,
          76187.2321917504,
          186122.8583597376,
          4145.8820439456,
          10017.7325144064,
          293197.588445664,
          23234.9498474688,
          3893.5151248896,
          12791.8109716992,
          2763.1836965376,
          5434.442849203198,
          508.0533355296,
          15753.143129472,
          1927.1810392128,
          488.1647227968001,
          7098.7026698784,
          1291.2419377872,
          598.7578931711998,
          190.0625059872,
          402.34011007679993
         ]
        },
        {
         "lat": [],
         "line": {
          "color": "gray",
          "width": 0.5
         },
         "lon": [],
         "mode": "lines",
         "showlegend": false,
         "type": "scattergeo"
        },
        {
         "hoverinfo": "skip",
         "lat": [
          21.75,
          13.25,
          22.5,
          31.25,
          21.75,
          24.5,
          20.75,
          25.5,
          21,
          13,
          22.25,
          17,
          25.25,
          9.25,
          25.25,
          28.5,
          22.25,
          23.25,
          25.25,
          30.25,
          33.25,
          25.75,
          31,
          28,
          25.75,
          24.5,
          11.75,
          10.75,
          15.75,
          28.75,
          30.75,
          20,
          27.25,
          20.25
         ],
         "lon": [
          86.425,
          78.675,
          73.425,
          77.175,
          88.425,
          72.175,
          75.675,
          78.925,
          83.675,
          75.425,
          85.925,
          78.175,
          92.925,
          77.675,
          84.425,
          76.425,
          78.675,
          93.675,
          94.925,
          76.425,
          74.675,
          90.675,
          78.675,
          96.675,
          94.175,
          92.675,
          76.675,
          80.175,
          74.675,
          77.675,
          77.175,
          73.425,
          89.175,
          73.425
         ],
         "mode": "text",
         "showlegend": false,
         "text": [
          "Odisha",
          "Andhra Pradesh",
          "Gujarat",
          "Himachal Pradesh",
          "West Bengal",
          "Rajasthan",
          "Maharashtra",
          "Uttar Pradesh",
          "Chhattisgarh",
          "Karnataka",
          "Jharkhand",
          "Telangana",
          "Assam",
          "Tamil Nadu",
          "Bihar",
          "Haryana",
          "Madhya Pradesh",
          "Mizoram",
          "Manipur",
          "Punjab",
          "Jammu and Kashmir",
          "Meghalaya",
          "Uttarakhand",
          "Arunachal Pradesh",
          "Nagaland",
          "Tripura",
          "Kerala",
          "Puducherry",
          "Goa",
          "NCT of Delhi",
          "Chandigarh",
          "Dadra and Nagar Haveli",
          "Sikkim",
          "Daman and Diu"
         ],
         "textfont": {
          "color": "black",
          "family": "Arial",
          "size": 10
         },
         "textposition": "middle right",
         "type": "scattergeo"
        }
       ],
       "layout": {
        "geo": {
         "center": {
          "lat": 20.5937,
          "lon": 78.9629
         },
         "coastlinecolor": "Black",
         "countrycolor": "Black",
         "countrywidth": 1,
         "fitbounds": "locations",
         "lakecolor": "lightblue",
         "landcolor": "lightgray",
         "oceancolor": "lightblue",
         "projection": {
          "scale": 4
         },
         "resolution": 50,
         "showcoastlines": true,
         "showcountries": true,
         "showlakes": true,
         "showland": true,
         "showocean": true,
         "showsubunits": true,
         "subunitcolor": "Black",
         "subunitwidth": 1,
         "visible": true
        },
        "height": 800,
        "margin": {
         "b": 0,
         "l": 0,
         "r": 0,
         "t": 50
        },
        "paper_bgcolor": "white",
        "plot_bgcolor": "white",
        "template": {
         "data": {
          "bar": [
           {
            "error_x": {
             "color": "#2a3f5f"
            },
            "error_y": {
             "color": "#2a3f5f"
            },
            "marker": {
             "line": {
              "color": "#E5ECF6",
              "width": 0.5
             },
             "pattern": {
              "fillmode": "overlay",
              "size": 10,
              "solidity": 0.2
             }
            },
            "type": "bar"
           }
          ],
          "barpolar": [
           {
            "marker": {
             "line": {
              "color": "#E5ECF6",
              "width": 0.5
             },
             "pattern": {
              "fillmode": "overlay",
              "size": 10,
              "solidity": 0.2
             }
            },
            "type": "barpolar"
           }
          ],
          "carpet": [
           {
            "aaxis": {
             "endlinecolor": "#2a3f5f",
             "gridcolor": "white",
             "linecolor": "white",
             "minorgridcolor": "white",
             "startlinecolor": "#2a3f5f"
            },
            "baxis": {
             "endlinecolor": "#2a3f5f",
             "gridcolor": "white",
             "linecolor": "white",
             "minorgridcolor": "white",
             "startlinecolor": "#2a3f5f"
            },
            "type": "carpet"
           }
          ],
          "choropleth": [
           {
            "colorbar": {
             "outlinewidth": 0,
             "ticks": ""
            },
            "type": "choropleth"
           }
          ],
          "contour": [
           {
            "colorbar": {
             "outlinewidth": 0,
             "ticks": ""
            },
            "colorscale": [
             [
              0,
              "#0d0887"
             ],
             [
              0.1111111111111111,
              "#46039f"
             ],
             [
              0.2222222222222222,
              "#7201a8"
             ],
             [
              0.3333333333333333,
              "#9c179e"
             ],
             [
              0.4444444444444444,
              "#bd3786"
             ],
             [
              0.5555555555555556,
              "#d8576b"
             ],
             [
              0.6666666666666666,
              "#ed7953"
             ],
             [
              0.7777777777777778,
              "#fb9f3a"
             ],
             [
              0.8888888888888888,
              "#fdca26"
             ],
             [
              1,
              "#f0f921"
             ]
            ],
            "type": "contour"
           }
          ],
          "contourcarpet": [
           {
            "colorbar": {
             "outlinewidth": 0,
             "ticks": ""
            },
            "type": "contourcarpet"
           }
          ],
          "heatmap": [
           {
            "colorbar": {
             "outlinewidth": 0,
             "ticks": ""
            },
            "colorscale": [
             [
              0,
              "#0d0887"
             ],
             [
              0.1111111111111111,
              "#46039f"
             ],
             [
              0.2222222222222222,
              "#7201a8"
             ],
             [
              0.3333333333333333,
              "#9c179e"
             ],
             [
              0.4444444444444444,
              "#bd3786"
             ],
             [
              0.5555555555555556,
              "#d8576b"
             ],
             [
              0.6666666666666666,
              "#ed7953"
             ],
             [
              0.7777777777777778,
              "#fb9f3a"
             ],
             [
              0.8888888888888888,
              "#fdca26"
             ],
             [
              1,
              "#f0f921"
             ]
            ],
            "type": "heatmap"
           }
          ],
          "heatmapgl": [
           {
            "colorbar": {
             "outlinewidth": 0,
             "ticks": ""
            },
            "colorscale": [
             [
              0,
              "#0d0887"
             ],
             [
              0.1111111111111111,
              "#46039f"
             ],
             [
              0.2222222222222222,
              "#7201a8"
             ],
             [
              0.3333333333333333,
              "#9c179e"
             ],
             [
              0.4444444444444444,
              "#bd3786"
             ],
             [
              0.5555555555555556,
              "#d8576b"
             ],
             [
              0.6666666666666666,
              "#ed7953"
             ],
             [
              0.7777777777777778,
              "#fb9f3a"
             ],
             [
              0.8888888888888888,
              "#fdca26"
             ],
             [
              1,
              "#f0f921"
             ]
            ],
            "type": "heatmapgl"
           }
          ],
          "histogram": [
           {
            "marker": {
             "pattern": {
              "fillmode": "overlay",
              "size": 10,
              "solidity": 0.2
             }
            },
            "type": "histogram"
           }
          ],
          "histogram2d": [
           {
            "colorbar": {
             "outlinewidth": 0,
             "ticks": ""
            },
            "colorscale": [
             [
              0,
              "#0d0887"
             ],
             [
              0.1111111111111111,
              "#46039f"
             ],
             [
              0.2222222222222222,
              "#7201a8"
             ],
             [
              0.3333333333333333,
              "#9c179e"
             ],
             [
              0.4444444444444444,
              "#bd3786"
             ],
             [
              0.5555555555555556,
              "#d8576b"
             ],
             [
              0.6666666666666666,
              "#ed7953"
             ],
             [
              0.7777777777777778,
              "#fb9f3a"
             ],
             [
              0.8888888888888888,
              "#fdca26"
             ],
             [
              1,
              "#f0f921"
             ]
            ],
            "type": "histogram2d"
           }
          ],
          "histogram2dcontour": [
           {
            "colorbar": {
             "outlinewidth": 0,
             "ticks": ""
            },
            "colorscale": [
             [
              0,
              "#0d0887"
             ],
             [
              0.1111111111111111,
              "#46039f"
             ],
             [
              0.2222222222222222,
              "#7201a8"
             ],
             [
              0.3333333333333333,
              "#9c179e"
             ],
             [
              0.4444444444444444,
              "#bd3786"
             ],
             [
              0.5555555555555556,
              "#d8576b"
             ],
             [
              0.6666666666666666,
              "#ed7953"
             ],
             [
              0.7777777777777778,
              "#fb9f3a"
             ],
             [
              0.8888888888888888,
              "#fdca26"
             ],
             [
              1,
              "#f0f921"
             ]
            ],
            "type": "histogram2dcontour"
           }
          ],
          "mesh3d": [
           {
            "colorbar": {
             "outlinewidth": 0,
             "ticks": ""
            },
            "type": "mesh3d"
           }
          ],
          "parcoords": [
           {
            "line": {
             "colorbar": {
              "outlinewidth": 0,
              "ticks": ""
             }
            },
            "type": "parcoords"
           }
          ],
          "pie": [
           {
            "automargin": true,
            "type": "pie"
           }
          ],
          "scatter": [
           {
            "fillpattern": {
             "fillmode": "overlay",
             "size": 10,
             "solidity": 0.2
            },
            "type": "scatter"
           }
          ],
          "scatter3d": [
           {
            "line": {
             "colorbar": {
              "outlinewidth": 0,
              "ticks": ""
             }
            },
            "marker": {
             "colorbar": {
              "outlinewidth": 0,
              "ticks": ""
             }
            },
            "type": "scatter3d"
           }
          ],
          "scattercarpet": [
           {
            "marker": {
             "colorbar": {
              "outlinewidth": 0,
              "ticks": ""
             }
            },
            "type": "scattercarpet"
           }
          ],
          "scattergeo": [
           {
            "marker": {
             "colorbar": {
              "outlinewidth": 0,
              "ticks": ""
             }
            },
            "type": "scattergeo"
           }
          ],
          "scattergl": [
           {
            "marker": {
             "colorbar": {
              "outlinewidth": 0,
              "ticks": ""
             }
            },
            "type": "scattergl"
           }
          ],
          "scattermapbox": [
           {
            "marker": {
             "colorbar": {
              "outlinewidth": 0,
              "ticks": ""
             }
            },
            "type": "scattermapbox"
           }
          ],
          "scatterpolar": [
           {
            "marker": {
             "colorbar": {
              "outlinewidth": 0,
              "ticks": ""
             }
            },
            "type": "scatterpolar"
           }
          ],
          "scatterpolargl": [
           {
            "marker": {
             "colorbar": {
              "outlinewidth": 0,
              "ticks": ""
             }
            },
            "type": "scatterpolargl"
           }
          ],
          "scatterternary": [
           {
            "marker": {
             "colorbar": {
              "outlinewidth": 0,
              "ticks": ""
             }
            },
            "type": "scatterternary"
           }
          ],
          "surface": [
           {
            "colorbar": {
             "outlinewidth": 0,
             "ticks": ""
            },
            "colorscale": [
             [
              0,
              "#0d0887"
             ],
             [
              0.1111111111111111,
              "#46039f"
             ],
             [
              0.2222222222222222,
              "#7201a8"
             ],
             [
              0.3333333333333333,
              "#9c179e"
             ],
             [
              0.4444444444444444,
              "#bd3786"
             ],
             [
              0.5555555555555556,
              "#d8576b"
             ],
             [
              0.6666666666666666,
              "#ed7953"
             ],
             [
              0.7777777777777778,
              "#fb9f3a"
             ],
             [
              0.8888888888888888,
              "#fdca26"
             ],
             [
              1,
              "#f0f921"
             ]
            ],
            "type": "surface"
           }
          ],
          "table": [
           {
            "cells": {
             "fill": {
              "color": "#EBF0F8"
             },
             "line": {
              "color": "white"
             }
            },
            "header": {
             "fill": {
              "color": "#C8D4E3"
             },
             "line": {
              "color": "white"
             }
            },
            "type": "table"
           }
          ]
         },
         "layout": {
          "annotationdefaults": {
           "arrowcolor": "#2a3f5f",
           "arrowhead": 0,
           "arrowwidth": 1
          },
          "autotypenumbers": "strict",
          "coloraxis": {
           "colorbar": {
            "outlinewidth": 0,
            "ticks": ""
           }
          },
          "colorscale": {
           "diverging": [
            [
             0,
             "#8e0152"
            ],
            [
             0.1,
             "#c51b7d"
            ],
            [
             0.2,
             "#de77ae"
            ],
            [
             0.3,
             "#f1b6da"
            ],
            [
             0.4,
             "#fde0ef"
            ],
            [
             0.5,
             "#f7f7f7"
            ],
            [
             0.6,
             "#e6f5d0"
            ],
            [
             0.7,
             "#b8e186"
            ],
            [
             0.8,
             "#7fbc41"
            ],
            [
             0.9,
             "#4d9221"
            ],
            [
             1,
             "#276419"
            ]
           ],
           "sequential": [
            [
             0,
             "#0d0887"
            ],
            [
             0.1111111111111111,
             "#46039f"
            ],
            [
             0.2222222222222222,
             "#7201a8"
            ],
            [
             0.3333333333333333,
             "#9c179e"
            ],
            [
             0.4444444444444444,
             "#bd3786"
            ],
            [
             0.5555555555555556,
             "#d8576b"
            ],
            [
             0.6666666666666666,
             "#ed7953"
            ],
            [
             0.7777777777777778,
             "#fb9f3a"
            ],
            [
             0.8888888888888888,
             "#fdca26"
            ],
            [
             1,
             "#f0f921"
            ]
           ],
           "sequentialminus": [
            [
             0,
             "#0d0887"
            ],
            [
             0.1111111111111111,
             "#46039f"
            ],
            [
             0.2222222222222222,
             "#7201a8"
            ],
            [
             0.3333333333333333,
             "#9c179e"
            ],
            [
             0.4444444444444444,
             "#bd3786"
            ],
            [
             0.5555555555555556,
             "#d8576b"
            ],
            [
             0.6666666666666666,
             "#ed7953"
            ],
            [
             0.7777777777777778,
             "#fb9f3a"
            ],
            [
             0.8888888888888888,
             "#fdca26"
            ],
            [
             1,
             "#f0f921"
            ]
           ]
          },
          "colorway": [
           "#636efa",
           "#EF553B",
           "#00cc96",
           "#ab63fa",
           "#FFA15A",
           "#19d3f3",
           "#FF6692",
           "#B6E880",
           "#FF97FF",
           "#FECB52"
          ],
          "font": {
           "color": "#2a3f5f"
          },
          "geo": {
           "bgcolor": "white",
           "lakecolor": "white",
           "landcolor": "#E5ECF6",
           "showlakes": true,
           "showland": true,
           "subunitcolor": "white"
          },
          "hoverlabel": {
           "align": "left"
          },
          "hovermode": "closest",
          "mapbox": {
           "style": "light"
          },
          "paper_bgcolor": "white",
          "plot_bgcolor": "#E5ECF6",
          "polar": {
           "angularaxis": {
            "gridcolor": "white",
            "linecolor": "white",
            "ticks": ""
           },
           "bgcolor": "#E5ECF6",
           "radialaxis": {
            "gridcolor": "white",
            "linecolor": "white",
            "ticks": ""
           }
          },
          "scene": {
           "xaxis": {
            "backgroundcolor": "#E5ECF6",
            "gridcolor": "white",
            "gridwidth": 2,
            "linecolor": "white",
            "showbackground": true,
            "ticks": "",
            "zerolinecolor": "white"
           },
           "yaxis": {
            "backgroundcolor": "#E5ECF6",
            "gridcolor": "white",
            "gridwidth": 2,
            "linecolor": "white",
            "showbackground": true,
            "ticks": "",
            "zerolinecolor": "white"
           },
           "zaxis": {
            "backgroundcolor": "#E5ECF6",
            "gridcolor": "white",
            "gridwidth": 2,
            "linecolor": "white",
            "showbackground": true,
            "ticks": "",
            "zerolinecolor": "white"
           }
          },
          "shapedefaults": {
           "line": {
            "color": "#2a3f5f"
           }
          },
          "ternary": {
           "aaxis": {
            "gridcolor": "white",
            "linecolor": "white",
            "ticks": ""
           },
           "baxis": {
            "gridcolor": "white",
            "linecolor": "white",
            "ticks": ""
           },
           "bgcolor": "#E5ECF6",
           "caxis": {
            "gridcolor": "white",
            "linecolor": "white",
            "ticks": ""
           }
          },
          "title": {
           "x": 0.05
          },
          "xaxis": {
           "automargin": true,
           "gridcolor": "white",
           "linecolor": "white",
           "ticks": "",
           "title": {
            "standoff": 15
           },
           "zerolinecolor": "white",
           "zerolinewidth": 2
          },
          "yaxis": {
           "automargin": true,
           "gridcolor": "white",
           "linecolor": "white",
           "ticks": "",
           "title": {
            "standoff": 15
           },
           "zerolinecolor": "white",
           "zerolinewidth": 2
          }
         }
        },
        "title": {
         "font": {
          "size": 20
         },
         "text": "Maximum CO2 Emissions by State in India",
         "x": 0.5,
         "xanchor": "center"
        },
        "xaxis": {
         "anchor": "y",
         "domain": [
          0,
          0.94
         ]
        },
        "yaxis": {
         "anchor": "x",
         "domain": [
          0,
          1
         ]
        },
        "yaxis2": {
         "anchor": "x",
         "overlaying": "y",
         "side": "right"
        }
       }
      }
     },
     "metadata": {},
     "output_type": "display_data"
    }
   ],
   "source": [
    "maps['co2'].show()"
   ]
  },
  {
   "cell_type": "code",
   "execution_count": 41,
   "metadata": {},
   "outputs": [
    {
     "data": {
      "application/vnd.plotly.v1+json": {
       "config": {
        "plotlyServerURL": "https://plot.ly"
       },
       "data": [
        {
         "colorbar": {
          "len": 0.75,
          "thickness": 20,
          "title": {
           "text": "CO2E_100YR Emissions"
          },
          "y": 0.5
         },
         "colorscale": [
          [
           0,
           "rgb(255,245,240)"
          ],
          [
           0.125,
           "rgb(254,224,210)"
          ],
          [
           0.25,
           "rgb(252,187,161)"
          ],
          [
           0.375,
           "rgb(252,146,114)"
          ],
          [
           0.5,
           "rgb(251,106,74)"
          ],
          [
           0.625,
           "rgb(239,59,44)"
          ],
          [
           0.75,
           "rgb(203,24,29)"
          ],
          [
           0.875,
           "rgb(165,15,21)"
          ],
          [
           1,
           "rgb(103,0,13)"
          ]
         ],
         "featureidkey": "properties.state",
         "geojson": {
          "features": [
           {
            "geometry": {
             "coordinates": [
              [
               [
                85.875,
                21.625
               ],
               [
                85.875,
                21.875
               ],
               [
                86.125,
                21.875
               ],
               [
                86.125,
                21.625
               ],
               [
                85.875,
                21.625
               ]
              ]
             ],
             "type": "Polygon"
            },
            "properties": {
             "name": "Odisha",
             "state": "Odisha"
            },
            "type": "Feature"
           },
           {
            "geometry": {
             "coordinates": [
              [
               [
                78.125,
                13.125
               ],
               [
                78.125,
                13.375
               ],
               [
                78.375,
                13.375
               ],
               [
                78.375,
                13.125
               ],
               [
                78.125,
                13.125
               ]
              ]
             ],
             "type": "Polygon"
            },
            "properties": {
             "name": "Andhra Pradesh",
             "state": "Andhra Pradesh"
            },
            "type": "Feature"
           },
           {
            "geometry": {
             "coordinates": [
              [
               [
                72.875,
                22.375
               ],
               [
                72.875,
                22.625
               ],
               [
                73.125,
                22.625
               ],
               [
                73.125,
                22.375
               ],
               [
                72.875,
                22.375
               ]
              ]
             ],
             "type": "Polygon"
            },
            "properties": {
             "name": "Gujarat",
             "state": "Gujarat"
            },
            "type": "Feature"
           },
           {
            "geometry": {
             "coordinates": [
              [
               [
                76.625,
                31.125
               ],
               [
                76.625,
                31.375
               ],
               [
                76.875,
                31.375
               ],
               [
                76.875,
                31.125
               ],
               [
                76.625,
                31.125
               ]
              ]
             ],
             "type": "Polygon"
            },
            "properties": {
             "name": "Himachal Pradesh",
             "state": "Himachal Pradesh"
            },
            "type": "Feature"
           },
           {
            "geometry": {
             "coordinates": [
              [
               [
                87.875,
                21.625
               ],
               [
                87.875,
                21.875
               ],
               [
                88.125,
                21.875
               ],
               [
                88.125,
                21.625
               ],
               [
                87.875,
                21.625
               ]
              ]
             ],
             "type": "Polygon"
            },
            "properties": {
             "name": "West Bengal",
             "state": "West Bengal"
            },
            "type": "Feature"
           },
           {
            "geometry": {
             "coordinates": [
              [
               [
                71.625,
                24.375
               ],
               [
                71.625,
                24.625
               ],
               [
                71.875,
                24.625
               ],
               [
                71.875,
                24.375
               ],
               [
                71.625,
                24.375
               ]
              ]
             ],
             "type": "Polygon"
            },
            "properties": {
             "name": "Rajasthan",
             "state": "Rajasthan"
            },
            "type": "Feature"
           },
           {
            "geometry": {
             "coordinates": [
              [
               [
                75.125,
                20.625
               ],
               [
                75.125,
                20.875
               ],
               [
                75.375,
                20.875
               ],
               [
                75.375,
                20.625
               ],
               [
                75.125,
                20.625
               ]
              ]
             ],
             "type": "Polygon"
            },
            "properties": {
             "name": "Maharashtra",
             "state": "Maharashtra"
            },
            "type": "Feature"
           },
           {
            "geometry": {
             "coordinates": [
              [
               [
                78.375,
                25.375
               ],
               [
                78.375,
                25.625
               ],
               [
                78.625,
                25.625
               ],
               [
                78.625,
                25.375
               ],
               [
                78.375,
                25.375
               ]
              ]
             ],
             "type": "Polygon"
            },
            "properties": {
             "name": "Uttar Pradesh",
             "state": "Uttar Pradesh"
            },
            "type": "Feature"
           },
           {
            "geometry": {
             "coordinates": [
              [
               [
                83.125,
                20.875
               ],
               [
                83.125,
                21.125
               ],
               [
                83.375,
                21.125
               ],
               [
                83.375,
                20.875
               ],
               [
                83.125,
                20.875
               ]
              ]
             ],
             "type": "Polygon"
            },
            "properties": {
             "name": "Chhattisgarh",
             "state": "Chhattisgarh"
            },
            "type": "Feature"
           },
           {
            "geometry": {
             "coordinates": [
              [
               [
                74.875,
                12.875
               ],
               [
                74.875,
                13.125
               ],
               [
                75.125,
                13.125
               ],
               [
                75.125,
                12.875
               ],
               [
                74.875,
                12.875
               ]
              ]
             ],
             "type": "Polygon"
            },
            "properties": {
             "name": "Karnataka",
             "state": "Karnataka"
            },
            "type": "Feature"
           },
           {
            "geometry": {
             "coordinates": [
              [
               [
                85.375,
                22.125
               ],
               [
                85.375,
                22.375
               ],
               [
                85.625,
                22.375
               ],
               [
                85.625,
                22.125
               ],
               [
                85.375,
                22.125
               ]
              ]
             ],
             "type": "Polygon"
            },
            "properties": {
             "name": "Jharkhand",
             "state": "Jharkhand"
            },
            "type": "Feature"
           },
           {
            "geometry": {
             "coordinates": [
              [
               [
                77.625,
                16.875
               ],
               [
                77.625,
                17.125
               ],
               [
                77.875,
                17.125
               ],
               [
                77.875,
                16.875
               ],
               [
                77.625,
                16.875
               ]
              ]
             ],
             "type": "Polygon"
            },
            "properties": {
             "name": "Telangana",
             "state": "Telangana"
            },
            "type": "Feature"
           },
           {
            "geometry": {
             "coordinates": [
              [
               [
                92.375,
                25.125
               ],
               [
                92.375,
                25.375
               ],
               [
                92.625,
                25.375
               ],
               [
                92.625,
                25.125
               ],
               [
                92.375,
                25.125
               ]
              ]
             ],
             "type": "Polygon"
            },
            "properties": {
             "name": "Assam",
             "state": "Assam"
            },
            "type": "Feature"
           },
           {
            "geometry": {
             "coordinates": [
              [
               [
                77.125,
                9.125
               ],
               [
                77.125,
                9.375
               ],
               [
                77.375,
                9.375
               ],
               [
                77.375,
                9.125
               ],
               [
                77.125,
                9.125
               ]
              ]
             ],
             "type": "Polygon"
            },
            "properties": {
             "name": "Tamil Nadu",
             "state": "Tamil Nadu"
            },
            "type": "Feature"
           },
           {
            "geometry": {
             "coordinates": [
              [
               [
                83.875,
                25.125
               ],
               [
                83.875,
                25.375
               ],
               [
                84.125,
                25.375
               ],
               [
                84.125,
                25.125
               ],
               [
                83.875,
                25.125
               ]
              ]
             ],
             "type": "Polygon"
            },
            "properties": {
             "name": "Bihar",
             "state": "Bihar"
            },
            "type": "Feature"
           },
           {
            "geometry": {
             "coordinates": [
              [
               [
                75.875,
                28.375
               ],
               [
                75.875,
                28.625
               ],
               [
                76.125,
                28.625
               ],
               [
                76.125,
                28.375
               ],
               [
                75.875,
                28.375
               ]
              ]
             ],
             "type": "Polygon"
            },
            "properties": {
             "name": "Haryana",
             "state": "Haryana"
            },
            "type": "Feature"
           },
           {
            "geometry": {
             "coordinates": [
              [
               [
                78.125,
                22.125
               ],
               [
                78.125,
                22.375
               ],
               [
                78.375,
                22.375
               ],
               [
                78.375,
                22.125
               ],
               [
                78.125,
                22.125
               ]
              ]
             ],
             "type": "Polygon"
            },
            "properties": {
             "name": "Madhya Pradesh",
             "state": "Madhya Pradesh"
            },
            "type": "Feature"
           },
           {
            "geometry": {
             "coordinates": [
              [
               [
                93.125,
                23.125
               ],
               [
                93.125,
                23.375
               ],
               [
                93.375,
                23.375
               ],
               [
                93.375,
                23.125
               ],
               [
                93.125,
                23.125
               ]
              ]
             ],
             "type": "Polygon"
            },
            "properties": {
             "name": "Mizoram",
             "state": "Mizoram"
            },
            "type": "Feature"
           },
           {
            "geometry": {
             "coordinates": [
              [
               [
                94.375,
                25.125
               ],
               [
                94.375,
                25.375
               ],
               [
                94.625,
                25.375
               ],
               [
                94.625,
                25.125
               ],
               [
                94.375,
                25.125
               ]
              ]
             ],
             "type": "Polygon"
            },
            "properties": {
             "name": "Manipur",
             "state": "Manipur"
            },
            "type": "Feature"
           },
           {
            "geometry": {
             "coordinates": [
              [
               [
                75.875,
                30.125
               ],
               [
                75.875,
                30.375
               ],
               [
                76.125,
                30.375
               ],
               [
                76.125,
                30.125
               ],
               [
                75.875,
                30.125
               ]
              ]
             ],
             "type": "Polygon"
            },
            "properties": {
             "name": "Punjab",
             "state": "Punjab"
            },
            "type": "Feature"
           },
           {
            "geometry": {
             "coordinates": [
              [
               [
                74.125,
                33.125
               ],
               [
                74.125,
                33.375
               ],
               [
                74.375,
                33.375
               ],
               [
                74.375,
                33.125
               ],
               [
                74.125,
                33.125
               ]
              ]
             ],
             "type": "Polygon"
            },
            "properties": {
             "name": "Jammu and Kashmir",
             "state": "Jammu and Kashmir"
            },
            "type": "Feature"
           },
           {
            "geometry": {
             "coordinates": [
              [
               [
                90.125,
                25.625
               ],
               [
                90.125,
                25.875
               ],
               [
                90.375,
                25.875
               ],
               [
                90.375,
                25.625
               ],
               [
                90.125,
                25.625
               ]
              ]
             ],
             "type": "Polygon"
            },
            "properties": {
             "name": "Meghalaya",
             "state": "Meghalaya"
            },
            "type": "Feature"
           },
           {
            "geometry": {
             "coordinates": [
              [
               [
                78.125,
                30.875
               ],
               [
                78.125,
                31.125
               ],
               [
                78.375,
                31.125
               ],
               [
                78.375,
                30.875
               ],
               [
                78.125,
                30.875
               ]
              ]
             ],
             "type": "Polygon"
            },
            "properties": {
             "name": "Uttarakhand",
             "state": "Uttarakhand"
            },
            "type": "Feature"
           },
           {
            "geometry": {
             "coordinates": [
              [
               [
                96.125,
                27.875
               ],
               [
                96.125,
                28.125
               ],
               [
                96.375,
                28.125
               ],
               [
                96.375,
                27.875
               ],
               [
                96.125,
                27.875
               ]
              ]
             ],
             "type": "Polygon"
            },
            "properties": {
             "name": "Arunachal Pradesh",
             "state": "Arunachal Pradesh"
            },
            "type": "Feature"
           },
           {
            "geometry": {
             "coordinates": [
              [
               [
                93.625,
                25.625
               ],
               [
                93.625,
                25.875
               ],
               [
                93.875,
                25.875
               ],
               [
                93.875,
                25.625
               ],
               [
                93.625,
                25.625
               ]
              ]
             ],
             "type": "Polygon"
            },
            "properties": {
             "name": "Nagaland",
             "state": "Nagaland"
            },
            "type": "Feature"
           },
           {
            "geometry": {
             "coordinates": [
              [
               [
                92.125,
                24.375
               ],
               [
                92.125,
                24.625
               ],
               [
                92.375,
                24.625
               ],
               [
                92.375,
                24.375
               ],
               [
                92.125,
                24.375
               ]
              ]
             ],
             "type": "Polygon"
            },
            "properties": {
             "name": "Tripura",
             "state": "Tripura"
            },
            "type": "Feature"
           },
           {
            "geometry": {
             "coordinates": [
              [
               [
                76.125,
                11.625
               ],
               [
                76.125,
                11.875
               ],
               [
                76.375,
                11.875
               ],
               [
                76.375,
                11.625
               ],
               [
                76.125,
                11.625
               ]
              ]
             ],
             "type": "Polygon"
            },
            "properties": {
             "name": "Kerala",
             "state": "Kerala"
            },
            "type": "Feature"
           },
           {
            "geometry": {
             "coordinates": [
              [
               [
                79.625,
                10.625
               ],
               [
                79.625,
                10.875
               ],
               [
                79.875,
                10.875
               ],
               [
                79.875,
                10.625
               ],
               [
                79.625,
                10.625
               ]
              ]
             ],
             "type": "Polygon"
            },
            "properties": {
             "name": "Puducherry",
             "state": "Puducherry"
            },
            "type": "Feature"
           },
           {
            "geometry": {
             "coordinates": [
              [
               [
                74.125,
                15.625
               ],
               [
                74.125,
                15.875
               ],
               [
                74.375,
                15.875
               ],
               [
                74.375,
                15.625
               ],
               [
                74.125,
                15.625
               ]
              ]
             ],
             "type": "Polygon"
            },
            "properties": {
             "name": "Goa",
             "state": "Goa"
            },
            "type": "Feature"
           },
           {
            "geometry": {
             "coordinates": [
              [
               [
                77.125,
                28.625
               ],
               [
                77.125,
                28.875
               ],
               [
                77.375,
                28.875
               ],
               [
                77.375,
                28.625
               ],
               [
                77.125,
                28.625
               ]
              ]
             ],
             "type": "Polygon"
            },
            "properties": {
             "name": "NCT of Delhi",
             "state": "NCT of Delhi"
            },
            "type": "Feature"
           },
           {
            "geometry": {
             "coordinates": [
              [
               [
                76.625,
                30.625
               ],
               [
                76.625,
                30.875
               ],
               [
                76.875,
                30.875
               ],
               [
                76.875,
                30.625
               ],
               [
                76.625,
                30.625
               ]
              ]
             ],
             "type": "Polygon"
            },
            "properties": {
             "name": "Chandigarh",
             "state": "Chandigarh"
            },
            "type": "Feature"
           },
           {
            "geometry": {
             "coordinates": [
              [
               [
                72.875,
                19.875
               ],
               [
                72.875,
                20.125
               ],
               [
                73.125,
                20.125
               ],
               [
                73.125,
                19.875
               ],
               [
                72.875,
                19.875
               ]
              ]
             ],
             "type": "Polygon"
            },
            "properties": {
             "name": "Dadra and Nagar Haveli",
             "state": "Dadra and Nagar Haveli"
            },
            "type": "Feature"
           },
           {
            "geometry": {
             "coordinates": [
              [
               [
                88.625,
                27.125
               ],
               [
                88.625,
                27.375
               ],
               [
                88.875,
                27.375
               ],
               [
                88.875,
                27.125
               ],
               [
                88.625,
                27.125
               ]
              ]
             ],
             "type": "Polygon"
            },
            "properties": {
             "name": "Sikkim",
             "state": "Sikkim"
            },
            "type": "Feature"
           },
           {
            "geometry": {
             "coordinates": [
              [
               [
                72.875,
                20.125
               ],
               [
                72.875,
                20.375
               ],
               [
                73.125,
                20.375
               ],
               [
                73.125,
                20.125
               ],
               [
                72.875,
                20.125
               ]
              ]
             ],
             "type": "Polygon"
            },
            "properties": {
             "name": "Daman and Diu",
             "state": "Daman and Diu"
            },
            "type": "Feature"
           }
          ],
          "type": "FeatureCollection"
         },
         "hovertemplate": "<b>%{location}</b><br>CO2E_100YR Emissions: %{z:,.2f}<br><extra></extra>",
         "locations": [
          "Odisha",
          "Andhra Pradesh",
          "Gujarat",
          "Himachal Pradesh",
          "West Bengal",
          "Rajasthan",
          "Maharashtra",
          "Uttar Pradesh",
          "Chhattisgarh",
          "Karnataka",
          "Jharkhand",
          "Telangana",
          "Assam",
          "Tamil Nadu",
          "Bihar",
          "Haryana",
          "Madhya Pradesh",
          "Mizoram",
          "Manipur",
          "Punjab",
          "Jammu and Kashmir",
          "Meghalaya",
          "Uttarakhand",
          "Arunachal Pradesh",
          "Nagaland",
          "Tripura",
          "Kerala",
          "Puducherry",
          "Goa",
          "NCT of Delhi",
          "Chandigarh",
          "Dadra and Nagar Haveli",
          "Sikkim",
          "Daman and Diu"
         ],
         "marker": {
          "line": {
           "color": "black",
           "width": 1.5
          }
         },
         "name": "CO2E_100YR Emissions",
         "type": "choropleth",
         "z": [
          32600.08977927206,
          58418.86844431411,
          37418.94012155846,
          16767.231690476732,
          24906.89631982003,
          74050.09439186822,
          97635.13616539064,
          102042.8305562615,
          77319.4155391365,
          28193.77643046452,
          11991.588235599167,
          49933.94329914681,
          38125.04719934937,
          22254.703683121734,
          73907.45247590207,
          88298.50265061637,
          215710.28674273207,
          4804.941275791776,
          11610.223334406142,
          339806.3861325974,
          26928.544608762048,
          4512.456295958015,
          14825.28925775923,
          3202.439253060096,
          6298.340975523071,
          588.8171482724158,
          18257.37607677312,
          2233.5395997962883,
          565.766898596928,
          8227.163508639263,
          1496.5070443737118,
          693.9407548523519,
          220.276209095712,
          466.298988085728
         ]
        },
        {
         "lat": [],
         "line": {
          "color": "gray",
          "width": 0.5
         },
         "lon": [],
         "mode": "lines",
         "showlegend": false,
         "type": "scattergeo"
        },
        {
         "hoverinfo": "skip",
         "lat": [
          21.75,
          13.25,
          22.5,
          31.25,
          21.75,
          24.5,
          20.75,
          25.5,
          21,
          13,
          22.25,
          17,
          25.25,
          9.25,
          25.25,
          28.5,
          22.25,
          23.25,
          25.25,
          30.25,
          33.25,
          25.75,
          31,
          28,
          25.75,
          24.5,
          11.75,
          10.75,
          15.75,
          28.75,
          30.75,
          20,
          27.25,
          20.25
         ],
         "lon": [
          86.425,
          78.675,
          73.425,
          77.175,
          88.425,
          72.175,
          75.675,
          78.925,
          83.675,
          75.425,
          85.925,
          78.175,
          92.925,
          77.675,
          84.425,
          76.425,
          78.675,
          93.675,
          94.925,
          76.425,
          74.675,
          90.675,
          78.675,
          96.675,
          94.175,
          92.675,
          76.675,
          80.175,
          74.675,
          77.675,
          77.175,
          73.425,
          89.175,
          73.425
         ],
         "mode": "text",
         "showlegend": false,
         "text": [
          "Odisha",
          "Andhra Pradesh",
          "Gujarat",
          "Himachal Pradesh",
          "West Bengal",
          "Rajasthan",
          "Maharashtra",
          "Uttar Pradesh",
          "Chhattisgarh",
          "Karnataka",
          "Jharkhand",
          "Telangana",
          "Assam",
          "Tamil Nadu",
          "Bihar",
          "Haryana",
          "Madhya Pradesh",
          "Mizoram",
          "Manipur",
          "Punjab",
          "Jammu and Kashmir",
          "Meghalaya",
          "Uttarakhand",
          "Arunachal Pradesh",
          "Nagaland",
          "Tripura",
          "Kerala",
          "Puducherry",
          "Goa",
          "NCT of Delhi",
          "Chandigarh",
          "Dadra and Nagar Haveli",
          "Sikkim",
          "Daman and Diu"
         ],
         "textfont": {
          "color": "black",
          "family": "Arial",
          "size": 10
         },
         "textposition": "middle right",
         "type": "scattergeo"
        }
       ],
       "layout": {
        "geo": {
         "center": {
          "lat": 20.5937,
          "lon": 78.9629
         },
         "coastlinecolor": "Black",
         "countrycolor": "Black",
         "countrywidth": 1,
         "fitbounds": "locations",
         "lakecolor": "lightblue",
         "landcolor": "lightgray",
         "oceancolor": "lightblue",
         "projection": {
          "scale": 4
         },
         "resolution": 50,
         "showcoastlines": true,
         "showcountries": true,
         "showlakes": true,
         "showland": true,
         "showocean": true,
         "showsubunits": true,
         "subunitcolor": "Black",
         "subunitwidth": 1,
         "visible": true
        },
        "height": 800,
        "margin": {
         "b": 0,
         "l": 0,
         "r": 0,
         "t": 50
        },
        "paper_bgcolor": "white",
        "plot_bgcolor": "white",
        "template": {
         "data": {
          "bar": [
           {
            "error_x": {
             "color": "#2a3f5f"
            },
            "error_y": {
             "color": "#2a3f5f"
            },
            "marker": {
             "line": {
              "color": "#E5ECF6",
              "width": 0.5
             },
             "pattern": {
              "fillmode": "overlay",
              "size": 10,
              "solidity": 0.2
             }
            },
            "type": "bar"
           }
          ],
          "barpolar": [
           {
            "marker": {
             "line": {
              "color": "#E5ECF6",
              "width": 0.5
             },
             "pattern": {
              "fillmode": "overlay",
              "size": 10,
              "solidity": 0.2
             }
            },
            "type": "barpolar"
           }
          ],
          "carpet": [
           {
            "aaxis": {
             "endlinecolor": "#2a3f5f",
             "gridcolor": "white",
             "linecolor": "white",
             "minorgridcolor": "white",
             "startlinecolor": "#2a3f5f"
            },
            "baxis": {
             "endlinecolor": "#2a3f5f",
             "gridcolor": "white",
             "linecolor": "white",
             "minorgridcolor": "white",
             "startlinecolor": "#2a3f5f"
            },
            "type": "carpet"
           }
          ],
          "choropleth": [
           {
            "colorbar": {
             "outlinewidth": 0,
             "ticks": ""
            },
            "type": "choropleth"
           }
          ],
          "contour": [
           {
            "colorbar": {
             "outlinewidth": 0,
             "ticks": ""
            },
            "colorscale": [
             [
              0,
              "#0d0887"
             ],
             [
              0.1111111111111111,
              "#46039f"
             ],
             [
              0.2222222222222222,
              "#7201a8"
             ],
             [
              0.3333333333333333,
              "#9c179e"
             ],
             [
              0.4444444444444444,
              "#bd3786"
             ],
             [
              0.5555555555555556,
              "#d8576b"
             ],
             [
              0.6666666666666666,
              "#ed7953"
             ],
             [
              0.7777777777777778,
              "#fb9f3a"
             ],
             [
              0.8888888888888888,
              "#fdca26"
             ],
             [
              1,
              "#f0f921"
             ]
            ],
            "type": "contour"
           }
          ],
          "contourcarpet": [
           {
            "colorbar": {
             "outlinewidth": 0,
             "ticks": ""
            },
            "type": "contourcarpet"
           }
          ],
          "heatmap": [
           {
            "colorbar": {
             "outlinewidth": 0,
             "ticks": ""
            },
            "colorscale": [
             [
              0,
              "#0d0887"
             ],
             [
              0.1111111111111111,
              "#46039f"
             ],
             [
              0.2222222222222222,
              "#7201a8"
             ],
             [
              0.3333333333333333,
              "#9c179e"
             ],
             [
              0.4444444444444444,
              "#bd3786"
             ],
             [
              0.5555555555555556,
              "#d8576b"
             ],
             [
              0.6666666666666666,
              "#ed7953"
             ],
             [
              0.7777777777777778,
              "#fb9f3a"
             ],
             [
              0.8888888888888888,
              "#fdca26"
             ],
             [
              1,
              "#f0f921"
             ]
            ],
            "type": "heatmap"
           }
          ],
          "heatmapgl": [
           {
            "colorbar": {
             "outlinewidth": 0,
             "ticks": ""
            },
            "colorscale": [
             [
              0,
              "#0d0887"
             ],
             [
              0.1111111111111111,
              "#46039f"
             ],
             [
              0.2222222222222222,
              "#7201a8"
             ],
             [
              0.3333333333333333,
              "#9c179e"
             ],
             [
              0.4444444444444444,
              "#bd3786"
             ],
             [
              0.5555555555555556,
              "#d8576b"
             ],
             [
              0.6666666666666666,
              "#ed7953"
             ],
             [
              0.7777777777777778,
              "#fb9f3a"
             ],
             [
              0.8888888888888888,
              "#fdca26"
             ],
             [
              1,
              "#f0f921"
             ]
            ],
            "type": "heatmapgl"
           }
          ],
          "histogram": [
           {
            "marker": {
             "pattern": {
              "fillmode": "overlay",
              "size": 10,
              "solidity": 0.2
             }
            },
            "type": "histogram"
           }
          ],
          "histogram2d": [
           {
            "colorbar": {
             "outlinewidth": 0,
             "ticks": ""
            },
            "colorscale": [
             [
              0,
              "#0d0887"
             ],
             [
              0.1111111111111111,
              "#46039f"
             ],
             [
              0.2222222222222222,
              "#7201a8"
             ],
             [
              0.3333333333333333,
              "#9c179e"
             ],
             [
              0.4444444444444444,
              "#bd3786"
             ],
             [
              0.5555555555555556,
              "#d8576b"
             ],
             [
              0.6666666666666666,
              "#ed7953"
             ],
             [
              0.7777777777777778,
              "#fb9f3a"
             ],
             [
              0.8888888888888888,
              "#fdca26"
             ],
             [
              1,
              "#f0f921"
             ]
            ],
            "type": "histogram2d"
           }
          ],
          "histogram2dcontour": [
           {
            "colorbar": {
             "outlinewidth": 0,
             "ticks": ""
            },
            "colorscale": [
             [
              0,
              "#0d0887"
             ],
             [
              0.1111111111111111,
              "#46039f"
             ],
             [
              0.2222222222222222,
              "#7201a8"
             ],
             [
              0.3333333333333333,
              "#9c179e"
             ],
             [
              0.4444444444444444,
              "#bd3786"
             ],
             [
              0.5555555555555556,
              "#d8576b"
             ],
             [
              0.6666666666666666,
              "#ed7953"
             ],
             [
              0.7777777777777778,
              "#fb9f3a"
             ],
             [
              0.8888888888888888,
              "#fdca26"
             ],
             [
              1,
              "#f0f921"
             ]
            ],
            "type": "histogram2dcontour"
           }
          ],
          "mesh3d": [
           {
            "colorbar": {
             "outlinewidth": 0,
             "ticks": ""
            },
            "type": "mesh3d"
           }
          ],
          "parcoords": [
           {
            "line": {
             "colorbar": {
              "outlinewidth": 0,
              "ticks": ""
             }
            },
            "type": "parcoords"
           }
          ],
          "pie": [
           {
            "automargin": true,
            "type": "pie"
           }
          ],
          "scatter": [
           {
            "fillpattern": {
             "fillmode": "overlay",
             "size": 10,
             "solidity": 0.2
            },
            "type": "scatter"
           }
          ],
          "scatter3d": [
           {
            "line": {
             "colorbar": {
              "outlinewidth": 0,
              "ticks": ""
             }
            },
            "marker": {
             "colorbar": {
              "outlinewidth": 0,
              "ticks": ""
             }
            },
            "type": "scatter3d"
           }
          ],
          "scattercarpet": [
           {
            "marker": {
             "colorbar": {
              "outlinewidth": 0,
              "ticks": ""
             }
            },
            "type": "scattercarpet"
           }
          ],
          "scattergeo": [
           {
            "marker": {
             "colorbar": {
              "outlinewidth": 0,
              "ticks": ""
             }
            },
            "type": "scattergeo"
           }
          ],
          "scattergl": [
           {
            "marker": {
             "colorbar": {
              "outlinewidth": 0,
              "ticks": ""
             }
            },
            "type": "scattergl"
           }
          ],
          "scattermapbox": [
           {
            "marker": {
             "colorbar": {
              "outlinewidth": 0,
              "ticks": ""
             }
            },
            "type": "scattermapbox"
           }
          ],
          "scatterpolar": [
           {
            "marker": {
             "colorbar": {
              "outlinewidth": 0,
              "ticks": ""
             }
            },
            "type": "scatterpolar"
           }
          ],
          "scatterpolargl": [
           {
            "marker": {
             "colorbar": {
              "outlinewidth": 0,
              "ticks": ""
             }
            },
            "type": "scatterpolargl"
           }
          ],
          "scatterternary": [
           {
            "marker": {
             "colorbar": {
              "outlinewidth": 0,
              "ticks": ""
             }
            },
            "type": "scatterternary"
           }
          ],
          "surface": [
           {
            "colorbar": {
             "outlinewidth": 0,
             "ticks": ""
            },
            "colorscale": [
             [
              0,
              "#0d0887"
             ],
             [
              0.1111111111111111,
              "#46039f"
             ],
             [
              0.2222222222222222,
              "#7201a8"
             ],
             [
              0.3333333333333333,
              "#9c179e"
             ],
             [
              0.4444444444444444,
              "#bd3786"
             ],
             [
              0.5555555555555556,
              "#d8576b"
             ],
             [
              0.6666666666666666,
              "#ed7953"
             ],
             [
              0.7777777777777778,
              "#fb9f3a"
             ],
             [
              0.8888888888888888,
              "#fdca26"
             ],
             [
              1,
              "#f0f921"
             ]
            ],
            "type": "surface"
           }
          ],
          "table": [
           {
            "cells": {
             "fill": {
              "color": "#EBF0F8"
             },
             "line": {
              "color": "white"
             }
            },
            "header": {
             "fill": {
              "color": "#C8D4E3"
             },
             "line": {
              "color": "white"
             }
            },
            "type": "table"
           }
          ]
         },
         "layout": {
          "annotationdefaults": {
           "arrowcolor": "#2a3f5f",
           "arrowhead": 0,
           "arrowwidth": 1
          },
          "autotypenumbers": "strict",
          "coloraxis": {
           "colorbar": {
            "outlinewidth": 0,
            "ticks": ""
           }
          },
          "colorscale": {
           "diverging": [
            [
             0,
             "#8e0152"
            ],
            [
             0.1,
             "#c51b7d"
            ],
            [
             0.2,
             "#de77ae"
            ],
            [
             0.3,
             "#f1b6da"
            ],
            [
             0.4,
             "#fde0ef"
            ],
            [
             0.5,
             "#f7f7f7"
            ],
            [
             0.6,
             "#e6f5d0"
            ],
            [
             0.7,
             "#b8e186"
            ],
            [
             0.8,
             "#7fbc41"
            ],
            [
             0.9,
             "#4d9221"
            ],
            [
             1,
             "#276419"
            ]
           ],
           "sequential": [
            [
             0,
             "#0d0887"
            ],
            [
             0.1111111111111111,
             "#46039f"
            ],
            [
             0.2222222222222222,
             "#7201a8"
            ],
            [
             0.3333333333333333,
             "#9c179e"
            ],
            [
             0.4444444444444444,
             "#bd3786"
            ],
            [
             0.5555555555555556,
             "#d8576b"
            ],
            [
             0.6666666666666666,
             "#ed7953"
            ],
            [
             0.7777777777777778,
             "#fb9f3a"
            ],
            [
             0.8888888888888888,
             "#fdca26"
            ],
            [
             1,
             "#f0f921"
            ]
           ],
           "sequentialminus": [
            [
             0,
             "#0d0887"
            ],
            [
             0.1111111111111111,
             "#46039f"
            ],
            [
             0.2222222222222222,
             "#7201a8"
            ],
            [
             0.3333333333333333,
             "#9c179e"
            ],
            [
             0.4444444444444444,
             "#bd3786"
            ],
            [
             0.5555555555555556,
             "#d8576b"
            ],
            [
             0.6666666666666666,
             "#ed7953"
            ],
            [
             0.7777777777777778,
             "#fb9f3a"
            ],
            [
             0.8888888888888888,
             "#fdca26"
            ],
            [
             1,
             "#f0f921"
            ]
           ]
          },
          "colorway": [
           "#636efa",
           "#EF553B",
           "#00cc96",
           "#ab63fa",
           "#FFA15A",
           "#19d3f3",
           "#FF6692",
           "#B6E880",
           "#FF97FF",
           "#FECB52"
          ],
          "font": {
           "color": "#2a3f5f"
          },
          "geo": {
           "bgcolor": "white",
           "lakecolor": "white",
           "landcolor": "#E5ECF6",
           "showlakes": true,
           "showland": true,
           "subunitcolor": "white"
          },
          "hoverlabel": {
           "align": "left"
          },
          "hovermode": "closest",
          "mapbox": {
           "style": "light"
          },
          "paper_bgcolor": "white",
          "plot_bgcolor": "#E5ECF6",
          "polar": {
           "angularaxis": {
            "gridcolor": "white",
            "linecolor": "white",
            "ticks": ""
           },
           "bgcolor": "#E5ECF6",
           "radialaxis": {
            "gridcolor": "white",
            "linecolor": "white",
            "ticks": ""
           }
          },
          "scene": {
           "xaxis": {
            "backgroundcolor": "#E5ECF6",
            "gridcolor": "white",
            "gridwidth": 2,
            "linecolor": "white",
            "showbackground": true,
            "ticks": "",
            "zerolinecolor": "white"
           },
           "yaxis": {
            "backgroundcolor": "#E5ECF6",
            "gridcolor": "white",
            "gridwidth": 2,
            "linecolor": "white",
            "showbackground": true,
            "ticks": "",
            "zerolinecolor": "white"
           },
           "zaxis": {
            "backgroundcolor": "#E5ECF6",
            "gridcolor": "white",
            "gridwidth": 2,
            "linecolor": "white",
            "showbackground": true,
            "ticks": "",
            "zerolinecolor": "white"
           }
          },
          "shapedefaults": {
           "line": {
            "color": "#2a3f5f"
           }
          },
          "ternary": {
           "aaxis": {
            "gridcolor": "white",
            "linecolor": "white",
            "ticks": ""
           },
           "baxis": {
            "gridcolor": "white",
            "linecolor": "white",
            "ticks": ""
           },
           "bgcolor": "#E5ECF6",
           "caxis": {
            "gridcolor": "white",
            "linecolor": "white",
            "ticks": ""
           }
          },
          "title": {
           "x": 0.05
          },
          "xaxis": {
           "automargin": true,
           "gridcolor": "white",
           "linecolor": "white",
           "ticks": "",
           "title": {
            "standoff": 15
           },
           "zerolinecolor": "white",
           "zerolinewidth": 2
          },
          "yaxis": {
           "automargin": true,
           "gridcolor": "white",
           "linecolor": "white",
           "ticks": "",
           "title": {
            "standoff": 15
           },
           "zerolinecolor": "white",
           "zerolinewidth": 2
          }
         }
        },
        "title": {
         "font": {
          "size": 20
         },
         "text": "Maximum CO2E_100YR Emissions by State in India",
         "x": 0.5,
         "xanchor": "center"
        },
        "xaxis": {
         "anchor": "y",
         "domain": [
          0,
          0.94
         ]
        },
        "yaxis": {
         "anchor": "x",
         "domain": [
          0,
          1
         ]
        },
        "yaxis2": {
         "anchor": "x",
         "overlaying": "y",
         "side": "right"
        }
       }
      }
     },
     "metadata": {},
     "output_type": "display_data"
    }
   ],
   "source": [
    "maps['co2e_100yr'].show()"
   ]
  },
  {
   "cell_type": "code",
   "execution_count": 42,
   "metadata": {},
   "outputs": [
    {
     "data": {
      "application/vnd.plotly.v1+json": {
       "config": {
        "plotlyServerURL": "https://plot.ly"
       },
       "data": [
        {
         "colorbar": {
          "len": 0.75,
          "thickness": 20,
          "title": {
           "text": "CO2E_20YR Emissions"
          },
          "y": 0.5
         },
         "colorscale": [
          [
           0,
           "rgb(255,245,240)"
          ],
          [
           0.125,
           "rgb(254,224,210)"
          ],
          [
           0.25,
           "rgb(252,187,161)"
          ],
          [
           0.375,
           "rgb(252,146,114)"
          ],
          [
           0.5,
           "rgb(251,106,74)"
          ],
          [
           0.625,
           "rgb(239,59,44)"
          ],
          [
           0.75,
           "rgb(203,24,29)"
          ],
          [
           0.875,
           "rgb(165,15,21)"
          ],
          [
           1,
           "rgb(103,0,13)"
          ]
         ],
         "featureidkey": "properties.state",
         "geojson": {
          "features": [
           {
            "geometry": {
             "coordinates": [
              [
               [
                85.875,
                21.625
               ],
               [
                85.875,
                21.875
               ],
               [
                86.125,
                21.875
               ],
               [
                86.125,
                21.625
               ],
               [
                85.875,
                21.625
               ]
              ]
             ],
             "type": "Polygon"
            },
            "properties": {
             "name": "Odisha",
             "state": "Odisha"
            },
            "type": "Feature"
           },
           {
            "geometry": {
             "coordinates": [
              [
               [
                78.125,
                13.125
               ],
               [
                78.125,
                13.375
               ],
               [
                78.375,
                13.375
               ],
               [
                78.375,
                13.125
               ],
               [
                78.125,
                13.125
               ]
              ]
             ],
             "type": "Polygon"
            },
            "properties": {
             "name": "Andhra Pradesh",
             "state": "Andhra Pradesh"
            },
            "type": "Feature"
           },
           {
            "geometry": {
             "coordinates": [
              [
               [
                72.875,
                22.375
               ],
               [
                72.875,
                22.625
               ],
               [
                73.125,
                22.625
               ],
               [
                73.125,
                22.375
               ],
               [
                72.875,
                22.375
               ]
              ]
             ],
             "type": "Polygon"
            },
            "properties": {
             "name": "Gujarat",
             "state": "Gujarat"
            },
            "type": "Feature"
           },
           {
            "geometry": {
             "coordinates": [
              [
               [
                76.625,
                31.125
               ],
               [
                76.625,
                31.375
               ],
               [
                76.875,
                31.375
               ],
               [
                76.875,
                31.125
               ],
               [
                76.625,
                31.125
               ]
              ]
             ],
             "type": "Polygon"
            },
            "properties": {
             "name": "Himachal Pradesh",
             "state": "Himachal Pradesh"
            },
            "type": "Feature"
           },
           {
            "geometry": {
             "coordinates": [
              [
               [
                87.875,
                21.625
               ],
               [
                87.875,
                21.875
               ],
               [
                88.125,
                21.875
               ],
               [
                88.125,
                21.625
               ],
               [
                87.875,
                21.625
               ]
              ]
             ],
             "type": "Polygon"
            },
            "properties": {
             "name": "West Bengal",
             "state": "West Bengal"
            },
            "type": "Feature"
           },
           {
            "geometry": {
             "coordinates": [
              [
               [
                71.625,
                24.375
               ],
               [
                71.625,
                24.625
               ],
               [
                71.875,
                24.625
               ],
               [
                71.875,
                24.375
               ],
               [
                71.625,
                24.375
               ]
              ]
             ],
             "type": "Polygon"
            },
            "properties": {
             "name": "Rajasthan",
             "state": "Rajasthan"
            },
            "type": "Feature"
           },
           {
            "geometry": {
             "coordinates": [
              [
               [
                75.125,
                20.625
               ],
               [
                75.125,
                20.875
               ],
               [
                75.375,
                20.875
               ],
               [
                75.375,
                20.625
               ],
               [
                75.125,
                20.625
               ]
              ]
             ],
             "type": "Polygon"
            },
            "properties": {
             "name": "Maharashtra",
             "state": "Maharashtra"
            },
            "type": "Feature"
           },
           {
            "geometry": {
             "coordinates": [
              [
               [
                78.375,
                25.375
               ],
               [
                78.375,
                25.625
               ],
               [
                78.625,
                25.625
               ],
               [
                78.625,
                25.375
               ],
               [
                78.375,
                25.375
               ]
              ]
             ],
             "type": "Polygon"
            },
            "properties": {
             "name": "Uttar Pradesh",
             "state": "Uttar Pradesh"
            },
            "type": "Feature"
           },
           {
            "geometry": {
             "coordinates": [
              [
               [
                83.125,
                20.875
               ],
               [
                83.125,
                21.125
               ],
               [
                83.375,
                21.125
               ],
               [
                83.375,
                20.875
               ],
               [
                83.125,
                20.875
               ]
              ]
             ],
             "type": "Polygon"
            },
            "properties": {
             "name": "Chhattisgarh",
             "state": "Chhattisgarh"
            },
            "type": "Feature"
           },
           {
            "geometry": {
             "coordinates": [
              [
               [
                74.875,
                12.875
               ],
               [
                74.875,
                13.125
               ],
               [
                75.125,
                13.125
               ],
               [
                75.125,
                12.875
               ],
               [
                74.875,
                12.875
               ]
              ]
             ],
             "type": "Polygon"
            },
            "properties": {
             "name": "Karnataka",
             "state": "Karnataka"
            },
            "type": "Feature"
           },
           {
            "geometry": {
             "coordinates": [
              [
               [
                85.375,
                22.125
               ],
               [
                85.375,
                22.375
               ],
               [
                85.625,
                22.375
               ],
               [
                85.625,
                22.125
               ],
               [
                85.375,
                22.125
               ]
              ]
             ],
             "type": "Polygon"
            },
            "properties": {
             "name": "Jharkhand",
             "state": "Jharkhand"
            },
            "type": "Feature"
           },
           {
            "geometry": {
             "coordinates": [
              [
               [
                77.625,
                16.875
               ],
               [
                77.625,
                17.125
               ],
               [
                77.875,
                17.125
               ],
               [
                77.875,
                16.875
               ],
               [
                77.625,
                16.875
               ]
              ]
             ],
             "type": "Polygon"
            },
            "properties": {
             "name": "Telangana",
             "state": "Telangana"
            },
            "type": "Feature"
           },
           {
            "geometry": {
             "coordinates": [
              [
               [
                92.375,
                25.125
               ],
               [
                92.375,
                25.375
               ],
               [
                92.625,
                25.375
               ],
               [
                92.625,
                25.125
               ],
               [
                92.375,
                25.125
               ]
              ]
             ],
             "type": "Polygon"
            },
            "properties": {
             "name": "Assam",
             "state": "Assam"
            },
            "type": "Feature"
           },
           {
            "geometry": {
             "coordinates": [
              [
               [
                77.125,
                9.125
               ],
               [
                77.125,
                9.375
               ],
               [
                77.375,
                9.375
               ],
               [
                77.375,
                9.125
               ],
               [
                77.125,
                9.125
               ]
              ]
             ],
             "type": "Polygon"
            },
            "properties": {
             "name": "Tamil Nadu",
             "state": "Tamil Nadu"
            },
            "type": "Feature"
           },
           {
            "geometry": {
             "coordinates": [
              [
               [
                83.875,
                25.125
               ],
               [
                83.875,
                25.375
               ],
               [
                84.125,
                25.375
               ],
               [
                84.125,
                25.125
               ],
               [
                83.875,
                25.125
               ]
              ]
             ],
             "type": "Polygon"
            },
            "properties": {
             "name": "Bihar",
             "state": "Bihar"
            },
            "type": "Feature"
           },
           {
            "geometry": {
             "coordinates": [
              [
               [
                75.875,
                28.375
               ],
               [
                75.875,
                28.625
               ],
               [
                76.125,
                28.625
               ],
               [
                76.125,
                28.375
               ],
               [
                75.875,
                28.375
               ]
              ]
             ],
             "type": "Polygon"
            },
            "properties": {
             "name": "Haryana",
             "state": "Haryana"
            },
            "type": "Feature"
           },
           {
            "geometry": {
             "coordinates": [
              [
               [
                78.125,
                22.125
               ],
               [
                78.125,
                22.375
               ],
               [
                78.375,
                22.375
               ],
               [
                78.375,
                22.125
               ],
               [
                78.125,
                22.125
               ]
              ]
             ],
             "type": "Polygon"
            },
            "properties": {
             "name": "Madhya Pradesh",
             "state": "Madhya Pradesh"
            },
            "type": "Feature"
           },
           {
            "geometry": {
             "coordinates": [
              [
               [
                93.125,
                23.125
               ],
               [
                93.125,
                23.375
               ],
               [
                93.375,
                23.375
               ],
               [
                93.375,
                23.125
               ],
               [
                93.125,
                23.125
               ]
              ]
             ],
             "type": "Polygon"
            },
            "properties": {
             "name": "Mizoram",
             "state": "Mizoram"
            },
            "type": "Feature"
           },
           {
            "geometry": {
             "coordinates": [
              [
               [
                94.375,
                25.125
               ],
               [
                94.375,
                25.375
               ],
               [
                94.625,
                25.375
               ],
               [
                94.625,
                25.125
               ],
               [
                94.375,
                25.125
               ]
              ]
             ],
             "type": "Polygon"
            },
            "properties": {
             "name": "Manipur",
             "state": "Manipur"
            },
            "type": "Feature"
           },
           {
            "geometry": {
             "coordinates": [
              [
               [
                75.875,
                30.125
               ],
               [
                75.875,
                30.375
               ],
               [
                76.125,
                30.375
               ],
               [
                76.125,
                30.125
               ],
               [
                75.875,
                30.125
               ]
              ]
             ],
             "type": "Polygon"
            },
            "properties": {
             "name": "Punjab",
             "state": "Punjab"
            },
            "type": "Feature"
           },
           {
            "geometry": {
             "coordinates": [
              [
               [
                74.125,
                33.125
               ],
               [
                74.125,
                33.375
               ],
               [
                74.375,
                33.375
               ],
               [
                74.375,
                33.125
               ],
               [
                74.125,
                33.125
               ]
              ]
             ],
             "type": "Polygon"
            },
            "properties": {
             "name": "Jammu and Kashmir",
             "state": "Jammu and Kashmir"
            },
            "type": "Feature"
           },
           {
            "geometry": {
             "coordinates": [
              [
               [
                90.125,
                25.625
               ],
               [
                90.125,
                25.875
               ],
               [
                90.375,
                25.875
               ],
               [
                90.375,
                25.625
               ],
               [
                90.125,
                25.625
               ]
              ]
             ],
             "type": "Polygon"
            },
            "properties": {
             "name": "Meghalaya",
             "state": "Meghalaya"
            },
            "type": "Feature"
           },
           {
            "geometry": {
             "coordinates": [
              [
               [
                78.125,
                30.875
               ],
               [
                78.125,
                31.125
               ],
               [
                78.375,
                31.125
               ],
               [
                78.375,
                30.875
               ],
               [
                78.125,
                30.875
               ]
              ]
             ],
             "type": "Polygon"
            },
            "properties": {
             "name": "Uttarakhand",
             "state": "Uttarakhand"
            },
            "type": "Feature"
           },
           {
            "geometry": {
             "coordinates": [
              [
               [
                96.125,
                27.875
               ],
               [
                96.125,
                28.125
               ],
               [
                96.375,
                28.125
               ],
               [
                96.375,
                27.875
               ],
               [
                96.125,
                27.875
               ]
              ]
             ],
             "type": "Polygon"
            },
            "properties": {
             "name": "Arunachal Pradesh",
             "state": "Arunachal Pradesh"
            },
            "type": "Feature"
           },
           {
            "geometry": {
             "coordinates": [
              [
               [
                93.625,
                25.625
               ],
               [
                93.625,
                25.875
               ],
               [
                93.875,
                25.875
               ],
               [
                93.875,
                25.625
               ],
               [
                93.625,
                25.625
               ]
              ]
             ],
             "type": "Polygon"
            },
            "properties": {
             "name": "Nagaland",
             "state": "Nagaland"
            },
            "type": "Feature"
           },
           {
            "geometry": {
             "coordinates": [
              [
               [
                92.125,
                24.375
               ],
               [
                92.125,
                24.625
               ],
               [
                92.375,
                24.625
               ],
               [
                92.375,
                24.375
               ],
               [
                92.125,
                24.375
               ]
              ]
             ],
             "type": "Polygon"
            },
            "properties": {
             "name": "Tripura",
             "state": "Tripura"
            },
            "type": "Feature"
           },
           {
            "geometry": {
             "coordinates": [
              [
               [
                76.125,
                11.625
               ],
               [
                76.125,
                11.875
               ],
               [
                76.375,
                11.875
               ],
               [
                76.375,
                11.625
               ],
               [
                76.125,
                11.625
               ]
              ]
             ],
             "type": "Polygon"
            },
            "properties": {
             "name": "Kerala",
             "state": "Kerala"
            },
            "type": "Feature"
           },
           {
            "geometry": {
             "coordinates": [
              [
               [
                79.625,
                10.625
               ],
               [
                79.625,
                10.875
               ],
               [
                79.875,
                10.875
               ],
               [
                79.875,
                10.625
               ],
               [
                79.625,
                10.625
               ]
              ]
             ],
             "type": "Polygon"
            },
            "properties": {
             "name": "Puducherry",
             "state": "Puducherry"
            },
            "type": "Feature"
           },
           {
            "geometry": {
             "coordinates": [
              [
               [
                74.125,
                15.625
               ],
               [
                74.125,
                15.875
               ],
               [
                74.375,
                15.875
               ],
               [
                74.375,
                15.625
               ],
               [
                74.125,
                15.625
               ]
              ]
             ],
             "type": "Polygon"
            },
            "properties": {
             "name": "Goa",
             "state": "Goa"
            },
            "type": "Feature"
           },
           {
            "geometry": {
             "coordinates": [
              [
               [
                77.125,
                28.625
               ],
               [
                77.125,
                28.875
               ],
               [
                77.375,
                28.875
               ],
               [
                77.375,
                28.625
               ],
               [
                77.125,
                28.625
               ]
              ]
             ],
             "type": "Polygon"
            },
            "properties": {
             "name": "NCT of Delhi",
             "state": "NCT of Delhi"
            },
            "type": "Feature"
           },
           {
            "geometry": {
             "coordinates": [
              [
               [
                76.625,
                30.625
               ],
               [
                76.625,
                30.875
               ],
               [
                76.875,
                30.875
               ],
               [
                76.875,
                30.625
               ],
               [
                76.625,
                30.625
               ]
              ]
             ],
             "type": "Polygon"
            },
            "properties": {
             "name": "Chandigarh",
             "state": "Chandigarh"
            },
            "type": "Feature"
           },
           {
            "geometry": {
             "coordinates": [
              [
               [
                72.875,
                19.875
               ],
               [
                72.875,
                20.125
               ],
               [
                73.125,
                20.125
               ],
               [
                73.125,
                19.875
               ],
               [
                72.875,
                19.875
               ]
              ]
             ],
             "type": "Polygon"
            },
            "properties": {
             "name": "Dadra and Nagar Haveli",
             "state": "Dadra and Nagar Haveli"
            },
            "type": "Feature"
           },
           {
            "geometry": {
             "coordinates": [
              [
               [
                88.625,
                27.125
               ],
               [
                88.625,
                27.375
               ],
               [
                88.875,
                27.375
               ],
               [
                88.875,
                27.125
               ],
               [
                88.625,
                27.125
               ]
              ]
             ],
             "type": "Polygon"
            },
            "properties": {
             "name": "Sikkim",
             "state": "Sikkim"
            },
            "type": "Feature"
           },
           {
            "geometry": {
             "coordinates": [
              [
               [
                72.875,
                20.125
               ],
               [
                72.875,
                20.375
               ],
               [
                73.125,
                20.375
               ],
               [
                73.125,
                20.125
               ],
               [
                72.875,
                20.125
               ]
              ]
             ],
             "type": "Polygon"
            },
            "properties": {
             "name": "Daman and Diu",
             "state": "Daman and Diu"
            },
            "type": "Feature"
           }
          ],
          "type": "FeatureCollection"
         },
         "hovertemplate": "<b>%{location}</b><br>CO2E_20YR Emissions: %{z:,.2f}<br><extra></extra>",
         "locations": [
          "Odisha",
          "Andhra Pradesh",
          "Gujarat",
          "Himachal Pradesh",
          "West Bengal",
          "Rajasthan",
          "Maharashtra",
          "Uttar Pradesh",
          "Chhattisgarh",
          "Karnataka",
          "Jharkhand",
          "Telangana",
          "Assam",
          "Tamil Nadu",
          "Bihar",
          "Haryana",
          "Madhya Pradesh",
          "Mizoram",
          "Manipur",
          "Punjab",
          "Jammu and Kashmir",
          "Meghalaya",
          "Uttarakhand",
          "Arunachal Pradesh",
          "Nagaland",
          "Tripura",
          "Kerala",
          "Puducherry",
          "Goa",
          "NCT of Delhi",
          "Chandigarh",
          "Dadra and Nagar Haveli",
          "Sikkim",
          "Daman and Diu"
         ],
         "marker": {
          "line": {
           "color": "black",
           "width": 1.5
          }
         },
         "name": "CO2E_20YR Emissions",
         "type": "choropleth",
         "z": [
          40251.19752172915,
          72129.53794511003,
          46201.01233108435,
          20702.432393149247,
          30752.443021176576,
          91429.34869354004,
          120549.7033125598,
          125991.86555025908,
          95465.9661431132,
          34810.74045101721,
          14805.964950969024,
          61653.23557025068,
          47072.83985217677,
          27477.791619655098,
          91253.22930327745,
          109021.80009708685,
          266336.6088234257,
          5932.641341839968,
          14335.09526718259,
          419557.55520847393,
          33248.56389534086,
          5571.511333452288,
          18304.72401368217,
          3954.038648329728,
          7776.535843351296,
          727.010124811488,
          22542.30757247616,
          2757.742209077184,
          698.550075808704,
          10158.045136438752,
          1847.731127232816,
          856.805811918336,
          271.9741344788161,
          575.7374535071039
         ]
        },
        {
         "lat": [],
         "line": {
          "color": "gray",
          "width": 0.5
         },
         "lon": [],
         "mode": "lines",
         "showlegend": false,
         "type": "scattergeo"
        },
        {
         "hoverinfo": "skip",
         "lat": [
          21.75,
          13.25,
          22.5,
          31.25,
          21.75,
          24.5,
          20.75,
          25.5,
          21,
          13,
          22.25,
          17,
          25.25,
          9.25,
          25.25,
          28.5,
          22.25,
          23.25,
          25.25,
          30.25,
          33.25,
          25.75,
          31,
          28,
          25.75,
          24.5,
          11.75,
          10.75,
          15.75,
          28.75,
          30.75,
          20,
          27.25,
          20.25
         ],
         "lon": [
          86.425,
          78.675,
          73.425,
          77.175,
          88.425,
          72.175,
          75.675,
          78.925,
          83.675,
          75.425,
          85.925,
          78.175,
          92.925,
          77.675,
          84.425,
          76.425,
          78.675,
          93.675,
          94.925,
          76.425,
          74.675,
          90.675,
          78.675,
          96.675,
          94.175,
          92.675,
          76.675,
          80.175,
          74.675,
          77.675,
          77.175,
          73.425,
          89.175,
          73.425
         ],
         "mode": "text",
         "showlegend": false,
         "text": [
          "Odisha",
          "Andhra Pradesh",
          "Gujarat",
          "Himachal Pradesh",
          "West Bengal",
          "Rajasthan",
          "Maharashtra",
          "Uttar Pradesh",
          "Chhattisgarh",
          "Karnataka",
          "Jharkhand",
          "Telangana",
          "Assam",
          "Tamil Nadu",
          "Bihar",
          "Haryana",
          "Madhya Pradesh",
          "Mizoram",
          "Manipur",
          "Punjab",
          "Jammu and Kashmir",
          "Meghalaya",
          "Uttarakhand",
          "Arunachal Pradesh",
          "Nagaland",
          "Tripura",
          "Kerala",
          "Puducherry",
          "Goa",
          "NCT of Delhi",
          "Chandigarh",
          "Dadra and Nagar Haveli",
          "Sikkim",
          "Daman and Diu"
         ],
         "textfont": {
          "color": "black",
          "family": "Arial",
          "size": 10
         },
         "textposition": "middle right",
         "type": "scattergeo"
        }
       ],
       "layout": {
        "geo": {
         "center": {
          "lat": 20.5937,
          "lon": 78.9629
         },
         "coastlinecolor": "Black",
         "countrycolor": "Black",
         "countrywidth": 1,
         "fitbounds": "locations",
         "lakecolor": "lightblue",
         "landcolor": "lightgray",
         "oceancolor": "lightblue",
         "projection": {
          "scale": 4
         },
         "resolution": 50,
         "showcoastlines": true,
         "showcountries": true,
         "showlakes": true,
         "showland": true,
         "showocean": true,
         "showsubunits": true,
         "subunitcolor": "Black",
         "subunitwidth": 1,
         "visible": true
        },
        "height": 800,
        "margin": {
         "b": 0,
         "l": 0,
         "r": 0,
         "t": 50
        },
        "paper_bgcolor": "white",
        "plot_bgcolor": "white",
        "template": {
         "data": {
          "bar": [
           {
            "error_x": {
             "color": "#2a3f5f"
            },
            "error_y": {
             "color": "#2a3f5f"
            },
            "marker": {
             "line": {
              "color": "#E5ECF6",
              "width": 0.5
             },
             "pattern": {
              "fillmode": "overlay",
              "size": 10,
              "solidity": 0.2
             }
            },
            "type": "bar"
           }
          ],
          "barpolar": [
           {
            "marker": {
             "line": {
              "color": "#E5ECF6",
              "width": 0.5
             },
             "pattern": {
              "fillmode": "overlay",
              "size": 10,
              "solidity": 0.2
             }
            },
            "type": "barpolar"
           }
          ],
          "carpet": [
           {
            "aaxis": {
             "endlinecolor": "#2a3f5f",
             "gridcolor": "white",
             "linecolor": "white",
             "minorgridcolor": "white",
             "startlinecolor": "#2a3f5f"
            },
            "baxis": {
             "endlinecolor": "#2a3f5f",
             "gridcolor": "white",
             "linecolor": "white",
             "minorgridcolor": "white",
             "startlinecolor": "#2a3f5f"
            },
            "type": "carpet"
           }
          ],
          "choropleth": [
           {
            "colorbar": {
             "outlinewidth": 0,
             "ticks": ""
            },
            "type": "choropleth"
           }
          ],
          "contour": [
           {
            "colorbar": {
             "outlinewidth": 0,
             "ticks": ""
            },
            "colorscale": [
             [
              0,
              "#0d0887"
             ],
             [
              0.1111111111111111,
              "#46039f"
             ],
             [
              0.2222222222222222,
              "#7201a8"
             ],
             [
              0.3333333333333333,
              "#9c179e"
             ],
             [
              0.4444444444444444,
              "#bd3786"
             ],
             [
              0.5555555555555556,
              "#d8576b"
             ],
             [
              0.6666666666666666,
              "#ed7953"
             ],
             [
              0.7777777777777778,
              "#fb9f3a"
             ],
             [
              0.8888888888888888,
              "#fdca26"
             ],
             [
              1,
              "#f0f921"
             ]
            ],
            "type": "contour"
           }
          ],
          "contourcarpet": [
           {
            "colorbar": {
             "outlinewidth": 0,
             "ticks": ""
            },
            "type": "contourcarpet"
           }
          ],
          "heatmap": [
           {
            "colorbar": {
             "outlinewidth": 0,
             "ticks": ""
            },
            "colorscale": [
             [
              0,
              "#0d0887"
             ],
             [
              0.1111111111111111,
              "#46039f"
             ],
             [
              0.2222222222222222,
              "#7201a8"
             ],
             [
              0.3333333333333333,
              "#9c179e"
             ],
             [
              0.4444444444444444,
              "#bd3786"
             ],
             [
              0.5555555555555556,
              "#d8576b"
             ],
             [
              0.6666666666666666,
              "#ed7953"
             ],
             [
              0.7777777777777778,
              "#fb9f3a"
             ],
             [
              0.8888888888888888,
              "#fdca26"
             ],
             [
              1,
              "#f0f921"
             ]
            ],
            "type": "heatmap"
           }
          ],
          "heatmapgl": [
           {
            "colorbar": {
             "outlinewidth": 0,
             "ticks": ""
            },
            "colorscale": [
             [
              0,
              "#0d0887"
             ],
             [
              0.1111111111111111,
              "#46039f"
             ],
             [
              0.2222222222222222,
              "#7201a8"
             ],
             [
              0.3333333333333333,
              "#9c179e"
             ],
             [
              0.4444444444444444,
              "#bd3786"
             ],
             [
              0.5555555555555556,
              "#d8576b"
             ],
             [
              0.6666666666666666,
              "#ed7953"
             ],
             [
              0.7777777777777778,
              "#fb9f3a"
             ],
             [
              0.8888888888888888,
              "#fdca26"
             ],
             [
              1,
              "#f0f921"
             ]
            ],
            "type": "heatmapgl"
           }
          ],
          "histogram": [
           {
            "marker": {
             "pattern": {
              "fillmode": "overlay",
              "size": 10,
              "solidity": 0.2
             }
            },
            "type": "histogram"
           }
          ],
          "histogram2d": [
           {
            "colorbar": {
             "outlinewidth": 0,
             "ticks": ""
            },
            "colorscale": [
             [
              0,
              "#0d0887"
             ],
             [
              0.1111111111111111,
              "#46039f"
             ],
             [
              0.2222222222222222,
              "#7201a8"
             ],
             [
              0.3333333333333333,
              "#9c179e"
             ],
             [
              0.4444444444444444,
              "#bd3786"
             ],
             [
              0.5555555555555556,
              "#d8576b"
             ],
             [
              0.6666666666666666,
              "#ed7953"
             ],
             [
              0.7777777777777778,
              "#fb9f3a"
             ],
             [
              0.8888888888888888,
              "#fdca26"
             ],
             [
              1,
              "#f0f921"
             ]
            ],
            "type": "histogram2d"
           }
          ],
          "histogram2dcontour": [
           {
            "colorbar": {
             "outlinewidth": 0,
             "ticks": ""
            },
            "colorscale": [
             [
              0,
              "#0d0887"
             ],
             [
              0.1111111111111111,
              "#46039f"
             ],
             [
              0.2222222222222222,
              "#7201a8"
             ],
             [
              0.3333333333333333,
              "#9c179e"
             ],
             [
              0.4444444444444444,
              "#bd3786"
             ],
             [
              0.5555555555555556,
              "#d8576b"
             ],
             [
              0.6666666666666666,
              "#ed7953"
             ],
             [
              0.7777777777777778,
              "#fb9f3a"
             ],
             [
              0.8888888888888888,
              "#fdca26"
             ],
             [
              1,
              "#f0f921"
             ]
            ],
            "type": "histogram2dcontour"
           }
          ],
          "mesh3d": [
           {
            "colorbar": {
             "outlinewidth": 0,
             "ticks": ""
            },
            "type": "mesh3d"
           }
          ],
          "parcoords": [
           {
            "line": {
             "colorbar": {
              "outlinewidth": 0,
              "ticks": ""
             }
            },
            "type": "parcoords"
           }
          ],
          "pie": [
           {
            "automargin": true,
            "type": "pie"
           }
          ],
          "scatter": [
           {
            "fillpattern": {
             "fillmode": "overlay",
             "size": 10,
             "solidity": 0.2
            },
            "type": "scatter"
           }
          ],
          "scatter3d": [
           {
            "line": {
             "colorbar": {
              "outlinewidth": 0,
              "ticks": ""
             }
            },
            "marker": {
             "colorbar": {
              "outlinewidth": 0,
              "ticks": ""
             }
            },
            "type": "scatter3d"
           }
          ],
          "scattercarpet": [
           {
            "marker": {
             "colorbar": {
              "outlinewidth": 0,
              "ticks": ""
             }
            },
            "type": "scattercarpet"
           }
          ],
          "scattergeo": [
           {
            "marker": {
             "colorbar": {
              "outlinewidth": 0,
              "ticks": ""
             }
            },
            "type": "scattergeo"
           }
          ],
          "scattergl": [
           {
            "marker": {
             "colorbar": {
              "outlinewidth": 0,
              "ticks": ""
             }
            },
            "type": "scattergl"
           }
          ],
          "scattermapbox": [
           {
            "marker": {
             "colorbar": {
              "outlinewidth": 0,
              "ticks": ""
             }
            },
            "type": "scattermapbox"
           }
          ],
          "scatterpolar": [
           {
            "marker": {
             "colorbar": {
              "outlinewidth": 0,
              "ticks": ""
             }
            },
            "type": "scatterpolar"
           }
          ],
          "scatterpolargl": [
           {
            "marker": {
             "colorbar": {
              "outlinewidth": 0,
              "ticks": ""
             }
            },
            "type": "scatterpolargl"
           }
          ],
          "scatterternary": [
           {
            "marker": {
             "colorbar": {
              "outlinewidth": 0,
              "ticks": ""
             }
            },
            "type": "scatterternary"
           }
          ],
          "surface": [
           {
            "colorbar": {
             "outlinewidth": 0,
             "ticks": ""
            },
            "colorscale": [
             [
              0,
              "#0d0887"
             ],
             [
              0.1111111111111111,
              "#46039f"
             ],
             [
              0.2222222222222222,
              "#7201a8"
             ],
             [
              0.3333333333333333,
              "#9c179e"
             ],
             [
              0.4444444444444444,
              "#bd3786"
             ],
             [
              0.5555555555555556,
              "#d8576b"
             ],
             [
              0.6666666666666666,
              "#ed7953"
             ],
             [
              0.7777777777777778,
              "#fb9f3a"
             ],
             [
              0.8888888888888888,
              "#fdca26"
             ],
             [
              1,
              "#f0f921"
             ]
            ],
            "type": "surface"
           }
          ],
          "table": [
           {
            "cells": {
             "fill": {
              "color": "#EBF0F8"
             },
             "line": {
              "color": "white"
             }
            },
            "header": {
             "fill": {
              "color": "#C8D4E3"
             },
             "line": {
              "color": "white"
             }
            },
            "type": "table"
           }
          ]
         },
         "layout": {
          "annotationdefaults": {
           "arrowcolor": "#2a3f5f",
           "arrowhead": 0,
           "arrowwidth": 1
          },
          "autotypenumbers": "strict",
          "coloraxis": {
           "colorbar": {
            "outlinewidth": 0,
            "ticks": ""
           }
          },
          "colorscale": {
           "diverging": [
            [
             0,
             "#8e0152"
            ],
            [
             0.1,
             "#c51b7d"
            ],
            [
             0.2,
             "#de77ae"
            ],
            [
             0.3,
             "#f1b6da"
            ],
            [
             0.4,
             "#fde0ef"
            ],
            [
             0.5,
             "#f7f7f7"
            ],
            [
             0.6,
             "#e6f5d0"
            ],
            [
             0.7,
             "#b8e186"
            ],
            [
             0.8,
             "#7fbc41"
            ],
            [
             0.9,
             "#4d9221"
            ],
            [
             1,
             "#276419"
            ]
           ],
           "sequential": [
            [
             0,
             "#0d0887"
            ],
            [
             0.1111111111111111,
             "#46039f"
            ],
            [
             0.2222222222222222,
             "#7201a8"
            ],
            [
             0.3333333333333333,
             "#9c179e"
            ],
            [
             0.4444444444444444,
             "#bd3786"
            ],
            [
             0.5555555555555556,
             "#d8576b"
            ],
            [
             0.6666666666666666,
             "#ed7953"
            ],
            [
             0.7777777777777778,
             "#fb9f3a"
            ],
            [
             0.8888888888888888,
             "#fdca26"
            ],
            [
             1,
             "#f0f921"
            ]
           ],
           "sequentialminus": [
            [
             0,
             "#0d0887"
            ],
            [
             0.1111111111111111,
             "#46039f"
            ],
            [
             0.2222222222222222,
             "#7201a8"
            ],
            [
             0.3333333333333333,
             "#9c179e"
            ],
            [
             0.4444444444444444,
             "#bd3786"
            ],
            [
             0.5555555555555556,
             "#d8576b"
            ],
            [
             0.6666666666666666,
             "#ed7953"
            ],
            [
             0.7777777777777778,
             "#fb9f3a"
            ],
            [
             0.8888888888888888,
             "#fdca26"
            ],
            [
             1,
             "#f0f921"
            ]
           ]
          },
          "colorway": [
           "#636efa",
           "#EF553B",
           "#00cc96",
           "#ab63fa",
           "#FFA15A",
           "#19d3f3",
           "#FF6692",
           "#B6E880",
           "#FF97FF",
           "#FECB52"
          ],
          "font": {
           "color": "#2a3f5f"
          },
          "geo": {
           "bgcolor": "white",
           "lakecolor": "white",
           "landcolor": "#E5ECF6",
           "showlakes": true,
           "showland": true,
           "subunitcolor": "white"
          },
          "hoverlabel": {
           "align": "left"
          },
          "hovermode": "closest",
          "mapbox": {
           "style": "light"
          },
          "paper_bgcolor": "white",
          "plot_bgcolor": "#E5ECF6",
          "polar": {
           "angularaxis": {
            "gridcolor": "white",
            "linecolor": "white",
            "ticks": ""
           },
           "bgcolor": "#E5ECF6",
           "radialaxis": {
            "gridcolor": "white",
            "linecolor": "white",
            "ticks": ""
           }
          },
          "scene": {
           "xaxis": {
            "backgroundcolor": "#E5ECF6",
            "gridcolor": "white",
            "gridwidth": 2,
            "linecolor": "white",
            "showbackground": true,
            "ticks": "",
            "zerolinecolor": "white"
           },
           "yaxis": {
            "backgroundcolor": "#E5ECF6",
            "gridcolor": "white",
            "gridwidth": 2,
            "linecolor": "white",
            "showbackground": true,
            "ticks": "",
            "zerolinecolor": "white"
           },
           "zaxis": {
            "backgroundcolor": "#E5ECF6",
            "gridcolor": "white",
            "gridwidth": 2,
            "linecolor": "white",
            "showbackground": true,
            "ticks": "",
            "zerolinecolor": "white"
           }
          },
          "shapedefaults": {
           "line": {
            "color": "#2a3f5f"
           }
          },
          "ternary": {
           "aaxis": {
            "gridcolor": "white",
            "linecolor": "white",
            "ticks": ""
           },
           "baxis": {
            "gridcolor": "white",
            "linecolor": "white",
            "ticks": ""
           },
           "bgcolor": "#E5ECF6",
           "caxis": {
            "gridcolor": "white",
            "linecolor": "white",
            "ticks": ""
           }
          },
          "title": {
           "x": 0.05
          },
          "xaxis": {
           "automargin": true,
           "gridcolor": "white",
           "linecolor": "white",
           "ticks": "",
           "title": {
            "standoff": 15
           },
           "zerolinecolor": "white",
           "zerolinewidth": 2
          },
          "yaxis": {
           "automargin": true,
           "gridcolor": "white",
           "linecolor": "white",
           "ticks": "",
           "title": {
            "standoff": 15
           },
           "zerolinecolor": "white",
           "zerolinewidth": 2
          }
         }
        },
        "title": {
         "font": {
          "size": 20
         },
         "text": "Maximum CO2E_20YR Emissions by State in India",
         "x": 0.5,
         "xanchor": "center"
        },
        "xaxis": {
         "anchor": "y",
         "domain": [
          0,
          0.94
         ]
        },
        "yaxis": {
         "anchor": "x",
         "domain": [
          0,
          1
         ]
        },
        "yaxis2": {
         "anchor": "x",
         "overlaying": "y",
         "side": "right"
        }
       }
      }
     },
     "metadata": {},
     "output_type": "display_data"
    }
   ],
   "source": [
    "maps['co2e_20yr'].show()"
   ]
  },
  {
   "cell_type": "code",
   "execution_count": null,
   "metadata": {},
   "outputs": [],
   "source": []
  }
 ],
 "metadata": {
  "kernelspec": {
   "display_name": ".venv",
   "language": "python",
   "name": "python3"
  },
  "language_info": {
   "codemirror_mode": {
    "name": "ipython",
    "version": 3
   },
   "file_extension": ".py",
   "mimetype": "text/x-python",
   "name": "python",
   "nbconvert_exporter": "python",
   "pygments_lexer": "ipython3",
   "version": "3.12.3"
  }
 },
 "nbformat": 4,
 "nbformat_minor": 2
}
